{
 "cells": [
  {
   "cell_type": "code",
   "execution_count": 300,
   "metadata": {},
   "outputs": [],
   "source": [
    "import pandas as pd\n",
    "import numpy as np\n",
    "from numpy import \n",
    "from sklearn.model_selection import train_test_split # 逻辑回归\n",
    "import sklearn.metrics as metrics # 绘制ROC曲线\n",
    "import statsmodels.api as sma \n",
    "import  matplotlib.pyplot as plt\n",
    "%matplotlib inline\n",
    "plt.rcParams['font.sans-serif'] = ['SimHei'] # 指定默认字体\n",
    "plt.rcParams['axes.unicode_minus'] = False # 解决保存图像时负号‘-’显示为方块的问题"
   ]
  },
  {
   "cell_type": "code",
   "execution_count": 2,
   "metadata": {},
   "outputs": [],
   "source": [
    "cre_score = pd.read_csv('../数据/credit_score.csv') # 信用局评分"
   ]
  },
  {
   "cell_type": "code",
   "execution_count": 3,
   "metadata": {},
   "outputs": [],
   "source": [
    "data1 = pd.read_csv('../task3/data_model.csv')"
   ]
  },
  {
   "cell_type": "code",
   "execution_count": 4,
   "metadata": {},
   "outputs": [],
   "source": [
    "data1.loc[data1.OCCUPATION_TYPE.isna(),'OCCUPATION_TYPE'] = 'Unknow'\n",
    "data1['AGE'] = (-data1['DAYS_BIRTH']/365).apply(lambda x: round(x))\n",
    "data1['WORK_TIME'] = (-data1['DAYS_EMPLOYED']/365).apply(lambda x: round(x))"
   ]
  },
  {
   "cell_type": "code",
   "execution_count": 5,
   "metadata": {},
   "outputs": [],
   "source": [
    "data1.loc[data1['WORK_TIME']==-1001,'WORK_TIME'] = 'Unknow'"
   ]
  },
  {
   "cell_type": "code",
   "execution_count": 6,
   "metadata": {
    "scrolled": false
   },
   "outputs": [
    {
     "data": {
      "text/html": [
       "<div>\n",
       "<style scoped>\n",
       "    .dataframe tbody tr th:only-of-type {\n",
       "        vertical-align: middle;\n",
       "    }\n",
       "\n",
       "    .dataframe tbody tr th {\n",
       "        vertical-align: top;\n",
       "    }\n",
       "\n",
       "    .dataframe thead th {\n",
       "        text-align: right;\n",
       "    }\n",
       "</style>\n",
       "<table border=\"1\" class=\"dataframe\">\n",
       "  <thead>\n",
       "    <tr style=\"text-align: right;\">\n",
       "      <th></th>\n",
       "      <th>Unnamed: 0</th>\n",
       "      <th>ID</th>\n",
       "      <th>is_ovd</th>\n",
       "      <th>CODE_GENDER</th>\n",
       "      <th>FLAG_OWN_CAR</th>\n",
       "      <th>FLAG_OWN_REALTY</th>\n",
       "      <th>CNT_CHILDREN</th>\n",
       "      <th>AMT_INCOME_TOTAL</th>\n",
       "      <th>NAME_INCOME_TYPE</th>\n",
       "      <th>NAME_EDUCATION_TYPE</th>\n",
       "      <th>...</th>\n",
       "      <th>DAYS_BIRTH</th>\n",
       "      <th>DAYS_EMPLOYED</th>\n",
       "      <th>FLAG_MOBIL</th>\n",
       "      <th>FLAG_WORK_PHONE</th>\n",
       "      <th>FLAG_PHONE</th>\n",
       "      <th>FLAG_EMAIL</th>\n",
       "      <th>OCCUPATION_TYPE</th>\n",
       "      <th>CNT_FAM_MEMBERS</th>\n",
       "      <th>AGE</th>\n",
       "      <th>WORK_TIME</th>\n",
       "    </tr>\n",
       "  </thead>\n",
       "  <tbody>\n",
       "    <tr>\n",
       "      <td>0</td>\n",
       "      <td>0</td>\n",
       "      <td>5008806</td>\n",
       "      <td>0.0</td>\n",
       "      <td>M</td>\n",
       "      <td>Y</td>\n",
       "      <td>Y</td>\n",
       "      <td>0</td>\n",
       "      <td>112500.0</td>\n",
       "      <td>Working</td>\n",
       "      <td>Secondary / secondary special</td>\n",
       "      <td>...</td>\n",
       "      <td>-21474</td>\n",
       "      <td>-1134</td>\n",
       "      <td>1</td>\n",
       "      <td>0</td>\n",
       "      <td>0</td>\n",
       "      <td>0</td>\n",
       "      <td>Security staff</td>\n",
       "      <td>2.0</td>\n",
       "      <td>59</td>\n",
       "      <td>3</td>\n",
       "    </tr>\n",
       "    <tr>\n",
       "      <td>1</td>\n",
       "      <td>1</td>\n",
       "      <td>5008809</td>\n",
       "      <td>0.0</td>\n",
       "      <td>F</td>\n",
       "      <td>N</td>\n",
       "      <td>Y</td>\n",
       "      <td>0</td>\n",
       "      <td>270000.0</td>\n",
       "      <td>Commercial associate</td>\n",
       "      <td>Secondary / secondary special</td>\n",
       "      <td>...</td>\n",
       "      <td>-19110</td>\n",
       "      <td>-3051</td>\n",
       "      <td>1</td>\n",
       "      <td>0</td>\n",
       "      <td>1</td>\n",
       "      <td>1</td>\n",
       "      <td>Sales staff</td>\n",
       "      <td>1.0</td>\n",
       "      <td>52</td>\n",
       "      <td>8</td>\n",
       "    </tr>\n",
       "    <tr>\n",
       "      <td>2</td>\n",
       "      <td>2</td>\n",
       "      <td>5008810</td>\n",
       "      <td>0.0</td>\n",
       "      <td>F</td>\n",
       "      <td>N</td>\n",
       "      <td>Y</td>\n",
       "      <td>0</td>\n",
       "      <td>270000.0</td>\n",
       "      <td>Commercial associate</td>\n",
       "      <td>Secondary / secondary special</td>\n",
       "      <td>...</td>\n",
       "      <td>-19110</td>\n",
       "      <td>-3051</td>\n",
       "      <td>1</td>\n",
       "      <td>0</td>\n",
       "      <td>1</td>\n",
       "      <td>1</td>\n",
       "      <td>Sales staff</td>\n",
       "      <td>1.0</td>\n",
       "      <td>52</td>\n",
       "      <td>8</td>\n",
       "    </tr>\n",
       "    <tr>\n",
       "      <td>3</td>\n",
       "      <td>3</td>\n",
       "      <td>5008811</td>\n",
       "      <td>0.0</td>\n",
       "      <td>F</td>\n",
       "      <td>N</td>\n",
       "      <td>Y</td>\n",
       "      <td>0</td>\n",
       "      <td>270000.0</td>\n",
       "      <td>Commercial associate</td>\n",
       "      <td>Secondary / secondary special</td>\n",
       "      <td>...</td>\n",
       "      <td>-19110</td>\n",
       "      <td>-3051</td>\n",
       "      <td>1</td>\n",
       "      <td>0</td>\n",
       "      <td>1</td>\n",
       "      <td>1</td>\n",
       "      <td>Sales staff</td>\n",
       "      <td>1.0</td>\n",
       "      <td>52</td>\n",
       "      <td>8</td>\n",
       "    </tr>\n",
       "    <tr>\n",
       "      <td>4</td>\n",
       "      <td>4</td>\n",
       "      <td>5008812</td>\n",
       "      <td>0.0</td>\n",
       "      <td>F</td>\n",
       "      <td>N</td>\n",
       "      <td>Y</td>\n",
       "      <td>0</td>\n",
       "      <td>283500.0</td>\n",
       "      <td>Pensioner</td>\n",
       "      <td>Higher education</td>\n",
       "      <td>...</td>\n",
       "      <td>-22464</td>\n",
       "      <td>365243</td>\n",
       "      <td>1</td>\n",
       "      <td>0</td>\n",
       "      <td>0</td>\n",
       "      <td>0</td>\n",
       "      <td>Unknow</td>\n",
       "      <td>1.0</td>\n",
       "      <td>62</td>\n",
       "      <td>Unknow</td>\n",
       "    </tr>\n",
       "  </tbody>\n",
       "</table>\n",
       "<p>5 rows × 22 columns</p>\n",
       "</div>"
      ],
      "text/plain": [
       "   Unnamed: 0       ID  is_ovd CODE_GENDER FLAG_OWN_CAR FLAG_OWN_REALTY  \\\n",
       "0           0  5008806     0.0           M            Y               Y   \n",
       "1           1  5008809     0.0           F            N               Y   \n",
       "2           2  5008810     0.0           F            N               Y   \n",
       "3           3  5008811     0.0           F            N               Y   \n",
       "4           4  5008812     0.0           F            N               Y   \n",
       "\n",
       "   CNT_CHILDREN  AMT_INCOME_TOTAL      NAME_INCOME_TYPE  \\\n",
       "0             0          112500.0               Working   \n",
       "1             0          270000.0  Commercial associate   \n",
       "2             0          270000.0  Commercial associate   \n",
       "3             0          270000.0  Commercial associate   \n",
       "4             0          283500.0             Pensioner   \n",
       "\n",
       "             NAME_EDUCATION_TYPE  ... DAYS_BIRTH DAYS_EMPLOYED  FLAG_MOBIL  \\\n",
       "0  Secondary / secondary special  ...     -21474         -1134           1   \n",
       "1  Secondary / secondary special  ...     -19110         -3051           1   \n",
       "2  Secondary / secondary special  ...     -19110         -3051           1   \n",
       "3  Secondary / secondary special  ...     -19110         -3051           1   \n",
       "4               Higher education  ...     -22464        365243           1   \n",
       "\n",
       "   FLAG_WORK_PHONE  FLAG_PHONE  FLAG_EMAIL  OCCUPATION_TYPE  CNT_FAM_MEMBERS  \\\n",
       "0                0           0           0   Security staff              2.0   \n",
       "1                0           1           1      Sales staff              1.0   \n",
       "2                0           1           1      Sales staff              1.0   \n",
       "3                0           1           1      Sales staff              1.0   \n",
       "4                0           0           0           Unknow              1.0   \n",
       "\n",
       "  AGE  WORK_TIME  \n",
       "0  59          3  \n",
       "1  52          8  \n",
       "2  52          8  \n",
       "3  52          8  \n",
       "4  62     Unknow  \n",
       "\n",
       "[5 rows x 22 columns]"
      ]
     },
     "execution_count": 6,
     "metadata": {},
     "output_type": "execute_result"
    }
   ],
   "source": [
    "data1.head()"
   ]
  },
  {
   "cell_type": "markdown",
   "metadata": {},
   "source": [
    "#### 创建虚拟变量"
   ]
  },
  {
   "cell_type": "code",
   "execution_count": 7,
   "metadata": {},
   "outputs": [],
   "source": [
    "# 性别\n",
    "data1.loc[data1['CODE_GENDER']=='F','CODE_GENDER_F'] = 1\n",
    "# 是否有房产\n",
    "data1.loc[data1['FLAG_OWN_REALTY']=='Y','FLAG_OWN_REALTY_Y'] = 1\n",
    "# 年收入\n",
    "data1.loc[data1['AMT_INCOME_TOTAL']<112500,'AMT_INCOME_TOTAL_1'] = 1\n",
    "data1.loc[data1['AMT_INCOME_TOTAL'].isin(range(112500,180000)),'AMT_INCOME_TOTAL_2'] = 1\n",
    "data1.loc[data1['AMT_INCOME_TOTAL'].isin(range(180000,247500)),'AMT_INCOME_TOTAL_3'] = 1\n",
    "# 收入类别\n",
    "data1.loc[data1['NAME_INCOME_TYPE']=='Pensioner','NAME_INCOME_TYPE_1'] = 1\n",
    "data1.loc[data1['NAME_INCOME_TYPE']=='Working','NAME_INCOME_TYPE_2'] = 1\n",
    "data1.loc[data1['NAME_INCOME_TYPE']=='Commercial associate','NAME_INCOME_TYPE_3'] = 1\n",
    "# data.loc[data['NAME_INCOME_TYPE']=='State servant','NAME_INCOME_TYPE_4'] = 1\n",
    "# 教育程度\n",
    "data1.loc[data1['NAME_EDUCATION_TYPE']=='Lower secondary','NAME_EDUCATION_TYPE_1'] = 1\n",
    "data1.loc[data1['NAME_EDUCATION_TYPE']=='Secondary / secondary special','NAME_EDUCATION_TYPE_1'] = 1\n",
    "# 婚姻状态\n",
    "data1.loc[data1['NAME_FAMILY_STATUS']=='Single / not married','NAME_FAMILY_STATUS_1'] = 1\n",
    "data1.loc[data1['NAME_FAMILY_STATUS']=='Widow','NAME_FAMILY_STATUS_1'] = 1\n",
    "data1.loc[data1['NAME_FAMILY_STATUS']=='Separated','NAME_FAMILY_STATUS_2'] = 1\n",
    "data1.loc[data1['NAME_FAMILY_STATUS']=='Civil marriage','NAME_FAMILY_STATUS_3'] = 1\n",
    "# 年龄\n",
    "data1.loc[data1['AGE'].isin(range(0,36)),'AGE_1'] = 1\n",
    "data1.loc[data1['AGE'].isin(range(36,44)),'AGE_2'] = 1\n",
    "# 是否哟email\n",
    "data1.loc[data1['FLAG_EMAIL']==1,'FLAG_EMAIL_Y'] = 1\n",
    "# 职业\n",
    "data1.loc[data1['OCCUPATION_TYPE']=='Drivers','OCCUPATION_TYPE_1'] = 1\n",
    "data1.loc[data1['OCCUPATION_TYPE']=='Laborers','OCCUPATION_TYPE_2'] = 1\n",
    "data1.loc[data1['OCCUPATION_TYPE']=='Managers','OCCUPATION_TYPE_3'] = 1\n",
    "data1.loc[data1['OCCUPATION_TYPE']=='Core staff','OCCUPATION_TYPE_4'] = 1\n",
    "data1.loc[data1['OCCUPATION_TYPE']=='High skill tech staff','OCCUPATION_TYPE_5'] = 1\n",
    "data1.loc[data1['OCCUPATION_TYPE']=='Sales staff','OCCUPATION_TYPE_6'] = 1\n",
    "data1.loc[data1['OCCUPATION_TYPE']=='Unknow','OCCUPATION_TYPE_7'] = 1\n",
    "# 家庭人数\n",
    "data1.loc[data1['CNT_FAM_MEMBERS']<=2 ,'CNT_FAM_MEMBERS_1'] = 1\n",
    "data1.loc[data1['CNT_FAM_MEMBERS']==3 ,'CNT_FAM_MEMBERS_2'] = 1\n",
    "data1.loc[data1['CNT_FAM_MEMBERS']==4 ,'CNT_FAM_MEMBERS_3'] = 1\n",
    "# 工作年限 \n",
    "data1.loc[data1['WORK_TIME']=='Unknow','WORK_TIME_1'] = 1\n",
    "data1.loc[data1['WORK_TIME'].isin(range(2,8)),'WORK_TIME_2'] = 1\n",
    "data1.loc[data1['WORK_TIME'].isin(range(8,1000)),'WORK_TIME_3'] = 1 # -----------8以上合起来了！---------\n",
    "# 填充缺失值\n",
    "data1.fillna(0,inplace=True)"
   ]
  },
  {
   "cell_type": "code",
   "execution_count": 8,
   "metadata": {},
   "outputs": [],
   "source": [
    "data = pd.merge(data1,cre_score,on='ID',how='left')"
   ]
  },
  {
   "cell_type": "markdown",
   "metadata": {},
   "source": [
    "#### 逻辑回归"
   ]
  },
  {
   "cell_type": "code",
   "execution_count": 12,
   "metadata": {
    "scrolled": true
   },
   "outputs": [],
   "source": [
    "x = data.loc[:,'CODE_GENDER_F':]\n",
    "x.drop(columns=['credit_score'],inplace=True)\n",
    "y = data['is_ovd']\n",
    "# 训练：测试=7:3\n",
    "x_train, x_test, y_train, y_test = train_test_split(x, y, test_size=0.3,random_state=0)"
   ]
  },
  {
   "cell_type": "code",
   "execution_count": 13,
   "metadata": {},
   "outputs": [
    {
     "name": "stdout",
     "output_type": "stream",
     "text": [
      "Optimization terminated successfully.\n",
      "         Current function value: 0.082349\n",
      "         Iterations 8\n"
     ]
    },
    {
     "data": {
      "text/html": [
       "<table class=\"simpletable\">\n",
       "<tr>\n",
       "        <td>Model:</td>              <td>Logit</td>      <td>Pseudo R-squared:</td>    <td>0.012</td>  \n",
       "</tr>\n",
       "<tr>\n",
       "  <td>Dependent Variable:</td>      <td>is_ovd</td>            <td>AIC:</td>        <td>28589.6962</td>\n",
       "</tr>\n",
       "<tr>\n",
       "         <td>Date:</td>        <td>2020-08-11 21:37</td>       <td>BIC:</td>        <td>28871.4457</td>\n",
       "</tr>\n",
       "<tr>\n",
       "   <td>No. Observations:</td>       <td>173248</td>       <td>Log-Likelihood:</td>    <td>-14267.</td> \n",
       "</tr>\n",
       "<tr>\n",
       "       <td>Df Model:</td>             <td>27</td>            <td>LL-Null:</td>        <td>-14442.</td> \n",
       "</tr>\n",
       "<tr>\n",
       "     <td>Df Residuals:</td>         <td>173220</td>        <td>LLR p-value:</td>    <td>3.9175e-58</td>\n",
       "</tr>\n",
       "<tr>\n",
       "      <td>Converged:</td>           <td>1.0000</td>           <td>Scale:</td>         <td>1.0000</td>  \n",
       "</tr>\n",
       "<tr>\n",
       "    <td>No. Iterations:</td>        <td>8.0000</td>              <td></td>               <td></td>     \n",
       "</tr>\n",
       "</table>\n",
       "<table class=\"simpletable\">\n",
       "<tr>\n",
       "            <td></td>             <th>Coef.</th>  <th>Std.Err.</th>     <th>z</th>     <th>P>|z|</th> <th>[0.025</th>  <th>0.975]</th> \n",
       "</tr>\n",
       "<tr>\n",
       "  <th>CODE_GENDER_F</th>         <td>-0.5859</td>  <td>0.0435</td>  <td>-13.4742</td> <td>0.0000</td> <td>-0.6711</td> <td>-0.5006</td>\n",
       "</tr>\n",
       "<tr>\n",
       "  <th>FLAG_OWN_REALTY_Y</th>     <td>-0.3565</td>  <td>0.0381</td>   <td>-9.3497</td> <td>0.0000</td> <td>-0.4313</td> <td>-0.2818</td>\n",
       "</tr>\n",
       "<tr>\n",
       "  <th>AMT_INCOME_TOTAL_1</th>    <td>0.3019</td>   <td>0.0656</td>   <td>4.6004</td>  <td>0.0000</td> <td>0.1733</td>  <td>0.4305</td> \n",
       "</tr>\n",
       "<tr>\n",
       "  <th>AMT_INCOME_TOTAL_2</th>    <td>0.0565</td>   <td>0.0539</td>   <td>1.0489</td>  <td>0.2942</td> <td>-0.0491</td> <td>0.1621</td> \n",
       "</tr>\n",
       "<tr>\n",
       "  <th>AMT_INCOME_TOTAL_3</th>    <td>0.0380</td>   <td>0.0546</td>   <td>0.6963</td>  <td>0.4863</td> <td>-0.0691</td> <td>0.1452</td> \n",
       "</tr>\n",
       "<tr>\n",
       "  <th>NAME_INCOME_TYPE_1</th>    <td>6.9156</td>   <td>0.5948</td>   <td>11.6274</td> <td>0.0000</td> <td>5.7498</td>  <td>8.0813</td> \n",
       "</tr>\n",
       "<tr>\n",
       "  <th>NAME_INCOME_TYPE_2</th>    <td>-0.5532</td>  <td>0.0582</td>   <td>-9.5032</td> <td>0.0000</td> <td>-0.6673</td> <td>-0.4391</td>\n",
       "</tr>\n",
       "<tr>\n",
       "  <th>NAME_INCOME_TYPE_3</th>    <td>-0.6730</td>  <td>0.0659</td>  <td>-10.2060</td> <td>0.0000</td> <td>-0.8022</td> <td>-0.5437</td>\n",
       "</tr>\n",
       "<tr>\n",
       "  <th>NAME_EDUCATION_TYPE_1</th> <td>-0.1326</td>  <td>0.0434</td>   <td>-3.0543</td> <td>0.0023</td> <td>-0.2177</td> <td>-0.0475</td>\n",
       "</tr>\n",
       "<tr>\n",
       "  <th>NAME_FAMILY_STATUS_1</th>  <td>0.4202</td>   <td>0.0512</td>   <td>8.2033</td>  <td>0.0000</td> <td>0.3198</td>  <td>0.5206</td> \n",
       "</tr>\n",
       "<tr>\n",
       "  <th>NAME_FAMILY_STATUS_2</th>  <td>0.2510</td>   <td>0.0794</td>   <td>3.1612</td>  <td>0.0016</td> <td>0.0954</td>  <td>0.4067</td> \n",
       "</tr>\n",
       "<tr>\n",
       "  <th>NAME_FAMILY_STATUS_3</th>  <td>0.2104</td>   <td>0.0699</td>   <td>3.0092</td>  <td>0.0026</td> <td>0.0734</td>  <td>0.3475</td> \n",
       "</tr>\n",
       "<tr>\n",
       "  <th>AGE_1</th>                 <td>-0.4673</td>  <td>0.0502</td>   <td>-9.3144</td> <td>0.0000</td> <td>-0.5657</td> <td>-0.3690</td>\n",
       "</tr>\n",
       "<tr>\n",
       "  <th>AGE_2</th>                 <td>-0.6524</td>  <td>0.0540</td>  <td>-12.0783</td> <td>0.0000</td> <td>-0.7582</td> <td>-0.5465</td>\n",
       "</tr>\n",
       "<tr>\n",
       "  <th>FLAG_EMAIL_Y</th>          <td>-0.1374</td>  <td>0.0655</td>   <td>-2.0997</td> <td>0.0358</td> <td>-0.2657</td> <td>-0.0091</td>\n",
       "</tr>\n",
       "<tr>\n",
       "  <th>OCCUPATION_TYPE_1</th>     <td>-0.4935</td>  <td>0.0880</td>   <td>-5.6102</td> <td>0.0000</td> <td>-0.6659</td> <td>-0.3211</td>\n",
       "</tr>\n",
       "<tr>\n",
       "  <th>OCCUPATION_TYPE_2</th>     <td>-0.3932</td>  <td>0.0646</td>   <td>-6.0853</td> <td>0.0000</td> <td>-0.5198</td> <td>-0.2665</td>\n",
       "</tr>\n",
       "<tr>\n",
       "  <th>OCCUPATION_TYPE_3</th>     <td>-0.3707</td>  <td>0.0798</td>   <td>-4.6431</td> <td>0.0000</td> <td>-0.5272</td> <td>-0.2142</td>\n",
       "</tr>\n",
       "<tr>\n",
       "  <th>OCCUPATION_TYPE_4</th>     <td>-0.4859</td>  <td>0.0768</td>   <td>-6.3245</td> <td>0.0000</td> <td>-0.6364</td> <td>-0.3353</td>\n",
       "</tr>\n",
       "<tr>\n",
       "  <th>OCCUPATION_TYPE_5</th>     <td>-0.4021</td>  <td>0.1065</td>   <td>-3.7753</td> <td>0.0002</td> <td>-0.6109</td> <td>-0.1933</td>\n",
       "</tr>\n",
       "<tr>\n",
       "  <th>OCCUPATION_TYPE_6</th>     <td>-0.2003</td>  <td>0.0784</td>   <td>-2.5561</td> <td>0.0106</td> <td>-0.3539</td> <td>-0.0467</td>\n",
       "</tr>\n",
       "<tr>\n",
       "  <th>OCCUPATION_TYPE_7</th>     <td>-0.4548</td>  <td>0.0683</td>   <td>-6.6622</td> <td>0.0000</td> <td>-0.5885</td> <td>-0.3210</td>\n",
       "</tr>\n",
       "<tr>\n",
       "  <th>CNT_FAM_MEMBERS_1</th>     <td>-2.0370</td>  <td>0.0668</td>  <td>-30.5063</td> <td>0.0000</td> <td>-2.1679</td> <td>-1.9062</td>\n",
       "</tr>\n",
       "<tr>\n",
       "  <th>CNT_FAM_MEMBERS_2</th>     <td>-1.9887</td>  <td>0.0775</td>  <td>-25.6529</td> <td>0.0000</td> <td>-2.1407</td> <td>-1.8368</td>\n",
       "</tr>\n",
       "<tr>\n",
       "  <th>CNT_FAM_MEMBERS_3</th>     <td>-1.9092</td>  <td>0.0923</td>  <td>-20.6919</td> <td>0.0000</td> <td>-2.0900</td> <td>-1.7283</td>\n",
       "</tr>\n",
       "<tr>\n",
       "  <th>WORK_TIME_1</th>           <td>-7.9489</td>  <td>0.5984</td>  <td>-13.2828</td> <td>0.0000</td> <td>-9.1218</td> <td>-6.7760</td>\n",
       "</tr>\n",
       "<tr>\n",
       "  <th>WORK_TIME_2</th>           <td>-0.4742</td>  <td>0.0511</td>   <td>-9.2729</td> <td>0.0000</td> <td>-0.5744</td> <td>-0.3740</td>\n",
       "</tr>\n",
       "<tr>\n",
       "  <th>WORK_TIME_3</th>           <td>-0.7111</td>  <td>0.0558</td>  <td>-12.7540</td> <td>0.0000</td> <td>-0.8203</td> <td>-0.6018</td>\n",
       "</tr>\n",
       "</table>"
      ],
      "text/plain": [
       "<class 'statsmodels.iolib.summary2.Summary'>\n",
       "\"\"\"\n",
       "                            Results: Logit\n",
       "======================================================================\n",
       "Model:                 Logit             Pseudo R-squared:  0.012     \n",
       "Dependent Variable:    is_ovd            AIC:               28589.6962\n",
       "Date:                  2020-08-11 21:37  BIC:               28871.4457\n",
       "No. Observations:      173248            Log-Likelihood:    -14267.   \n",
       "Df Model:              27                LL-Null:           -14442.   \n",
       "Df Residuals:          173220            LLR p-value:       3.9175e-58\n",
       "Converged:             1.0000            Scale:             1.0000    \n",
       "No. Iterations:        8.0000                                         \n",
       "----------------------------------------------------------------------\n",
       "                       Coef.  Std.Err.    z     P>|z|   [0.025  0.975]\n",
       "----------------------------------------------------------------------\n",
       "CODE_GENDER_F         -0.5859   0.0435 -13.4742 0.0000 -0.6711 -0.5006\n",
       "FLAG_OWN_REALTY_Y     -0.3565   0.0381  -9.3497 0.0000 -0.4313 -0.2818\n",
       "AMT_INCOME_TOTAL_1     0.3019   0.0656   4.6004 0.0000  0.1733  0.4305\n",
       "AMT_INCOME_TOTAL_2     0.0565   0.0539   1.0489 0.2942 -0.0491  0.1621\n",
       "AMT_INCOME_TOTAL_3     0.0380   0.0546   0.6963 0.4863 -0.0691  0.1452\n",
       "NAME_INCOME_TYPE_1     6.9156   0.5948  11.6274 0.0000  5.7498  8.0813\n",
       "NAME_INCOME_TYPE_2    -0.5532   0.0582  -9.5032 0.0000 -0.6673 -0.4391\n",
       "NAME_INCOME_TYPE_3    -0.6730   0.0659 -10.2060 0.0000 -0.8022 -0.5437\n",
       "NAME_EDUCATION_TYPE_1 -0.1326   0.0434  -3.0543 0.0023 -0.2177 -0.0475\n",
       "NAME_FAMILY_STATUS_1   0.4202   0.0512   8.2033 0.0000  0.3198  0.5206\n",
       "NAME_FAMILY_STATUS_2   0.2510   0.0794   3.1612 0.0016  0.0954  0.4067\n",
       "NAME_FAMILY_STATUS_3   0.2104   0.0699   3.0092 0.0026  0.0734  0.3475\n",
       "AGE_1                 -0.4673   0.0502  -9.3144 0.0000 -0.5657 -0.3690\n",
       "AGE_2                 -0.6524   0.0540 -12.0783 0.0000 -0.7582 -0.5465\n",
       "FLAG_EMAIL_Y          -0.1374   0.0655  -2.0997 0.0358 -0.2657 -0.0091\n",
       "OCCUPATION_TYPE_1     -0.4935   0.0880  -5.6102 0.0000 -0.6659 -0.3211\n",
       "OCCUPATION_TYPE_2     -0.3932   0.0646  -6.0853 0.0000 -0.5198 -0.2665\n",
       "OCCUPATION_TYPE_3     -0.3707   0.0798  -4.6431 0.0000 -0.5272 -0.2142\n",
       "OCCUPATION_TYPE_4     -0.4859   0.0768  -6.3245 0.0000 -0.6364 -0.3353\n",
       "OCCUPATION_TYPE_5     -0.4021   0.1065  -3.7753 0.0002 -0.6109 -0.1933\n",
       "OCCUPATION_TYPE_6     -0.2003   0.0784  -2.5561 0.0106 -0.3539 -0.0467\n",
       "OCCUPATION_TYPE_7     -0.4548   0.0683  -6.6622 0.0000 -0.5885 -0.3210\n",
       "CNT_FAM_MEMBERS_1     -2.0370   0.0668 -30.5063 0.0000 -2.1679 -1.9062\n",
       "CNT_FAM_MEMBERS_2     -1.9887   0.0775 -25.6529 0.0000 -2.1407 -1.8368\n",
       "CNT_FAM_MEMBERS_3     -1.9092   0.0923 -20.6919 0.0000 -2.0900 -1.7283\n",
       "WORK_TIME_1           -7.9489   0.5984 -13.2828 0.0000 -9.1218 -6.7760\n",
       "WORK_TIME_2           -0.4742   0.0511  -9.2729 0.0000 -0.5744 -0.3740\n",
       "WORK_TIME_3           -0.7111   0.0558 -12.7540 0.0000 -0.8203 -0.6018\n",
       "======================================================================\n",
       "\n",
       "\"\"\""
      ]
     },
     "execution_count": 13,
     "metadata": {},
     "output_type": "execute_result"
    }
   ],
   "source": [
    "lr = sma.Logit(y_train,x_train)\n",
    "result = lr.fit()\n",
    "result.summary2()"
   ]
  },
  {
   "cell_type": "code",
   "execution_count": 16,
   "metadata": {},
   "outputs": [
    {
     "name": "stdout",
     "output_type": "stream",
     "text": [
      "Optimization terminated successfully.\n",
      "         Current function value: 0.082352\n",
      "         Iterations 8\n"
     ]
    },
    {
     "data": {
      "text/html": [
       "<table class=\"simpletable\">\n",
       "<tr>\n",
       "        <td>Model:</td>              <td>Logit</td>      <td>Pseudo R-squared:</td>    <td>0.012</td>  \n",
       "</tr>\n",
       "<tr>\n",
       "  <td>Dependent Variable:</td>      <td>is_ovd</td>            <td>AIC:</td>        <td>28586.8085</td>\n",
       "</tr>\n",
       "<tr>\n",
       "         <td>Date:</td>        <td>2020-08-11 21:38</td>       <td>BIC:</td>        <td>28848.4330</td>\n",
       "</tr>\n",
       "<tr>\n",
       "   <td>No. Observations:</td>       <td>173248</td>       <td>Log-Likelihood:</td>    <td>-14267.</td> \n",
       "</tr>\n",
       "<tr>\n",
       "       <td>Df Model:</td>             <td>25</td>            <td>LL-Null:</td>        <td>-14442.</td> \n",
       "</tr>\n",
       "<tr>\n",
       "     <td>Df Residuals:</td>         <td>173222</td>        <td>LLR p-value:</td>    <td>4.6617e-59</td>\n",
       "</tr>\n",
       "<tr>\n",
       "      <td>Converged:</td>           <td>1.0000</td>           <td>Scale:</td>         <td>1.0000</td>  \n",
       "</tr>\n",
       "<tr>\n",
       "    <td>No. Iterations:</td>        <td>8.0000</td>              <td></td>               <td></td>     \n",
       "</tr>\n",
       "</table>\n",
       "<table class=\"simpletable\">\n",
       "<tr>\n",
       "            <td></td>             <th>Coef.</th>  <th>Std.Err.</th>     <th>z</th>     <th>P>|z|</th> <th>[0.025</th>  <th>0.975]</th> \n",
       "</tr>\n",
       "<tr>\n",
       "  <th>CODE_GENDER_F</th>         <td>-0.5775</td>  <td>0.0428</td>  <td>-13.5077</td> <td>0.0000</td> <td>-0.6613</td> <td>-0.4937</td>\n",
       "</tr>\n",
       "<tr>\n",
       "  <th>FLAG_OWN_REALTY_Y</th>     <td>-0.3555</td>  <td>0.0381</td>   <td>-9.3245</td> <td>0.0000</td> <td>-0.4302</td> <td>-0.2808</td>\n",
       "</tr>\n",
       "<tr>\n",
       "  <th>AMT_INCOME_TOTAL_1</th>    <td>0.2614</td>   <td>0.0521</td>   <td>5.0138</td>  <td>0.0000</td> <td>0.1592</td>  <td>0.3636</td> \n",
       "</tr>\n",
       "<tr>\n",
       "  <th>NAME_INCOME_TYPE_1</th>    <td>6.9163</td>   <td>0.5948</td>   <td>11.6285</td> <td>0.0000</td> <td>5.7506</td>  <td>8.0820</td> \n",
       "</tr>\n",
       "<tr>\n",
       "  <th>NAME_INCOME_TYPE_2</th>    <td>-0.5445</td>  <td>0.0577</td>   <td>-9.4387</td> <td>0.0000</td> <td>-0.6576</td> <td>-0.4315</td>\n",
       "</tr>\n",
       "<tr>\n",
       "  <th>NAME_INCOME_TYPE_3</th>    <td>-0.6690</td>  <td>0.0658</td>  <td>-10.1620</td> <td>0.0000</td> <td>-0.7980</td> <td>-0.5400</td>\n",
       "</tr>\n",
       "<tr>\n",
       "  <th>NAME_EDUCATION_TYPE_1</th> <td>-0.1236</td>  <td>0.0426</td>   <td>-2.9012</td> <td>0.0037</td> <td>-0.2071</td> <td>-0.0401</td>\n",
       "</tr>\n",
       "<tr>\n",
       "  <th>NAME_FAMILY_STATUS_1</th>  <td>0.4187</td>   <td>0.0512</td>   <td>8.1788</td>  <td>0.0000</td> <td>0.3184</td>  <td>0.5190</td> \n",
       "</tr>\n",
       "<tr>\n",
       "  <th>NAME_FAMILY_STATUS_2</th>  <td>0.2493</td>   <td>0.0794</td>   <td>3.1399</td>  <td>0.0017</td> <td>0.0937</td>  <td>0.4048</td> \n",
       "</tr>\n",
       "<tr>\n",
       "  <th>NAME_FAMILY_STATUS_3</th>  <td>0.2087</td>   <td>0.0699</td>   <td>2.9850</td>  <td>0.0028</td> <td>0.0717</td>  <td>0.3457</td> \n",
       "</tr>\n",
       "<tr>\n",
       "  <th>AGE_1</th>                 <td>-0.4600</td>  <td>0.0497</td>   <td>-9.2600</td> <td>0.0000</td> <td>-0.5574</td> <td>-0.3627</td>\n",
       "</tr>\n",
       "<tr>\n",
       "  <th>AGE_2</th>                 <td>-0.6479</td>  <td>0.0538</td>  <td>-12.0435</td> <td>0.0000</td> <td>-0.7534</td> <td>-0.5425</td>\n",
       "</tr>\n",
       "<tr>\n",
       "  <th>FLAG_EMAIL_Y</th>          <td>-0.1406</td>  <td>0.0654</td>   <td>-2.1508</td> <td>0.0315</td> <td>-0.2688</td> <td>-0.0125</td>\n",
       "</tr>\n",
       "<tr>\n",
       "  <th>OCCUPATION_TYPE_1</th>     <td>-0.4894</td>  <td>0.0879</td>   <td>-5.5692</td> <td>0.0000</td> <td>-0.6616</td> <td>-0.3171</td>\n",
       "</tr>\n",
       "<tr>\n",
       "  <th>OCCUPATION_TYPE_2</th>     <td>-0.3886</td>  <td>0.0645</td>   <td>-6.0277</td> <td>0.0000</td> <td>-0.5150</td> <td>-0.2623</td>\n",
       "</tr>\n",
       "<tr>\n",
       "  <th>OCCUPATION_TYPE_3</th>     <td>-0.3786</td>  <td>0.0795</td>   <td>-4.7605</td> <td>0.0000</td> <td>-0.5344</td> <td>-0.2227</td>\n",
       "</tr>\n",
       "<tr>\n",
       "  <th>OCCUPATION_TYPE_4</th>     <td>-0.4811</td>  <td>0.0767</td>   <td>-6.2767</td> <td>0.0000</td> <td>-0.6314</td> <td>-0.3309</td>\n",
       "</tr>\n",
       "<tr>\n",
       "  <th>OCCUPATION_TYPE_5</th>     <td>-0.3993</td>  <td>0.1065</td>   <td>-3.7498</td> <td>0.0002</td> <td>-0.6080</td> <td>-0.1906</td>\n",
       "</tr>\n",
       "<tr>\n",
       "  <th>OCCUPATION_TYPE_6</th>     <td>-0.1980</td>  <td>0.0784</td>   <td>-2.5265</td> <td>0.0115</td> <td>-0.3515</td> <td>-0.0444</td>\n",
       "</tr>\n",
       "<tr>\n",
       "  <th>OCCUPATION_TYPE_7</th>     <td>-0.4518</td>  <td>0.0682</td>   <td>-6.6252</td> <td>0.0000</td> <td>-0.5854</td> <td>-0.3181</td>\n",
       "</tr>\n",
       "<tr>\n",
       "  <th>CNT_FAM_MEMBERS_1</th>     <td>-2.0237</td>  <td>0.0655</td>  <td>-30.9137</td> <td>0.0000</td> <td>-2.1520</td> <td>-1.8954</td>\n",
       "</tr>\n",
       "<tr>\n",
       "  <th>CNT_FAM_MEMBERS_2</th>     <td>-1.9766</td>  <td>0.0766</td>  <td>-25.7911</td> <td>0.0000</td> <td>-2.1268</td> <td>-1.8264</td>\n",
       "</tr>\n",
       "<tr>\n",
       "  <th>CNT_FAM_MEMBERS_3</th>     <td>-1.8979</td>  <td>0.0916</td>  <td>-20.7144</td> <td>0.0000</td> <td>-2.0775</td> <td>-1.7183</td>\n",
       "</tr>\n",
       "<tr>\n",
       "  <th>WORK_TIME_1</th>           <td>-7.9378</td>  <td>0.5983</td>  <td>-13.2663</td> <td>0.0000</td> <td>-9.1106</td> <td>-6.7651</td>\n",
       "</tr>\n",
       "<tr>\n",
       "  <th>WORK_TIME_2</th>           <td>-0.4719</td>  <td>0.0511</td>   <td>-9.2303</td> <td>0.0000</td> <td>-0.5721</td> <td>-0.3717</td>\n",
       "</tr>\n",
       "<tr>\n",
       "  <th>WORK_TIME_3</th>           <td>-0.7088</td>  <td>0.0557</td>  <td>-12.7207</td> <td>0.0000</td> <td>-0.8180</td> <td>-0.5996</td>\n",
       "</tr>\n",
       "</table>"
      ],
      "text/plain": [
       "<class 'statsmodels.iolib.summary2.Summary'>\n",
       "\"\"\"\n",
       "                            Results: Logit\n",
       "======================================================================\n",
       "Model:                 Logit             Pseudo R-squared:  0.012     \n",
       "Dependent Variable:    is_ovd            AIC:               28586.8085\n",
       "Date:                  2020-08-11 21:38  BIC:               28848.4330\n",
       "No. Observations:      173248            Log-Likelihood:    -14267.   \n",
       "Df Model:              25                LL-Null:           -14442.   \n",
       "Df Residuals:          173222            LLR p-value:       4.6617e-59\n",
       "Converged:             1.0000            Scale:             1.0000    \n",
       "No. Iterations:        8.0000                                         \n",
       "----------------------------------------------------------------------\n",
       "                       Coef.  Std.Err.    z     P>|z|   [0.025  0.975]\n",
       "----------------------------------------------------------------------\n",
       "CODE_GENDER_F         -0.5775   0.0428 -13.5077 0.0000 -0.6613 -0.4937\n",
       "FLAG_OWN_REALTY_Y     -0.3555   0.0381  -9.3245 0.0000 -0.4302 -0.2808\n",
       "AMT_INCOME_TOTAL_1     0.2614   0.0521   5.0138 0.0000  0.1592  0.3636\n",
       "NAME_INCOME_TYPE_1     6.9163   0.5948  11.6285 0.0000  5.7506  8.0820\n",
       "NAME_INCOME_TYPE_2    -0.5445   0.0577  -9.4387 0.0000 -0.6576 -0.4315\n",
       "NAME_INCOME_TYPE_3    -0.6690   0.0658 -10.1620 0.0000 -0.7980 -0.5400\n",
       "NAME_EDUCATION_TYPE_1 -0.1236   0.0426  -2.9012 0.0037 -0.2071 -0.0401\n",
       "NAME_FAMILY_STATUS_1   0.4187   0.0512   8.1788 0.0000  0.3184  0.5190\n",
       "NAME_FAMILY_STATUS_2   0.2493   0.0794   3.1399 0.0017  0.0937  0.4048\n",
       "NAME_FAMILY_STATUS_3   0.2087   0.0699   2.9850 0.0028  0.0717  0.3457\n",
       "AGE_1                 -0.4600   0.0497  -9.2600 0.0000 -0.5574 -0.3627\n",
       "AGE_2                 -0.6479   0.0538 -12.0435 0.0000 -0.7534 -0.5425\n",
       "FLAG_EMAIL_Y          -0.1406   0.0654  -2.1508 0.0315 -0.2688 -0.0125\n",
       "OCCUPATION_TYPE_1     -0.4894   0.0879  -5.5692 0.0000 -0.6616 -0.3171\n",
       "OCCUPATION_TYPE_2     -0.3886   0.0645  -6.0277 0.0000 -0.5150 -0.2623\n",
       "OCCUPATION_TYPE_3     -0.3786   0.0795  -4.7605 0.0000 -0.5344 -0.2227\n",
       "OCCUPATION_TYPE_4     -0.4811   0.0767  -6.2767 0.0000 -0.6314 -0.3309\n",
       "OCCUPATION_TYPE_5     -0.3993   0.1065  -3.7498 0.0002 -0.6080 -0.1906\n",
       "OCCUPATION_TYPE_6     -0.1980   0.0784  -2.5265 0.0115 -0.3515 -0.0444\n",
       "OCCUPATION_TYPE_7     -0.4518   0.0682  -6.6252 0.0000 -0.5854 -0.3181\n",
       "CNT_FAM_MEMBERS_1     -2.0237   0.0655 -30.9137 0.0000 -2.1520 -1.8954\n",
       "CNT_FAM_MEMBERS_2     -1.9766   0.0766 -25.7911 0.0000 -2.1268 -1.8264\n",
       "CNT_FAM_MEMBERS_3     -1.8979   0.0916 -20.7144 0.0000 -2.0775 -1.7183\n",
       "WORK_TIME_1           -7.9378   0.5983 -13.2663 0.0000 -9.1106 -6.7651\n",
       "WORK_TIME_2           -0.4719   0.0511  -9.2303 0.0000 -0.5721 -0.3717\n",
       "WORK_TIME_3           -0.7088   0.0557 -12.7207 0.0000 -0.8180 -0.5996\n",
       "======================================================================\n",
       "\n",
       "\"\"\""
      ]
     },
     "execution_count": 16,
     "metadata": {},
     "output_type": "execute_result"
    }
   ],
   "source": [
    "# 将显著变量（年收入）去掉\n",
    "x = data.loc[:,'CODE_GENDER_F':]\n",
    "x.drop(columns=['AMT_INCOME_TOTAL_3','AMT_INCOME_TOTAL_2','credit_score'],inplace=True)\n",
    "y = data['is_ovd']\n",
    "# 训练：测试=7:3\n",
    "x_train, x_test, y_train, y_test = train_test_split(x, y, test_size=0.3,random_state=0)\n",
    "lr = sma.Logit(y_train,x_train)\n",
    "result = lr.fit()\n",
    "result.summary2()"
   ]
  },
  {
   "cell_type": "code",
   "execution_count": 17,
   "metadata": {},
   "outputs": [
    {
     "data": {
      "text/plain": [
       "0.9836902356902357"
      ]
     },
     "execution_count": 17,
     "metadata": {},
     "output_type": "execute_result"
    }
   ],
   "source": [
    "test = pd.DataFrame()\n",
    "test['pre1'] = result.predict(x_test)\n",
    "test['pre2'] = test['pre1'].apply(lambda x: round(x))\n",
    "test['is_ovd'] = y_test\n",
    "(test['pre2'] == y_test).agg(sum)/len(test) # 预测准确率"
   ]
  },
  {
   "cell_type": "code",
   "execution_count": 18,
   "metadata": {},
   "outputs": [
    {
     "data": {
      "text/plain": [
       "0.9840806243073513"
      ]
     },
     "execution_count": 18,
     "metadata": {},
     "output_type": "execute_result"
    }
   ],
   "source": [
    "train = pd.DataFrame()\n",
    "train['pre1'] = result.predict(x_train)\n",
    "train['pre2'] = train['pre1'].apply(lambda x: round(x))\n",
    "train['is_ovd'] = y_train\n",
    "(train['pre2'] == train['is_ovd']).agg(sum)/len(train) # 预测准确率"
   ]
  },
  {
   "cell_type": "markdown",
   "metadata": {},
   "source": [
    "#### 混淆矩阵"
   ]
  },
  {
   "cell_type": "code",
   "execution_count": 19,
   "metadata": {},
   "outputs": [
    {
     "data": {
      "text/html": [
       "<div>\n",
       "<style scoped>\n",
       "    .dataframe tbody tr th:only-of-type {\n",
       "        vertical-align: middle;\n",
       "    }\n",
       "\n",
       "    .dataframe tbody tr th {\n",
       "        vertical-align: top;\n",
       "    }\n",
       "\n",
       "    .dataframe thead th {\n",
       "        text-align: right;\n",
       "    }\n",
       "</style>\n",
       "<table border=\"1\" class=\"dataframe\">\n",
       "  <thead>\n",
       "    <tr style=\"text-align: right;\">\n",
       "      <th></th>\n",
       "      <th></th>\n",
       "      <th>实际为0</th>\n",
       "      <th>实际为1</th>\n",
       "      <th>预测准确率</th>\n",
       "      <th>违约用户预测准确率</th>\n",
       "    </tr>\n",
       "    <tr>\n",
       "      <th>1</th>\n",
       "      <th>2</th>\n",
       "      <th></th>\n",
       "      <th></th>\n",
       "      <th></th>\n",
       "      <th></th>\n",
       "    </tr>\n",
       "  </thead>\n",
       "  <tbody>\n",
       "    <tr>\n",
       "      <td rowspan=\"2\" valign=\"top\">训练集</td>\n",
       "      <td>预测为0</td>\n",
       "      <td>170417.0</td>\n",
       "      <td>73.0</td>\n",
       "      <td>98.41%</td>\n",
       "      <td>97.42%</td>\n",
       "    </tr>\n",
       "    <tr>\n",
       "      <td>预测为1</td>\n",
       "      <td>3.0</td>\n",
       "      <td>2755.0</td>\n",
       "      <td>98.41%</td>\n",
       "      <td>97.42%</td>\n",
       "    </tr>\n",
       "    <tr>\n",
       "      <td rowspan=\"2\" valign=\"top\">测试集</td>\n",
       "      <td>预测为0</td>\n",
       "      <td>73018.0</td>\n",
       "      <td>21.0</td>\n",
       "      <td>98.37%</td>\n",
       "      <td>98.29%</td>\n",
       "    </tr>\n",
       "    <tr>\n",
       "      <td>预测为1</td>\n",
       "      <td>1.0</td>\n",
       "      <td>1210.0</td>\n",
       "      <td>98.37%</td>\n",
       "      <td>98.29%</td>\n",
       "    </tr>\n",
       "  </tbody>\n",
       "</table>\n",
       "</div>"
      ],
      "text/plain": [
       "              实际为0    实际为1   预测准确率 违约用户预测准确率\n",
       "1   2                                       \n",
       "训练集 预测为0  170417.0    73.0  98.41%    97.42%\n",
       "    预测为1       3.0  2755.0  98.41%    97.42%\n",
       "测试集 预测为0   73018.0    21.0  98.37%    98.29%\n",
       "    预测为1       1.0  1210.0  98.37%    98.29%"
      ]
     },
     "execution_count": 19,
     "metadata": {},
     "output_type": "execute_result"
    }
   ],
   "source": [
    "hx = pd.DataFrame()\n",
    "hx['1'] = ['训练集','训练集','测试集','测试集']\n",
    "hx['2'] = ['预测为0','预测为1','预测为0','预测为1']\n",
    "hx.loc[0,'实际为0'] = (train[train['is_ovd']==0]['pre2'] == train[train['is_ovd']==0]['is_ovd']).agg(sum)\n",
    "hx.loc[1,'实际为0'] = len(train[train['is_ovd']==0]) - hx.loc[0,'实际为0']\n",
    "hx.loc[0,'实际为1'] = (train[train['is_ovd']==1]['pre2'] == train[train['is_ovd']==1]['is_ovd']).agg(sum)\n",
    "hx.loc[1,'实际为1'] = len(train[train['is_ovd']==1]) - hx.loc[0,'实际为1']\n",
    "\n",
    "hx.loc[2,'实际为0'] = (test[test['is_ovd']==0]['pre2'] == test[test['is_ovd']==0]['is_ovd']).agg(sum)\n",
    "hx.loc[3,'实际为0'] = len(test[test['is_ovd']==0]) - hx.loc[2,'实际为0']\n",
    "hx.loc[2,'实际为1'] = (test[test['is_ovd']==1]['pre2'] == test[test['is_ovd']==1]['is_ovd']).agg(sum)\n",
    "hx.loc[3,'实际为1'] = len(test[test['is_ovd']==1]) - hx.loc[2,'实际为1']\n",
    "hx.set_index(['1','2'],inplace=True)\n",
    "\n",
    "hx.loc['训练集','预测准确率'] = format((train['pre2'] == train['is_ovd']).agg(sum)/len(train),'.2%')\n",
    "hx.loc['测试集','预测准确率'] = format((test['pre2'] == test['is_ovd']).agg(sum)/len(test),'.2%')\n",
    "\n",
    "hx.loc['训练集','违约用户预测准确率'] = format(hx['实际为1'][1]/(train.is_ovd==1).agg(sum),'.2%')\n",
    "hx.loc['测试集','违约用户预测准确率'] = format(hx['实际为1'][3]/(test.is_ovd==1).agg(sum),'.2%')\n",
    "hx"
   ]
  },
  {
   "cell_type": "markdown",
   "metadata": {},
   "source": [
    "#### ROC曲线"
   ]
  },
  {
   "cell_type": "code",
   "execution_count": 20,
   "metadata": {},
   "outputs": [
    {
     "data": {
      "text/plain": [
       "Text(0.5, 1.0, 'ROC曲线')"
      ]
     },
     "execution_count": 20,
     "metadata": {},
     "output_type": "execute_result"
    },
    {
     "data": {
      "image/png": "[encoded data removed]",
      "text/plain": [
       "<Figure size 450x450 with 1 Axes>"
      ]
     },
     "metadata": {
      "needs_background": "light"
     },
     "output_type": "display_data"
    }
   ],
   "source": [
    "fpr_test,tpr_test,th_test = metrics.roc_curve(test.is_ovd,test.pre1) # 测试集\n",
    "fpr_train,tpr_train,th_train = metrics.roc_curve(train.is_ovd,train.pre1) # 训练集\n",
    "plt.figure(dpi=150,figsize=(3,3))\n",
    "plt.plot(fpr_test,tpr_test,'b--',label=f'测试集AUC={round(metrics.auc(fpr_test,tpr_test),4)}')\n",
    "plt.plot(fpr_train,tpr_train,'r--',label=f'测试集AUC={round(metrics.auc(fpr_train,tpr_train),4)}')\n",
    "plt.legend();plt.title('ROC曲线')"
   ]
  },
  {
   "cell_type": "markdown",
   "metadata": {},
   "source": [
    "#### 加入信用局评分"
   ]
  },
  {
   "cell_type": "code",
   "execution_count": 31,
   "metadata": {},
   "outputs": [
    {
     "name": "stdout",
     "output_type": "stream",
     "text": [
      "Optimization terminated successfully.\n",
      "         Current function value: 0.078840\n",
      "         Iterations 9\n"
     ]
    },
    {
     "data": {
      "text/html": [
       "<table class=\"simpletable\">\n",
       "<tr>\n",
       "        <td>Model:</td>              <td>Logit</td>      <td>Pseudo R-squared:</td>    <td>0.054</td>  \n",
       "</tr>\n",
       "<tr>\n",
       "  <td>Dependent Variable:</td>      <td>is_ovd</td>            <td>AIC:</td>        <td>27365.8409</td>\n",
       "</tr>\n",
       "<tr>\n",
       "         <td>Date:</td>        <td>2020-08-11 21:47</td>       <td>BIC:</td>        <td>27607.3404</td>\n",
       "</tr>\n",
       "<tr>\n",
       "   <td>No. Observations:</td>       <td>173248</td>       <td>Log-Likelihood:</td>    <td>-13659.</td> \n",
       "</tr>\n",
       "<tr>\n",
       "       <td>Df Model:</td>             <td>23</td>            <td>LL-Null:</td>        <td>-14442.</td> \n",
       "</tr>\n",
       "<tr>\n",
       "     <td>Df Residuals:</td>         <td>173224</td>        <td>LLR p-value:</td>      <td>0.0000</td>  \n",
       "</tr>\n",
       "<tr>\n",
       "      <td>Converged:</td>           <td>1.0000</td>           <td>Scale:</td>         <td>1.0000</td>  \n",
       "</tr>\n",
       "<tr>\n",
       "    <td>No. Iterations:</td>        <td>9.0000</td>              <td></td>               <td></td>     \n",
       "</tr>\n",
       "</table>\n",
       "<table class=\"simpletable\">\n",
       "<tr>\n",
       "            <td></td>            <th>Coef.</th>  <th>Std.Err.</th>     <th>z</th>     <th>P>|z|</th> <th>[0.025</th>  <th>0.975]</th> \n",
       "</tr>\n",
       "<tr>\n",
       "  <th>CODE_GENDER_F</th>        <td>-0.4441</td>  <td>0.0448</td>   <td>-9.9052</td> <td>0.0000</td> <td>-0.5320</td> <td>-0.3562</td>\n",
       "</tr>\n",
       "<tr>\n",
       "  <th>FLAG_OWN_REALTY_Y</th>    <td>-0.2330</td>  <td>0.0396</td>   <td>-5.8807</td> <td>0.0000</td> <td>-0.3106</td> <td>-0.1553</td>\n",
       "</tr>\n",
       "<tr>\n",
       "  <th>AMT_INCOME_TOTAL_1</th>   <td>0.5121</td>   <td>0.0668</td>   <td>7.6679</td>  <td>0.0000</td> <td>0.3812</td>  <td>0.6430</td> \n",
       "</tr>\n",
       "<tr>\n",
       "  <th>AMT_INCOME_TOTAL_2</th>   <td>0.2574</td>   <td>0.0561</td>   <td>4.5864</td>  <td>0.0000</td> <td>0.1474</td>  <td>0.3674</td> \n",
       "</tr>\n",
       "<tr>\n",
       "  <th>AMT_INCOME_TOTAL_3</th>   <td>0.2387</td>   <td>0.0576</td>   <td>4.1405</td>  <td>0.0000</td> <td>0.1257</td>  <td>0.3517</td> \n",
       "</tr>\n",
       "<tr>\n",
       "  <th>NAME_INCOME_TYPE_1</th>   <td>7.3512</td>   <td>0.6033</td>   <td>12.1849</td> <td>0.0000</td> <td>6.1687</td>  <td>8.5336</td> \n",
       "</tr>\n",
       "<tr>\n",
       "  <th>NAME_INCOME_TYPE_2</th>   <td>-0.1740</td>  <td>0.0663</td>   <td>-2.6231</td> <td>0.0087</td> <td>-0.3041</td> <td>-0.0440</td>\n",
       "</tr>\n",
       "<tr>\n",
       "  <th>NAME_INCOME_TYPE_3</th>   <td>-0.2673</td>  <td>0.0732</td>   <td>-3.6508</td> <td>0.0003</td> <td>-0.4109</td> <td>-0.1238</td>\n",
       "</tr>\n",
       "<tr>\n",
       "  <th>NAME_FAMILY_STATUS_1</th> <td>0.4002</td>   <td>0.0514</td>   <td>7.7930</td>  <td>0.0000</td> <td>0.2996</td>  <td>0.5009</td> \n",
       "</tr>\n",
       "<tr>\n",
       "  <th>NAME_FAMILY_STATUS_2</th> <td>0.2640</td>   <td>0.0796</td>   <td>3.3148</td>  <td>0.0009</td> <td>0.1079</td>  <td>0.4201</td> \n",
       "</tr>\n",
       "<tr>\n",
       "  <th>NAME_FAMILY_STATUS_3</th> <td>0.2202</td>   <td>0.0701</td>   <td>3.1402</td>  <td>0.0017</td> <td>0.0828</td>  <td>0.3576</td> \n",
       "</tr>\n",
       "<tr>\n",
       "  <th>AGE_1</th>                <td>-0.2495</td>  <td>0.0515</td>   <td>-4.8433</td> <td>0.0000</td> <td>-0.3505</td> <td>-0.1486</td>\n",
       "</tr>\n",
       "<tr>\n",
       "  <th>AGE_2</th>                <td>-0.4350</td>  <td>0.0551</td>   <td>-7.8923</td> <td>0.0000</td> <td>-0.5430</td> <td>-0.3270</td>\n",
       "</tr>\n",
       "<tr>\n",
       "  <th>OCCUPATION_TYPE_1</th>    <td>-0.1260</td>  <td>0.0835</td>   <td>-1.5096</td> <td>0.1312</td> <td>-0.2896</td> <td>0.0376</td> \n",
       "</tr>\n",
       "<tr>\n",
       "  <th>OCCUPATION_TYPE_2</th>    <td>-0.1238</td>  <td>0.0573</td>   <td>-2.1621</td> <td>0.0306</td> <td>-0.2361</td> <td>-0.0116</td>\n",
       "</tr>\n",
       "<tr>\n",
       "  <th>OCCUPATION_TYPE_4</th>    <td>-0.1249</td>  <td>0.0725</td>   <td>-1.7240</td> <td>0.0847</td> <td>-0.2670</td> <td>0.0171</td> \n",
       "</tr>\n",
       "<tr>\n",
       "  <th>OCCUPATION_TYPE_7</th>    <td>-0.1494</td>  <td>0.0627</td>   <td>-2.3812</td> <td>0.0173</td> <td>-0.2723</td> <td>-0.0264</td>\n",
       "</tr>\n",
       "<tr>\n",
       "  <th>CNT_FAM_MEMBERS_1</th>    <td>-1.0443</td>  <td>0.0879</td>  <td>-11.8784</td> <td>0.0000</td> <td>-1.2166</td> <td>-0.8720</td>\n",
       "</tr>\n",
       "<tr>\n",
       "  <th>CNT_FAM_MEMBERS_2</th>    <td>-1.0566</td>  <td>0.0969</td>  <td>-10.9097</td> <td>0.0000</td> <td>-1.2464</td> <td>-0.8668</td>\n",
       "</tr>\n",
       "<tr>\n",
       "  <th>CNT_FAM_MEMBERS_3</th>    <td>-1.0018</td>  <td>0.1093</td>   <td>-9.1690</td> <td>0.0000</td> <td>-1.2159</td> <td>-0.7877</td>\n",
       "</tr>\n",
       "<tr>\n",
       "  <th>WORK_TIME_1</th>          <td>-7.8602</td>  <td>0.6064</td>  <td>-12.9629</td> <td>0.0000</td> <td>-9.0487</td> <td>-6.6718</td>\n",
       "</tr>\n",
       "<tr>\n",
       "  <th>WORK_TIME_2</th>          <td>-0.2263</td>  <td>0.0558</td>   <td>-4.0553</td> <td>0.0001</td> <td>-0.3357</td> <td>-0.1169</td>\n",
       "</tr>\n",
       "<tr>\n",
       "  <th>WORK_TIME_3</th>          <td>-0.4091</td>  <td>0.0602</td>   <td>-6.7938</td> <td>0.0000</td> <td>-0.5271</td> <td>-0.2911</td>\n",
       "</tr>\n",
       "<tr>\n",
       "  <th>credit_score</th>         <td>-0.0042</td>  <td>0.0001</td>  <td>-33.7714</td> <td>0.0000</td> <td>-0.0044</td> <td>-0.0039</td>\n",
       "</tr>\n",
       "</table>"
      ],
      "text/plain": [
       "<class 'statsmodels.iolib.summary2.Summary'>\n",
       "\"\"\"\n",
       "                           Results: Logit\n",
       "=====================================================================\n",
       "Model:                Logit             Pseudo R-squared:  0.054     \n",
       "Dependent Variable:   is_ovd            AIC:               27365.8409\n",
       "Date:                 2020-08-11 21:47  BIC:               27607.3404\n",
       "No. Observations:     173248            Log-Likelihood:    -13659.   \n",
       "Df Model:             23                LL-Null:           -14442.   \n",
       "Df Residuals:         173224            LLR p-value:       0.0000    \n",
       "Converged:            1.0000            Scale:             1.0000    \n",
       "No. Iterations:       9.0000                                         \n",
       "---------------------------------------------------------------------\n",
       "                      Coef.  Std.Err.    z     P>|z|   [0.025  0.975]\n",
       "---------------------------------------------------------------------\n",
       "CODE_GENDER_F        -0.4441   0.0448  -9.9052 0.0000 -0.5320 -0.3562\n",
       "FLAG_OWN_REALTY_Y    -0.2330   0.0396  -5.8807 0.0000 -0.3106 -0.1553\n",
       "AMT_INCOME_TOTAL_1    0.5121   0.0668   7.6679 0.0000  0.3812  0.6430\n",
       "AMT_INCOME_TOTAL_2    0.2574   0.0561   4.5864 0.0000  0.1474  0.3674\n",
       "AMT_INCOME_TOTAL_3    0.2387   0.0576   4.1405 0.0000  0.1257  0.3517\n",
       "NAME_INCOME_TYPE_1    7.3512   0.6033  12.1849 0.0000  6.1687  8.5336\n",
       "NAME_INCOME_TYPE_2   -0.1740   0.0663  -2.6231 0.0087 -0.3041 -0.0440\n",
       "NAME_INCOME_TYPE_3   -0.2673   0.0732  -3.6508 0.0003 -0.4109 -0.1238\n",
       "NAME_FAMILY_STATUS_1  0.4002   0.0514   7.7930 0.0000  0.2996  0.5009\n",
       "NAME_FAMILY_STATUS_2  0.2640   0.0796   3.3148 0.0009  0.1079  0.4201\n",
       "NAME_FAMILY_STATUS_3  0.2202   0.0701   3.1402 0.0017  0.0828  0.3576\n",
       "AGE_1                -0.2495   0.0515  -4.8433 0.0000 -0.3505 -0.1486\n",
       "AGE_2                -0.4350   0.0551  -7.8923 0.0000 -0.5430 -0.3270\n",
       "OCCUPATION_TYPE_1    -0.1260   0.0835  -1.5096 0.1312 -0.2896  0.0376\n",
       "OCCUPATION_TYPE_2    -0.1238   0.0573  -2.1621 0.0306 -0.2361 -0.0116\n",
       "OCCUPATION_TYPE_4    -0.1249   0.0725  -1.7240 0.0847 -0.2670  0.0171\n",
       "OCCUPATION_TYPE_7    -0.1494   0.0627  -2.3812 0.0173 -0.2723 -0.0264\n",
       "CNT_FAM_MEMBERS_1    -1.0443   0.0879 -11.8784 0.0000 -1.2166 -0.8720\n",
       "CNT_FAM_MEMBERS_2    -1.0566   0.0969 -10.9097 0.0000 -1.2464 -0.8668\n",
       "CNT_FAM_MEMBERS_3    -1.0018   0.1093  -9.1690 0.0000 -1.2159 -0.7877\n",
       "WORK_TIME_1          -7.8602   0.6064 -12.9629 0.0000 -9.0487 -6.6718\n",
       "WORK_TIME_2          -0.2263   0.0558  -4.0553 0.0001 -0.3357 -0.1169\n",
       "WORK_TIME_3          -0.4091   0.0602  -6.7938 0.0000 -0.5271 -0.2911\n",
       "credit_score         -0.0042   0.0001 -33.7714 0.0000 -0.0044 -0.0039\n",
       "=====================================================================\n",
       "\n",
       "\"\"\""
      ]
     },
     "execution_count": 31,
     "metadata": {},
     "output_type": "execute_result"
    }
   ],
   "source": [
    "x = data.loc[:,'CODE_GENDER_F':]\n",
    "# x.drop(columns=['OCCUPATION_TYPE_1','OCCUPATION_TYPE_2','OCCUPATION_TYPE_3','OCCUPATION_TYPE_4','OCCUPATION_TYPE_5','OCCUPATION_TYPE_6','OCCUPATION_TYPE_7'],inplace=True)\n",
    "x.drop(columns=['NAME_EDUCATION_TYPE_1','OCCUPATION_TYPE_6','OCCUPATION_TYPE_3','OCCUPATION_TYPE_5','FLAG_EMAIL_Y'],inplace=True)\n",
    "y = data['is_ovd']\n",
    "# 训练：测试=7:3\n",
    "x_train, x_test, y_train, y_test = train_test_split(x, y, test_size=0.3,random_state=0)\n",
    "lr = sma.Logit(y_train,x_train)\n",
    "result = lr.fit()\n",
    "result.summary2()"
   ]
  },
  {
   "cell_type": "code",
   "execution_count": 32,
   "metadata": {},
   "outputs": [
    {
     "data": {
      "text/plain": [
       "Text(0.5, 1.0, 'ROC曲线')"
      ]
     },
     "execution_count": 32,
     "metadata": {},
     "output_type": "execute_result"
    },
    {
     "data": {
      "image/png": "[encoded data removed]",
      "text/plain": [
       "<Figure size 450x450 with 1 Axes>"
      ]
     },
     "metadata": {
      "needs_background": "light"
     },
     "output_type": "display_data"
    }
   ],
   "source": [
    "test = pd.DataFrame()\n",
    "test['pre1'] = result.predict(x_test)\n",
    "test['pre2'] = test['pre1'].apply(lambda x: round(x))\n",
    "test['is_ovd'] = y_test\n",
    "train = pd.DataFrame()\n",
    "train['pre1'] = result.predict(x_train)\n",
    "train['pre2'] = train['pre1'].apply(lambda x: round(x))\n",
    "train['is_ovd'] = y_train\n",
    "fpr_test,tpr_test,th_test = metrics.roc_curve(test.is_ovd,test.pre1) # 测试集\n",
    "fpr_train,tpr_train,th_train = metrics.roc_curve(train.is_ovd,train.pre1) # 训练集\n",
    "plt.figure(dpi=150,figsize=(3,3))\n",
    "plt.plot(fpr_test,tpr_test,'b--',label=f'测试集AUC={round(metrics.auc(fpr_test,tpr_test),4)}')\n",
    "plt.plot(fpr_train,tpr_train,'r--',label=f'测试集AUC={round(metrics.auc(fpr_train,tpr_train),4)}')\n",
    "plt.legend();plt.title('ROC曲线')"
   ]
  },
  {
   "cell_type": "markdown",
   "metadata": {},
   "source": [
    "# task6代码.ipynb"
   ]
  },
  {
   "cell_type": "code",
   "execution_count": 91,
   "metadata": {
    "scrolled": true
   },
   "outputs": [
    {
     "name": "stdout",
     "output_type": "stream",
     "text": [
      "Optimization terminated successfully.\n",
      "         Current function value: 0.080088\n",
      "         Iterations 9\n"
     ]
    }
   ],
   "source": [
    "x = data.loc[:,'CODE_GENDER_F':]\n",
    "# x.drop(columns=['OCCUPATION_TYPE_1','OCCUPATION_TYPE_2','OCCUPATION_TYPE_3','OCCUPATION_TYPE_4','OCCUPATION_TYPE_5','OCCUPATION_TYPE_6','OCCUPATION_TYPE_7'],inplace=True)\n",
    "x.drop(columns=['NAME_EDUCATION_TYPE_1','OCCUPATION_TYPE_6','OCCUPATION_TYPE_3','OCCUPATION_TYPE_5','FLAG_EMAIL_Y'],inplace=True)\n",
    "y = data['is_ovd']\n",
    "# 训练：测试=7:3\n",
    "x_train, x_test, y_train, y_test = train_test_split(x, y, test_size=0.3,random_state=3)\n",
    "lr = sma.Logit(y_train,x_train)\n",
    "result = lr.fit()"
   ]
  },
  {
   "cell_type": "markdown",
   "metadata": {},
   "source": [
    "#### 将概率转化成分数且为正整数"
   ]
  },
  {
   "cell_type": "code",
   "execution_count": 92,
   "metadata": {},
   "outputs": [],
   "source": [
    "# 评分卡刻度 A、B\n",
    "def cal_scale(score,odds,PDO):\n",
    "    '''\n",
    "    参数：\n",
    "        odds: 设定的坏好比\n",
    "        score: 在这个odds下的分数\n",
    "        PDO： 好坏翻倍比\n",
    "        model: 逻辑回归模型\n",
    "    return：\n",
    "        A,B\n",
    "    '''\n",
    "    B = PDO/np.log(2)\n",
    "    A = score + B*np.log(odds)\n",
    "    # base_score = A+B*model.intercept_[0]\n",
    "    print('B: {:.2f}'.format(B))\n",
    "    print('A: {:.2f}'.format(A))\n",
    "    # print('基础分为：{:.2f}'.format(base_score))\n",
    "    return A,B"
   ]
  },
  {
   "cell_type": "code",
   "execution_count": 93,
   "metadata": {},
   "outputs": [],
   "source": [
    "def Pre2Score(pre,A,B):\n",
    "    y = np.log(pre/(1-pre))\n",
    "    return round(A-B*y)"
   ]
  },
  {
   "cell_type": "code",
   "execution_count": 94,
   "metadata": {},
   "outputs": [
    {
     "name": "stdout",
     "output_type": "stream",
     "text": [
      "B: 14.43\n",
      "A: 481.78\n"
     ]
    }
   ],
   "source": [
    "A,B = cal_scale(525,0.05,10) # 假设基础分为50，odds为5%，PDO为10"
   ]
  },
  {
   "cell_type": "code",
   "execution_count": 95,
   "metadata": {
    "scrolled": false
   },
   "outputs": [
    {
     "data": {
      "text/plain": [
       "Text(0, 0.5, '频数')"
      ]
     },
     "execution_count": 95,
     "metadata": {},
     "output_type": "execute_result"
    },
    {
     "data": {
      "image/png": "[encoded data removed]",
      "text/plain": [
       "<Figure size 600x405 with 1 Axes>"
      ]
     },
     "metadata": {
      "needs_background": "light"
     },
     "output_type": "display_data"
    }
   ],
   "source": [
    "all_cust = pd.DataFrame({'pre':result.predict(x),'is_ovd':y})\n",
    "all_cust['score'] = all_cust['pre'].map(lambda x:Pre2Score(x,A,B))\n",
    "# 直方图\n",
    "plt.figure(dpi=150,figsize=(4,2.7))\n",
    "plt.hist(all_cust['score'].values,edgecolor='w',bins=30)\n",
    "plt.title('群体分数分布直方图');plt.xlabel('分数');plt.ylabel('频数')"
   ]
  },
  {
   "cell_type": "code",
   "execution_count": 96,
   "metadata": {},
   "outputs": [
    {
     "data": {
      "text/plain": [
       "count    247498.000000\n",
       "mean        544.214947\n",
       "std          10.504158\n",
       "min         417.000000\n",
       "25%         537.000000\n",
       "50%         544.000000\n",
       "75%         551.000000\n",
       "max         581.000000\n",
       "Name: score, dtype: float64"
      ]
     },
     "execution_count": 96,
     "metadata": {},
     "output_type": "execute_result"
    }
   ],
   "source": [
    "all_cust['score'].describe()"
   ]
  },
  {
   "cell_type": "code",
   "execution_count": 97,
   "metadata": {},
   "outputs": [
    {
     "data": {
      "text/plain": [
       "count    173248.000000\n",
       "mean        544.234260\n",
       "std          10.494716\n",
       "min         417.000000\n",
       "25%         537.000000\n",
       "50%         544.000000\n",
       "75%         551.000000\n",
       "max         581.000000\n",
       "Name: score, dtype: float64"
      ]
     },
     "execution_count": 97,
     "metadata": {},
     "output_type": "execute_result"
    }
   ],
   "source": [
    "train = pd.DataFrame({'pre':result.predict(x_train),'is_ovd':y_train})\n",
    "train['score'] = train['pre'].map(lambda x:Pre2Score(x,A,B))\n",
    "train['score'].describe()"
   ]
  },
  {
   "cell_type": "code",
   "execution_count": 98,
   "metadata": {},
   "outputs": [
    {
     "data": {
      "text/plain": [
       "count    74250.000000\n",
       "mean       544.169886\n",
       "std         10.526090\n",
       "min        419.000000\n",
       "25%        537.000000\n",
       "50%        544.000000\n",
       "75%        551.000000\n",
       "max        579.000000\n",
       "Name: score, dtype: float64"
      ]
     },
     "execution_count": 98,
     "metadata": {},
     "output_type": "execute_result"
    }
   ],
   "source": [
    "test = pd.DataFrame({'pre':result.predict(x_test),'is_ovd':y_test})\n",
    "test['score'] = test['pre'].map(lambda x:Pre2Score(x,A,B))\n",
    "test['score'].describe()"
   ]
  },
  {
   "cell_type": "markdown",
   "metadata": {},
   "source": [
    "#### 模型分数稳定性监控表"
   ]
  },
  {
   "cell_type": "code",
   "execution_count": 130,
   "metadata": {},
   "outputs": [
    {
     "data": {
      "text/html": [
       "<div>\n",
       "<style scoped>\n",
       "    .dataframe tbody tr th:only-of-type {\n",
       "        vertical-align: middle;\n",
       "    }\n",
       "\n",
       "    .dataframe tbody tr th {\n",
       "        vertical-align: top;\n",
       "    }\n",
       "\n",
       "    .dataframe thead th {\n",
       "        text-align: right;\n",
       "    }\n",
       "</style>\n",
       "<table border=\"1\" class=\"dataframe\">\n",
       "  <thead>\n",
       "    <tr style=\"text-align: right;\">\n",
       "      <th></th>\n",
       "      <th>建模样本数</th>\n",
       "      <th>百分比1</th>\n",
       "      <th>评分样本数</th>\n",
       "      <th>百分比2</th>\n",
       "      <th>ln(百分比比例)</th>\n",
       "      <th>百分比变化</th>\n",
       "      <th>IV值</th>\n",
       "    </tr>\n",
       "    <tr>\n",
       "      <th>分数</th>\n",
       "      <th></th>\n",
       "      <th></th>\n",
       "      <th></th>\n",
       "      <th></th>\n",
       "      <th></th>\n",
       "      <th></th>\n",
       "      <th></th>\n",
       "    </tr>\n",
       "  </thead>\n",
       "  <tbody>\n",
       "    <tr>\n",
       "      <td>400-450</td>\n",
       "      <td>56</td>\n",
       "      <td>0.03%</td>\n",
       "      <td>27</td>\n",
       "      <td>0.04%</td>\n",
       "      <td>0.118</td>\n",
       "      <td>0.00%</td>\n",
       "      <td>0.0000</td>\n",
       "    </tr>\n",
       "    <tr>\n",
       "      <td>450-500</td>\n",
       "      <td>8</td>\n",
       "      <td>0.00%</td>\n",
       "      <td>8</td>\n",
       "      <td>0.01%</td>\n",
       "      <td>0.847</td>\n",
       "      <td>0.01%</td>\n",
       "      <td>0.0001</td>\n",
       "    </tr>\n",
       "    <tr>\n",
       "      <td>500-525</td>\n",
       "      <td>4864</td>\n",
       "      <td>2.81%</td>\n",
       "      <td>2091</td>\n",
       "      <td>2.82%</td>\n",
       "      <td>0.003</td>\n",
       "      <td>0.01%</td>\n",
       "      <td>0.0000</td>\n",
       "    </tr>\n",
       "    <tr>\n",
       "      <td>525-550</td>\n",
       "      <td>114578</td>\n",
       "      <td>66.14%</td>\n",
       "      <td>49275</td>\n",
       "      <td>66.36%</td>\n",
       "      <td>0.003</td>\n",
       "      <td>0.23%</td>\n",
       "      <td>0.0000</td>\n",
       "    </tr>\n",
       "    <tr>\n",
       "      <td>550-575</td>\n",
       "      <td>53638</td>\n",
       "      <td>30.96%</td>\n",
       "      <td>22793</td>\n",
       "      <td>30.70%</td>\n",
       "      <td>-0.009</td>\n",
       "      <td>-0.26%</td>\n",
       "      <td>0.0000</td>\n",
       "    </tr>\n",
       "    <tr>\n",
       "      <td>575-600</td>\n",
       "      <td>104</td>\n",
       "      <td>0.06%</td>\n",
       "      <td>56</td>\n",
       "      <td>0.08%</td>\n",
       "      <td>0.228</td>\n",
       "      <td>0.02%</td>\n",
       "      <td>0.0000</td>\n",
       "    </tr>\n",
       "    <tr>\n",
       "      <td>合计</td>\n",
       "      <td>173248</td>\n",
       "      <td>100.00%</td>\n",
       "      <td>74250</td>\n",
       "      <td>100.00%</td>\n",
       "      <td>1.191</td>\n",
       "      <td>0.00%</td>\n",
       "      <td>0.0000</td>\n",
       "    </tr>\n",
       "  </tbody>\n",
       "</table>\n",
       "</div>"
      ],
      "text/plain": [
       "          建模样本数     百分比1  评分样本数     百分比2  ln(百分比比例)   百分比变化     IV值\n",
       "分数                                                                 \n",
       "400-450      56    0.03%     27    0.04%      0.118   0.00%  0.0000\n",
       "450-500       8    0.00%      8    0.01%      0.847   0.01%  0.0001\n",
       "500-525    4864    2.81%   2091    2.82%      0.003   0.01%  0.0000\n",
       "525-550  114578   66.14%  49275   66.36%      0.003   0.23%  0.0000\n",
       "550-575   53638   30.96%  22793   30.70%     -0.009  -0.26%  0.0000\n",
       "575-600     104    0.06%     56    0.08%      0.228   0.02%  0.0000\n",
       "合计       173248  100.00%  74250  100.00%      1.191   0.00%  0.0000"
      ]
     },
     "execution_count": 130,
     "metadata": {},
     "output_type": "execute_result"
    }
   ],
   "source": [
    "model = pd.DataFrame(columns = ['分数','建模样本数','百分比1','评分样本数','百分比2','ln(百分比比例)','百分比变化','IV值'])\n",
    "\n",
    "for i in [[400,450],[450,500],[500,525],[525,550],[550,575],[575,600]]:\n",
    "    model = model.append([{'建模样本数':train['score'].isin(range(i[0],i[1])).agg(sum),'评分样本数':test['score'].isin(range(i[0],i[1])).agg(sum)}])\n",
    "\n",
    "model['分数'] = ['400-450','450-500','500-525','525-550','550-575','575-600']\n",
    "model['百分比1'] = model['建模样本数']/len(train)\n",
    "model['百分比2'] = model['评分样本数']/len(test)\n",
    "model['ln(百分比比例)'] = (model['百分比2']/model['百分比1']).apply(lambda x: np.log(x))\n",
    "model['百分比变化'] = (model['百分比2'] - model['百分比1'])\n",
    "model.set_index('分数',inplace=True)\n",
    "model.loc['合计'] = model.agg(sum)\n",
    "# 格式化\n",
    "model['IV值'] = (model['百分比变化'] * model['ln(百分比比例)']).apply(lambda x:round(x,4))\n",
    "model['百分比1'] = model['百分比1'].apply(lambda x: format(x,'.2%'))\n",
    "model['百分比2'] = model['百分比2'].apply(lambda x: format(x,'.2%'))\n",
    "model['ln(百分比比例)'] = model['ln(百分比比例)'].apply(lambda x: round(x,3))\n",
    "model['百分比变化'] = model['百分比变化'].apply(lambda x: format(x,'.2%'))\n",
    "model"
   ]
  },
  {
   "cell_type": "markdown",
   "metadata": {},
   "source": [
    "#### 模型预测能力监控报表"
   ]
  },
  {
   "cell_type": "code",
   "execution_count": 332,
   "metadata": {},
   "outputs": [
    {
     "data": {
      "text/html": [
       "<div>\n",
       "<style scoped>\n",
       "    .dataframe tbody tr th:only-of-type {\n",
       "        vertical-align: middle;\n",
       "    }\n",
       "\n",
       "    .dataframe tbody tr th {\n",
       "        vertical-align: top;\n",
       "    }\n",
       "\n",
       "    .dataframe thead th {\n",
       "        text-align: right;\n",
       "    }\n",
       "</style>\n",
       "<table border=\"1\" class=\"dataframe\">\n",
       "  <thead>\n",
       "    <tr style=\"text-align: right;\">\n",
       "      <th></th>\n",
       "      <th>最高分</th>\n",
       "      <th>最低分</th>\n",
       "      <th>建模样本坏客户率</th>\n",
       "      <th>评分样本坏客户率</th>\n",
       "    </tr>\n",
       "    <tr>\n",
       "      <th>细分单元</th>\n",
       "      <th></th>\n",
       "      <th></th>\n",
       "      <th></th>\n",
       "      <th></th>\n",
       "    </tr>\n",
       "  </thead>\n",
       "  <tbody>\n",
       "    <tr>\n",
       "      <td>1</td>\n",
       "      <td>449.0</td>\n",
       "      <td>417.0</td>\n",
       "      <td>94.64%</td>\n",
       "      <td>100.00%</td>\n",
       "    </tr>\n",
       "    <tr>\n",
       "      <td>2</td>\n",
       "      <td>499.0</td>\n",
       "      <td>450.0</td>\n",
       "      <td>87.50%</td>\n",
       "      <td>87.50%</td>\n",
       "    </tr>\n",
       "    <tr>\n",
       "      <td>3</td>\n",
       "      <td>524.0</td>\n",
       "      <td>500.0</td>\n",
       "      <td>5.63%</td>\n",
       "      <td>5.74%</td>\n",
       "    </tr>\n",
       "    <tr>\n",
       "      <td>4</td>\n",
       "      <td>549.0</td>\n",
       "      <td>525.0</td>\n",
       "      <td>1.87%</td>\n",
       "      <td>1.76%</td>\n",
       "    </tr>\n",
       "    <tr>\n",
       "      <td>5</td>\n",
       "      <td>574.0</td>\n",
       "      <td>550.0</td>\n",
       "      <td>0.74%</td>\n",
       "      <td>0.75%</td>\n",
       "    </tr>\n",
       "    <tr>\n",
       "      <td>6</td>\n",
       "      <td>581.0</td>\n",
       "      <td>575.0</td>\n",
       "      <td>0.96%</td>\n",
       "      <td>0.00%</td>\n",
       "    </tr>\n",
       "  </tbody>\n",
       "</table>\n",
       "</div>"
      ],
      "text/plain": [
       "        最高分    最低分 建模样本坏客户率 评分样本坏客户率\n",
       "细分单元                                \n",
       "1     449.0  417.0   94.64%  100.00%\n",
       "2     499.0  450.0   87.50%   87.50%\n",
       "3     524.0  500.0    5.63%    5.74%\n",
       "4     549.0  525.0    1.87%    1.76%\n",
       "5     574.0  550.0    0.74%    0.75%\n",
       "6     581.0  575.0    0.96%    0.00%"
      ]
     },
     "execution_count": 332,
     "metadata": {},
     "output_type": "execute_result"
    }
   ],
   "source": [
    "model2 = pd.DataFrame(columns=['细分单元','最高分','最低分','建模样本坏客户率','评分样本坏客户率'])\n",
    "\n",
    "for i in [[400,450],[450,500],[500,525],[525,550],[550,575],[575,600]]:\n",
    "    a = train[train['score'].isin(range(i[0],i[1]))]\n",
    "    b = test[test['score'].isin(range(i[0],i[1]))]\n",
    "    model2 = model2.append([{'最高分':max(max(a['score']),max(b['score'])), '最低分':min(min(a['score']),min(b['score'])),\n",
    "                            '建模样本坏客户率':format(a[a.is_ovd == 1]['score'].count()/len(a),'.2%'),\n",
    "                            '评分样本坏客户率':format(b[b.is_ovd == 1]['score'].count()/len(b),'.2%')}])\n",
    "model2['细分单元'] = range(1,len(model))\n",
    "model2.set_index('细分单元')"
   ]
  },
  {
   "cell_type": "markdown",
   "metadata": {},
   "source": [
    "#### 模型变量预测能力监控表"
   ]
  },
  {
   "cell_type": "code",
   "execution_count": 325,
   "metadata": {
    "scrolled": true
   },
   "outputs": [],
   "source": [
    "writer = pd.ExcelWriter('../task6/模型变量预测能力监控报表2.xlsx'); row = 0\n",
    "for i in [['CODE_GENDER','性别'],['FLAG_OWN_REALTY','是否有房产'],['NAME_INCOME_TYPE','收入类型'],['NAME_FAMILY_STATUS','婚姻状况'],['OCCUPATION_TYPE','职业'],\n",
    "          ['AMT_INCOME_TOTAL','年收入'],['AGE','年龄'],['CNT_FAM_MEMBERS','家庭人数'],['WORK_TIME','工作年限']]:\n",
    "    a  = pd.Series(x.columns); a[a.str.contains(i[0])]\n",
    "    df = pd.DataFrame(columns=[i[1],'建模样本数','建模坏客户数','建模坏客户率','评分样本数','评分坏客户数','评分坏客户率'])\n",
    "    a  = pd.Series(x.columns); b = a[a.str.contains(i[0])]\n",
    "    df = pd.DataFrame(columns=[i[1],'建模样本数','建模坏客户数','评分样本数','评分坏客户数'])\n",
    "    \n",
    "    for j in b:\n",
    "        df = df.append([{'建模样本数':(x_train[j]==1).agg(sum), '建模坏客户数':y_train[x_train[j]==1].agg(sum), \n",
    "                         '评分样本数':(x_test[j]==1).agg(sum), '评分坏客户数':y_test[x_test[j]==1].agg(sum)}])\n",
    "        \n",
    "    df[i[1]] = b.values;df.set_index(i[1],inplace=True); \n",
    "    df.loc['其他'] = np.array([len(x_train),y_train.agg(sum),len(x_test),y_test.agg(sum)]) - np.array(df.apply(lambda x:sum(x)))\n",
    "    df.loc['合计'] = df.apply(lambda x:sum(x))\n",
    "    df.insert(2,'建模坏客户率',(df['建模坏客户数']/df['建模样本数']).apply(lambda x:format(x,'.2%')))\n",
    "    df['评分坏客户率'] = (df['评分坏客户数']/df['评分样本数']).apply(lambda x:format(x,'.2%'))\n",
    "    # df.columns=['建模样本数','建模坏客户数','建模坏客户率','评分样本数','评分坏客户数','评分坏客户率']\n",
    "    df.to_excel(writer,startrow=row)\n",
    "    row = row + len(df) + 2\n",
    "writer.save()"
   ]
  },
  {
   "cell_type": "code",
   "execution_count": null,
   "metadata": {},
   "outputs": [],
   "source": []
  }
 ],
 "metadata": {
  "kernelspec": {
   "display_name": "Python 3",
   "language": "python",
   "name": "python3"
  },
  "language_info": {
   "codemirror_mode": {
    "name": "ipython",
    "version": 3
   },
   "file_extension": ".py",
   "mimetype": "text/x-python",
   "name": "python",
   "nbconvert_exporter": "python",
   "pygments_lexer": "ipython3",
   "version": "3.7.4"
  }
 },
 "nbformat": 4,
 "nbformat_minor": 2
}
