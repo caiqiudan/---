{
 "cells": [
  {
   "cell_type": "code",
   "execution_count": 1,
   "metadata": {},
   "outputs": [],
   "source": [
    "import numpy as np\n",
    "import pandas as pd\n",
    "import matplotlib.pyplot as plt\n",
    "from datetime import datetime\n",
    "import copy\n",
    "%matplotlib inline\n",
    "plt.rcParams['font.sans-serif'] = ['SimHei'] # 指定默认字体\n",
    "plt.rcParams['axes.unicode_minus'] = False # 解决保存图像时负号‘-’显示为方块的问题"
   ]
  },
  {
   "cell_type": "code",
   "execution_count": 2,
   "metadata": {
    "scrolled": true
   },
   "outputs": [
    {
     "name": "stderr",
     "output_type": "stream",
     "text": [
      "D:\\software\\Anaconda3\\lib\\site-packages\\IPython\\core\\interactiveshell.py:3058: DtypeWarning: Columns (6) have mixed types. Specify dtype option on import or set low_memory=False.\n",
      "  interactivity=interactivity, compiler=compiler, result=result)\n"
     ]
    }
   ],
   "source": [
    "link = pd.read_csv('../数据/link_table.csv')\n",
    "res = pd.read_csv('../数据/response.csv')\n",
    "tran = pd.read_csv('../数据/transaction.csv')\n",
    "app = pd.read_csv('../数据/application_record.csv')"
   ]
  },
  {
   "cell_type": "code",
   "execution_count": 3,
   "metadata": {
    "scrolled": true
   },
   "outputs": [
    {
     "data": {
      "text/plain": [
       "4500"
      ]
     },
     "execution_count": 3,
     "metadata": {},
     "output_type": "execute_result"
    }
   ],
   "source": [
    "app['ID'].isin(link['ID']).agg(sum)"
   ]
  },
  {
   "cell_type": "code",
   "execution_count": 4,
   "metadata": {
    "scrolled": true
   },
   "outputs": [
    {
     "data": {
      "text/html": [
       "<div>\n",
       "<style scoped>\n",
       "    .dataframe tbody tr th:only-of-type {\n",
       "        vertical-align: middle;\n",
       "    }\n",
       "\n",
       "    .dataframe tbody tr th {\n",
       "        vertical-align: top;\n",
       "    }\n",
       "\n",
       "    .dataframe thead th {\n",
       "        text-align: right;\n",
       "    }\n",
       "</style>\n",
       "<table border=\"1\" class=\"dataframe\">\n",
       "  <thead>\n",
       "    <tr style=\"text-align: right;\">\n",
       "      <th></th>\n",
       "      <th>trans_id</th>\n",
       "      <th>account_id</th>\n",
       "      <th>date</th>\n",
       "      <th>type</th>\n",
       "      <th>operation</th>\n",
       "      <th>k_symbol</th>\n",
       "      <th>bank</th>\n",
       "      <th>account</th>\n",
       "      <th>amount_num</th>\n",
       "      <th>balance_num</th>\n",
       "    </tr>\n",
       "  </thead>\n",
       "  <tbody>\n",
       "    <tr>\n",
       "      <td>0</td>\n",
       "      <td>695247</td>\n",
       "      <td>2378</td>\n",
       "      <td>1993-01-01</td>\n",
       "      <td>credit</td>\n",
       "      <td>loan</td>\n",
       "      <td>NaN</td>\n",
       "      <td>NaN</td>\n",
       "      <td>NaN</td>\n",
       "      <td>700.0</td>\n",
       "      <td>700.0</td>\n",
       "    </tr>\n",
       "    <tr>\n",
       "      <td>1</td>\n",
       "      <td>171812</td>\n",
       "      <td>576</td>\n",
       "      <td>1993-01-01</td>\n",
       "      <td>credit</td>\n",
       "      <td>loan</td>\n",
       "      <td>NaN</td>\n",
       "      <td>NaN</td>\n",
       "      <td>NaN</td>\n",
       "      <td>900.0</td>\n",
       "      <td>900.0</td>\n",
       "    </tr>\n",
       "    <tr>\n",
       "      <td>2</td>\n",
       "      <td>207264</td>\n",
       "      <td>704</td>\n",
       "      <td>1993-01-01</td>\n",
       "      <td>credit</td>\n",
       "      <td>loan</td>\n",
       "      <td>NaN</td>\n",
       "      <td>NaN</td>\n",
       "      <td>NaN</td>\n",
       "      <td>1000.0</td>\n",
       "      <td>1000.0</td>\n",
       "    </tr>\n",
       "    <tr>\n",
       "      <td>3</td>\n",
       "      <td>1117247</td>\n",
       "      <td>3818</td>\n",
       "      <td>1993-01-01</td>\n",
       "      <td>credit</td>\n",
       "      <td>loan</td>\n",
       "      <td>NaN</td>\n",
       "      <td>NaN</td>\n",
       "      <td>NaN</td>\n",
       "      <td>600.0</td>\n",
       "      <td>600.0</td>\n",
       "    </tr>\n",
       "    <tr>\n",
       "      <td>4</td>\n",
       "      <td>579373</td>\n",
       "      <td>1972</td>\n",
       "      <td>1993-01-02</td>\n",
       "      <td>credit</td>\n",
       "      <td>loan</td>\n",
       "      <td>NaN</td>\n",
       "      <td>NaN</td>\n",
       "      <td>NaN</td>\n",
       "      <td>400.0</td>\n",
       "      <td>400.0</td>\n",
       "    </tr>\n",
       "    <tr>\n",
       "      <td>...</td>\n",
       "      <td>...</td>\n",
       "      <td>...</td>\n",
       "      <td>...</td>\n",
       "      <td>...</td>\n",
       "      <td>...</td>\n",
       "      <td>...</td>\n",
       "      <td>...</td>\n",
       "      <td>...</td>\n",
       "      <td>...</td>\n",
       "      <td>...</td>\n",
       "    </tr>\n",
       "    <tr>\n",
       "      <td>1056314</td>\n",
       "      <td>3625433</td>\n",
       "      <td>2870</td>\n",
       "      <td>1998-12-31</td>\n",
       "      <td>credit</td>\n",
       "      <td>NaN</td>\n",
       "      <td>interest</td>\n",
       "      <td>NaN</td>\n",
       "      <td>NaN</td>\n",
       "      <td>189.0</td>\n",
       "      <td>44120.0</td>\n",
       "    </tr>\n",
       "    <tr>\n",
       "      <td>1056315</td>\n",
       "      <td>3626622</td>\n",
       "      <td>2906</td>\n",
       "      <td>1998-12-31</td>\n",
       "      <td>credit</td>\n",
       "      <td>NaN</td>\n",
       "      <td>interest</td>\n",
       "      <td>NaN</td>\n",
       "      <td>NaN</td>\n",
       "      <td>62.0</td>\n",
       "      <td>13729.0</td>\n",
       "    </tr>\n",
       "    <tr>\n",
       "      <td>1056316</td>\n",
       "      <td>3627616</td>\n",
       "      <td>2935</td>\n",
       "      <td>1998-12-31</td>\n",
       "      <td>credit</td>\n",
       "      <td>NaN</td>\n",
       "      <td>interest</td>\n",
       "      <td>NaN</td>\n",
       "      <td>NaN</td>\n",
       "      <td>81.0</td>\n",
       "      <td>19545.0</td>\n",
       "    </tr>\n",
       "    <tr>\n",
       "      <td>1056317</td>\n",
       "      <td>3625403</td>\n",
       "      <td>2869</td>\n",
       "      <td>1998-12-31</td>\n",
       "      <td>credit</td>\n",
       "      <td>NaN</td>\n",
       "      <td>interest</td>\n",
       "      <td>NaN</td>\n",
       "      <td>NaN</td>\n",
       "      <td>60.0</td>\n",
       "      <td>14638.0</td>\n",
       "    </tr>\n",
       "    <tr>\n",
       "      <td>1056318</td>\n",
       "      <td>3626683</td>\n",
       "      <td>2907</td>\n",
       "      <td>1998-12-31</td>\n",
       "      <td>credit</td>\n",
       "      <td>NaN</td>\n",
       "      <td>interest</td>\n",
       "      <td>NaN</td>\n",
       "      <td>NaN</td>\n",
       "      <td>108.0</td>\n",
       "      <td>23453.0</td>\n",
       "    </tr>\n",
       "  </tbody>\n",
       "</table>\n",
       "<p>1056319 rows × 10 columns</p>\n",
       "</div>"
      ],
      "text/plain": [
       "         trans_id  account_id        date    type operation   k_symbol bank  \\\n",
       "0          695247        2378  1993-01-01  credit      loan        NaN  NaN   \n",
       "1          171812         576  1993-01-01  credit      loan        NaN  NaN   \n",
       "2          207264         704  1993-01-01  credit      loan        NaN  NaN   \n",
       "3         1117247        3818  1993-01-01  credit      loan        NaN  NaN   \n",
       "4          579373        1972  1993-01-02  credit      loan        NaN  NaN   \n",
       "...           ...         ...         ...     ...       ...        ...  ...   \n",
       "1056314   3625433        2870  1998-12-31  credit       NaN  interest   NaN   \n",
       "1056315   3626622        2906  1998-12-31  credit       NaN  interest   NaN   \n",
       "1056316   3627616        2935  1998-12-31  credit       NaN  interest   NaN   \n",
       "1056317   3625403        2869  1998-12-31  credit       NaN  interest   NaN   \n",
       "1056318   3626683        2907  1998-12-31  credit       NaN  interest   NaN   \n",
       "\n",
       "         account  amount_num  balance_num  \n",
       "0            NaN       700.0        700.0  \n",
       "1            NaN       900.0        900.0  \n",
       "2            NaN      1000.0       1000.0  \n",
       "3            NaN       600.0        600.0  \n",
       "4            NaN       400.0        400.0  \n",
       "...          ...         ...          ...  \n",
       "1056314      NaN       189.0      44120.0  \n",
       "1056315      NaN        62.0      13729.0  \n",
       "1056316      NaN        81.0      19545.0  \n",
       "1056317      NaN        60.0      14638.0  \n",
       "1056318      NaN       108.0      23453.0  \n",
       "\n",
       "[1056319 rows x 10 columns]"
      ]
     },
     "execution_count": 4,
     "metadata": {},
     "output_type": "execute_result"
    }
   ],
   "source": [
    "tran.head(-1)"
   ]
  },
  {
   "cell_type": "markdown",
   "metadata": {},
   "source": [
    "#### 计算RFM"
   ]
  },
  {
   "cell_type": "code",
   "execution_count": 5,
   "metadata": {},
   "outputs": [
    {
     "name": "stderr",
     "output_type": "stream",
     "text": [
      "D:\\software\\Anaconda3\\lib\\site-packages\\ipykernel_launcher.py:8: UserWarning: Boolean Series key will be reindexed to match DataFrame index.\n",
      "  \n"
     ]
    }
   ],
   "source": [
    "# 账户号映射客户号\n",
    "id_dic = link.set_index('account_id')['ID'].to_dict()\n",
    "tran['ID'] = tran['account_id'].apply(lambda x: id_dic[x])\n",
    "# 距1998-6-30的交易时间/天\n",
    "tran['date'] = tran['date'].astype('datetime64') # date转为时间格式 pd.to_datetime(tran['date'])\n",
    "tran['tran_time'] = datetime(1998,6,30) - tran['date']\n",
    "# tran_view    选取观察窗口 1998-1-1 至 1998-6-30\n",
    "tran_view = tran[tran['date']>='1998-1-1'][tran['date']<='1998-6-30']"
   ]
  },
  {
   "cell_type": "code",
   "execution_count": 6,
   "metadata": {},
   "outputs": [
    {
     "data": {
      "text/html": [
       "<div>\n",
       "<style scoped>\n",
       "    .dataframe tbody tr th:only-of-type {\n",
       "        vertical-align: middle;\n",
       "    }\n",
       "\n",
       "    .dataframe tbody tr th {\n",
       "        vertical-align: top;\n",
       "    }\n",
       "\n",
       "    .dataframe thead th {\n",
       "        text-align: right;\n",
       "    }\n",
       "</style>\n",
       "<table border=\"1\" class=\"dataframe\">\n",
       "  <thead>\n",
       "    <tr style=\"text-align: right;\">\n",
       "      <th></th>\n",
       "      <th>R</th>\n",
       "      <th>F</th>\n",
       "      <th>M</th>\n",
       "    </tr>\n",
       "    <tr>\n",
       "      <th>ID</th>\n",
       "      <th></th>\n",
       "      <th></th>\n",
       "      <th></th>\n",
       "    </tr>\n",
       "  </thead>\n",
       "  <tbody>\n",
       "    <tr>\n",
       "      <td>5149514</td>\n",
       "      <td>180</td>\n",
       "      <td>1</td>\n",
       "      <td>5300.0</td>\n",
       "    </tr>\n",
       "    <tr>\n",
       "      <td>6575354</td>\n",
       "      <td>165</td>\n",
       "      <td>1</td>\n",
       "      <td>2200.0</td>\n",
       "    </tr>\n",
       "    <tr>\n",
       "      <td>5945612</td>\n",
       "      <td>150</td>\n",
       "      <td>3</td>\n",
       "      <td>3401.0</td>\n",
       "    </tr>\n",
       "    <tr>\n",
       "      <td>6209733</td>\n",
       "      <td>142</td>\n",
       "      <td>2</td>\n",
       "      <td>2900.0</td>\n",
       "    </tr>\n",
       "    <tr>\n",
       "      <td>5906133</td>\n",
       "      <td>116</td>\n",
       "      <td>3</td>\n",
       "      <td>5100.0</td>\n",
       "    </tr>\n",
       "  </tbody>\n",
       "</table>\n",
       "</div>"
      ],
      "text/plain": [
       "           R  F       M\n",
       "ID                     \n",
       "5149514  180  1  5300.0\n",
       "6575354  165  1  2200.0\n",
       "5945612  150  3  3401.0\n",
       "6209733  142  2  2900.0\n",
       "5906133  116  3  5100.0"
      ]
     },
     "execution_count": 6,
     "metadata": {},
     "output_type": "execute_result"
    }
   ],
   "source": [
    "id_rfm = pd.DataFrame(columns=['ID','R','F','M'])\n",
    "id_rfm['ID'] = tran_view.drop_duplicates('ID',keep='last')['ID']\n",
    "id_rfm['R'] = tran_view.drop_duplicates('ID',keep='last')['tran_time'].apply(lambda x: x.days)\n",
    "# 字典映射频次\n",
    "F_dic = tran_view['ID'].value_counts().to_dict() \n",
    "id_rfm['F'] = id_rfm['ID'].apply(lambda x: F_dic.setdefault(x,0))\n",
    "# 字典映射总金额\n",
    "M_dic = tran_view.groupby('ID')['amount_num'].agg(sum).to_dict()\n",
    "id_rfm['M'] = id_rfm.ID.apply(lambda x: M_dic.setdefault(x,0))\n",
    "id_rfm.set_index('ID',inplace=True)\n",
    "# id_rfm.to_excel('RFM.xlsx') # 写入excel\n",
    "id_rfm.head()"
   ]
  },
  {
   "cell_type": "markdown",
   "metadata": {},
   "source": [
    "#### RFM分档"
   ]
  },
  {
   "cell_type": "code",
   "execution_count": 7,
   "metadata": {},
   "outputs": [
    {
     "data": {
      "text/plain": [
       "(-1.0, 0.0]    4440\n",
       "(0.0, inf]       50\n",
       "Name: R, dtype: int64"
      ]
     },
     "execution_count": 7,
     "metadata": {},
     "output_type": "execute_result"
    }
   ],
   "source": [
    "# plt.hist(id_rfm.R)\n",
    "pd.cut(id_rfm.R,bins=[-1,0,np.inf]).value_counts()"
   ]
  },
  {
   "cell_type": "code",
   "execution_count": 8,
   "metadata": {},
   "outputs": [
    {
     "data": {
      "text/plain": [
       "(0.0, 40.0]    2879\n",
       "(40.0, inf]    1611\n",
       "Name: F, dtype: int64"
      ]
     },
     "execution_count": 8,
     "metadata": {},
     "output_type": "execute_result"
    },
    {
     "data": {
      "image/png": "[encoded data removed]",
      "text/plain": [
       "<Figure size 900x600 with 1 Axes>"
      ]
     },
     "metadata": {
      "needs_background": "light"
     },
     "output_type": "display_data"
    }
   ],
   "source": [
    "plt.figure(dpi=150,) #  figsize=(2,1.7)\n",
    "plt.hist(id_rfm.F,bins=40); plt.title('客户在F指标的分布直方图',fontsize=8); plt.xlabel('半年内购买次数',fontsize=8); plt.ylabel('频次',fontsize=8)\n",
    "pd.cut(id_rfm.F,bins=[0,40,np.inf],precision=0).value_counts().sort_index()"
   ]
  },
  {
   "cell_type": "code",
   "execution_count": 9,
   "metadata": {},
   "outputs": [
    {
     "data": {
      "text/plain": [
       "(0.0, 310000.0]    3543\n",
       "(310000.0, inf]     947\n",
       "Name: M, dtype: int64"
      ]
     },
     "execution_count": 9,
     "metadata": {},
     "output_type": "execute_result"
    },
    {
     "data": {
      "image/png": "[encoded data removed]",
      "text/plain": [
       "<Figure size 432x288 with 1 Axes>"
      ]
     },
     "metadata": {
      "needs_background": "light"
     },
     "output_type": "display_data"
    }
   ],
   "source": [
    "# 二八定律/帕累托法则\n",
    "plt.hist(id_rfm.M,bins=10)\n",
    "pd.cut(id_rfm.M,[0,310000,np.inf],precision=0).value_counts().sort_index() # pd.qcut(id_rfm.M,[0,.8,1],precision=0).value_counts().sort_index()"
   ]
  },
  {
   "cell_type": "code",
   "execution_count": 10,
   "metadata": {},
   "outputs": [
    {
     "data": {
      "text/html": [
       "<div>\n",
       "<style scoped>\n",
       "    .dataframe tbody tr th:only-of-type {\n",
       "        vertical-align: middle;\n",
       "    }\n",
       "\n",
       "    .dataframe tbody tr th {\n",
       "        vertical-align: top;\n",
       "    }\n",
       "\n",
       "    .dataframe thead th {\n",
       "        text-align: right;\n",
       "    }\n",
       "</style>\n",
       "<table border=\"1\" class=\"dataframe\">\n",
       "  <thead>\n",
       "    <tr style=\"text-align: right;\">\n",
       "      <th></th>\n",
       "      <th>R</th>\n",
       "      <th>F</th>\n",
       "      <th>M</th>\n",
       "    </tr>\n",
       "    <tr>\n",
       "      <th>ID</th>\n",
       "      <th></th>\n",
       "      <th></th>\n",
       "      <th></th>\n",
       "    </tr>\n",
       "  </thead>\n",
       "  <tbody>\n",
       "    <tr>\n",
       "      <td>5149514</td>\n",
       "      <td>低</td>\n",
       "      <td>低</td>\n",
       "      <td>低</td>\n",
       "    </tr>\n",
       "    <tr>\n",
       "      <td>6575354</td>\n",
       "      <td>低</td>\n",
       "      <td>低</td>\n",
       "      <td>低</td>\n",
       "    </tr>\n",
       "    <tr>\n",
       "      <td>5945612</td>\n",
       "      <td>低</td>\n",
       "      <td>低</td>\n",
       "      <td>低</td>\n",
       "    </tr>\n",
       "    <tr>\n",
       "      <td>6209733</td>\n",
       "      <td>低</td>\n",
       "      <td>低</td>\n",
       "      <td>低</td>\n",
       "    </tr>\n",
       "    <tr>\n",
       "      <td>5906133</td>\n",
       "      <td>低</td>\n",
       "      <td>低</td>\n",
       "      <td>低</td>\n",
       "    </tr>\n",
       "  </tbody>\n",
       "</table>\n",
       "</div>"
      ],
      "text/plain": [
       "         R  F  M\n",
       "ID              \n",
       "5149514  低  低  低\n",
       "6575354  低  低  低\n",
       "5945612  低  低  低\n",
       "6209733  低  低  低\n",
       "5906133  低  低  低"
      ]
     },
     "execution_count": 10,
     "metadata": {},
     "output_type": "execute_result"
    }
   ],
   "source": [
    "level_rfm = copy.deepcopy(id_rfm)\n",
    "level_rfm['R'] = level_rfm['R'].apply(lambda x: '高' if x==0 else '低')\n",
    "level_rfm['F'] = level_rfm['F'].apply(lambda x: '低' if x<=40 else '高')\n",
    "level_rfm['M'] = level_rfm['M'].apply(lambda x: '低' if x<=310000 else '高')\n",
    "level_rfm.head()"
   ]
  },
  {
   "cell_type": "code",
   "execution_count": 11,
   "metadata": {},
   "outputs": [],
   "source": [
    "kind_dic = {'高高高':'重要价值客户','高低高':'重要发展客户',\n",
    "    '低高高':'重要保持客户','低低高':'重要挽留客户',\n",
    "    '高高低':'一般价值客户','高低低':'一般发展客户',\n",
    "    '低高低':'一般保持客户','低低低':'一般挽留客户'}\n",
    "level_rfm['label'] = level_rfm.apply(lambda x: kind_dic[x.values.sum()] ,axis=1)"
   ]
  },
  {
   "cell_type": "code",
   "execution_count": 12,
   "metadata": {},
   "outputs": [
    {
     "data": {
      "text/html": [
       "<div>\n",
       "<style scoped>\n",
       "    .dataframe tbody tr th:only-of-type {\n",
       "        vertical-align: middle;\n",
       "    }\n",
       "\n",
       "    .dataframe tbody tr th {\n",
       "        vertical-align: top;\n",
       "    }\n",
       "\n",
       "    .dataframe thead th {\n",
       "        text-align: right;\n",
       "    }\n",
       "</style>\n",
       "<table border=\"1\" class=\"dataframe\">\n",
       "  <thead>\n",
       "    <tr style=\"text-align: right;\">\n",
       "      <th></th>\n",
       "      <th>label</th>\n",
       "    </tr>\n",
       "  </thead>\n",
       "  <tbody>\n",
       "    <tr>\n",
       "      <td>一般发展客户</td>\n",
       "      <td>2498</td>\n",
       "    </tr>\n",
       "    <tr>\n",
       "      <td>一般价值客户</td>\n",
       "      <td>995</td>\n",
       "    </tr>\n",
       "    <tr>\n",
       "      <td>重要价值客户</td>\n",
       "      <td>616</td>\n",
       "    </tr>\n",
       "    <tr>\n",
       "      <td>重要发展客户</td>\n",
       "      <td>331</td>\n",
       "    </tr>\n",
       "    <tr>\n",
       "      <td>一般挽留客户</td>\n",
       "      <td>50</td>\n",
       "    </tr>\n",
       "  </tbody>\n",
       "</table>\n",
       "</div>"
      ],
      "text/plain": [
       "        label\n",
       "一般发展客户   2498\n",
       "一般价值客户    995\n",
       "重要价值客户    616\n",
       "重要发展客户    331\n",
       "一般挽留客户     50"
      ]
     },
     "execution_count": 12,
     "metadata": {},
     "output_type": "execute_result"
    }
   ],
   "source": [
    "pd.DataFrame(level_rfm['label'].value_counts())"
   ]
  },
  {
   "cell_type": "code",
   "execution_count": 13,
   "metadata": {
    "scrolled": true
   },
   "outputs": [
    {
     "data": {
      "text/plain": [
       "一般发展客户    2498\n",
       "一般价值客户     995\n",
       "重要价值客户     616\n",
       "重要发展客户     331\n",
       "一般挽留客户      50\n",
       "Name: label, dtype: int64"
      ]
     },
     "execution_count": 13,
     "metadata": {},
     "output_type": "execute_result"
    }
   ],
   "source": [
    "level_rfm['label'].value_counts()"
   ]
  },
  {
   "cell_type": "code",
   "execution_count": 17,
   "metadata": {},
   "outputs": [],
   "source": [
    "# label_list= ['重要价值客户','重要发展客户',\n",
    "#     '重要保持客户','重要挽留客户',\n",
    "#     '一般价值客户','一般发展客户',\n",
    "#     '一般保持客户','一般挽留客户']\n",
    "# for k in label_list:\n",
    "#     level_rfm[k] = level_rfm['label'].apply(lambda x: 1 if x==k else 0)\n",
    "    \n",
    "level_rfm.to_csv('../数据/rfm_label.csv') # 保存到csv"
   ]
  },
  {
   "cell_type": "code",
   "execution_count": null,
   "metadata": {},
   "outputs": [],
   "source": []
  }
 ],
 "metadata": {
  "kernelspec": {
   "display_name": "Python 3",
   "language": "python",
   "name": "python3"
  },
  "language_info": {
   "codemirror_mode": {
    "name": "ipython",
    "version": 3
   },
   "file_extension": ".py",
   "mimetype": "text/x-python",
   "name": "python",
   "nbconvert_exporter": "python",
   "pygments_lexer": "ipython3",
   "version": "3.7.4"
  }
 },
 "nbformat": 4,
 "nbformat_minor": 2
}
