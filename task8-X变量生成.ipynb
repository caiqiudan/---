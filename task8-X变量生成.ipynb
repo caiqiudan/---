{
 "cells": [
  {
   "cell_type": "code",
   "execution_count": 1,
   "metadata": {},
   "outputs": [],
   "source": [
    "import numpy as np\n",
    "import pandas as pd\n",
    "import matplotlib.pyplot as plt\n",
    "import copy\n",
    "%matplotlib inline\n",
    "plt.rcParams['font.sans-serif'] = ['SimHei'] # 指定默认字体\n",
    "plt.rcParams['axes.unicode_minus'] = False # 解决保存图像时负号‘-’显示为方块的问题"
   ]
  },
  {
   "cell_type": "code",
   "execution_count": 2,
   "metadata": {
    "scrolled": true
   },
   "outputs": [
    {
     "name": "stderr",
     "output_type": "stream",
     "text": [
      "D:\\software\\Anaconda3\\lib\\site-packages\\IPython\\core\\interactiveshell.py:3058: DtypeWarning: Columns (6) have mixed types. Specify dtype option on import or set low_memory=False.\n",
      "  interactivity=interactivity, compiler=compiler, result=result)\n"
     ]
    }
   ],
   "source": [
    "app = pd.read_csv('../数据/application_record.csv')\n",
    "score = pd.read_csv('../数据/风险评分.csv')\n",
    "res = pd.read_csv('../数据/response.csv')\n",
    "tra = pd.read_csv('../数据/transaction.csv')\n",
    "lin = pd.read_csv('../数据/link_table.csv')"
   ]
  },
  {
   "cell_type": "code",
   "execution_count": 3,
   "metadata": {},
   "outputs": [],
   "source": [
    "tra = pd.merge(tra,res,on='account_id',how='left')\n",
    "# 账户号映射客户号\n",
    "id_dic = lin.set_index('account_id')['ID'].to_dict()\n",
    "tra['ID'] = tra['account_id'].apply(lambda x: id_dic[x])\n",
    "tra.drop('account_id',axis=1,inplace=True) # 去掉account_id"
   ]
  },
  {
   "cell_type": "code",
   "execution_count": 4,
   "metadata": {
    "scrolled": true
   },
   "outputs": [
    {
     "data": {
      "text/html": [
       "<div>\n",
       "<style scoped>\n",
       "    .dataframe tbody tr th:only-of-type {\n",
       "        vertical-align: middle;\n",
       "    }\n",
       "\n",
       "    .dataframe tbody tr th {\n",
       "        vertical-align: top;\n",
       "    }\n",
       "\n",
       "    .dataframe thead th {\n",
       "        text-align: right;\n",
       "    }\n",
       "</style>\n",
       "<table border=\"1\" class=\"dataframe\">\n",
       "  <thead>\n",
       "    <tr style=\"text-align: right;\">\n",
       "      <th></th>\n",
       "      <th>ID</th>\n",
       "      <th>CODE_GENDER</th>\n",
       "      <th>FLAG_OWN_CAR</th>\n",
       "      <th>FLAG_OWN_REALTY</th>\n",
       "      <th>CNT_CHILDREN</th>\n",
       "      <th>AMT_INCOME_TOTAL</th>\n",
       "      <th>NAME_INCOME_TYPE</th>\n",
       "      <th>NAME_EDUCATION_TYPE</th>\n",
       "      <th>NAME_FAMILY_STATUS</th>\n",
       "      <th>NAME_HOUSING_TYPE</th>\n",
       "      <th>DAYS_BIRTH</th>\n",
       "      <th>DAYS_EMPLOYED</th>\n",
       "      <th>FLAG_MOBIL</th>\n",
       "      <th>FLAG_WORK_PHONE</th>\n",
       "      <th>FLAG_PHONE</th>\n",
       "      <th>FLAG_EMAIL</th>\n",
       "      <th>OCCUPATION_TYPE</th>\n",
       "      <th>CNT_FAM_MEMBERS</th>\n",
       "    </tr>\n",
       "  </thead>\n",
       "  <tbody>\n",
       "    <tr>\n",
       "      <td>0</td>\n",
       "      <td>5008804</td>\n",
       "      <td>M</td>\n",
       "      <td>Y</td>\n",
       "      <td>Y</td>\n",
       "      <td>0</td>\n",
       "      <td>427500.0</td>\n",
       "      <td>Working</td>\n",
       "      <td>Higher education</td>\n",
       "      <td>Civil marriage</td>\n",
       "      <td>Rented apartment</td>\n",
       "      <td>-12005</td>\n",
       "      <td>-4542</td>\n",
       "      <td>1</td>\n",
       "      <td>1</td>\n",
       "      <td>0</td>\n",
       "      <td>0</td>\n",
       "      <td>NaN</td>\n",
       "      <td>2.0</td>\n",
       "    </tr>\n",
       "  </tbody>\n",
       "</table>\n",
       "</div>"
      ],
      "text/plain": [
       "        ID CODE_GENDER FLAG_OWN_CAR FLAG_OWN_REALTY  CNT_CHILDREN  \\\n",
       "0  5008804           M            Y               Y             0   \n",
       "\n",
       "   AMT_INCOME_TOTAL NAME_INCOME_TYPE NAME_EDUCATION_TYPE NAME_FAMILY_STATUS  \\\n",
       "0          427500.0          Working    Higher education     Civil marriage   \n",
       "\n",
       "  NAME_HOUSING_TYPE  DAYS_BIRTH  DAYS_EMPLOYED  FLAG_MOBIL  FLAG_WORK_PHONE  \\\n",
       "0  Rented apartment      -12005          -4542           1                1   \n",
       "\n",
       "   FLAG_PHONE  FLAG_EMAIL OCCUPATION_TYPE  CNT_FAM_MEMBERS  \n",
       "0           0           0             NaN              2.0  "
      ]
     },
     "execution_count": 4,
     "metadata": {},
     "output_type": "execute_result"
    }
   ],
   "source": [
    "app.head(1)"
   ]
  },
  {
   "cell_type": "markdown",
   "metadata": {},
   "source": [
    "##### 窗口暂时定在半年 1998-1-1 至 1998-6-30\n",
    "##### 可以根据ID出现情况定制观察窗口"
   ]
  },
  {
   "cell_type": "code",
   "execution_count": 8,
   "metadata": {},
   "outputs": [
    {
     "name": "stderr",
     "output_type": "stream",
     "text": [
      "D:\\software\\Anaconda3\\lib\\site-packages\\ipykernel_launcher.py:3: UserWarning: Boolean Series key will be reindexed to match DataFrame index.\n",
      "  This is separate from the ipykernel package so we can avoid doing imports until\n"
     ]
    }
   ],
   "source": [
    "tra['date'] = tra['date'].astype('datetime64') \n",
    "data = tra[tra.date>='1998-1-1'][tra.date<='1998-6-30']\n",
    "# data = tra[tra.date>='1998-7-1'][tra.date<='1998-12-31'] # 我要保存1998下半年数据"
   ]
  },
  {
   "cell_type": "code",
   "execution_count": 9,
   "metadata": {
    "scrolled": true
   },
   "outputs": [
    {
     "data": {
      "text/html": [
       "<div>\n",
       "<style scoped>\n",
       "    .dataframe tbody tr th:only-of-type {\n",
       "        vertical-align: middle;\n",
       "    }\n",
       "\n",
       "    .dataframe tbody tr th {\n",
       "        vertical-align: top;\n",
       "    }\n",
       "\n",
       "    .dataframe thead th {\n",
       "        text-align: right;\n",
       "    }\n",
       "</style>\n",
       "<table border=\"1\" class=\"dataframe\">\n",
       "  <thead>\n",
       "    <tr style=\"text-align: right;\">\n",
       "      <th></th>\n",
       "      <th>trans_id</th>\n",
       "      <th>date</th>\n",
       "      <th>type</th>\n",
       "      <th>operation</th>\n",
       "      <th>k_symbol</th>\n",
       "      <th>bank</th>\n",
       "      <th>account</th>\n",
       "      <th>amount_num</th>\n",
       "      <th>balance_num</th>\n",
       "      <th>resp</th>\n",
       "      <th>ID</th>\n",
       "    </tr>\n",
       "  </thead>\n",
       "  <tbody>\n",
       "    <tr>\n",
       "      <td>905083</td>\n",
       "      <td>729845</td>\n",
       "      <td>1998-07-01</td>\n",
       "      <td>debit</td>\n",
       "      <td>cash</td>\n",
       "      <td>NaN</td>\n",
       "      <td>NaN</td>\n",
       "      <td>NaN</td>\n",
       "      <td>34500.0</td>\n",
       "      <td>32968.0</td>\n",
       "      <td>1</td>\n",
       "      <td>6208926</td>\n",
       "    </tr>\n",
       "    <tr>\n",
       "      <td>905084</td>\n",
       "      <td>800074</td>\n",
       "      <td>1998-07-01</td>\n",
       "      <td>credit</td>\n",
       "      <td>loan</td>\n",
       "      <td>NaN</td>\n",
       "      <td>NaN</td>\n",
       "      <td>NaN</td>\n",
       "      <td>2700.0</td>\n",
       "      <td>47912.0</td>\n",
       "      <td>1</td>\n",
       "      <td>5118353</td>\n",
       "    </tr>\n",
       "  </tbody>\n",
       "</table>\n",
       "</div>"
      ],
      "text/plain": [
       "        trans_id       date    type operation k_symbol bank  account  \\\n",
       "905083    729845 1998-07-01   debit      cash      NaN  NaN      NaN   \n",
       "905084    800074 1998-07-01  credit      loan      NaN  NaN      NaN   \n",
       "\n",
       "        amount_num  balance_num  resp       ID  \n",
       "905083     34500.0      32968.0     1  6208926  \n",
       "905084      2700.0      47912.0     1  5118353  "
      ]
     },
     "execution_count": 9,
     "metadata": {},
     "output_type": "execute_result"
    }
   ],
   "source": [
    "data.head(2)"
   ]
  },
  {
   "cell_type": "code",
   "execution_count": 10,
   "metadata": {},
   "outputs": [
    {
     "data": {
      "text/plain": [
       "Index(['trans_id', 'date', 'type', 'operation', 'k_symbol', 'bank', 'account',\n",
       "       'amount_num', 'balance_num', 'resp', 'ID'],\n",
       "      dtype='object')"
      ]
     },
     "execution_count": 10,
     "metadata": {},
     "output_type": "execute_result"
    }
   ],
   "source": [
    "data.columns"
   ]
  },
  {
   "cell_type": "code",
   "execution_count": 11,
   "metadata": {},
   "outputs": [],
   "source": [
    "data.operation = data.operation.fillna('interest') # 因为交易类型缺失的都为交易特征的利息\n",
    "data.k_symbol = data.k_symbol.fillna('Unknow')"
   ]
  },
  {
   "cell_type": "code",
   "execution_count": 12,
   "metadata": {},
   "outputs": [
    {
     "name": "stderr",
     "output_type": "stream",
     "text": [
      "D:\\software\\Anaconda3\\lib\\site-packages\\ipykernel_launcher.py:1: UserWarning: Boolean Series key will be reindexed to match DataFrame index.\n",
      "  \"\"\"Entry point for launching an IPython kernel.\n"
     ]
    }
   ],
   "source": [
    "app_data = copy.deepcopy(app.drop_duplicates('ID')[app.ID.isin(data.ID)])"
   ]
  },
  {
   "cell_type": "markdown",
   "metadata": {},
   "source": [
    "### 衍生变量 "
   ]
  },
  {
   "cell_type": "markdown",
   "metadata": {},
   "source": [
    "###### 表现期的交易次数"
   ]
  },
  {
   "cell_type": "code",
   "execution_count": 13,
   "metadata": {},
   "outputs": [],
   "source": [
    "fre = data.groupby('ID').resp.count().reset_index()\n",
    "fre = fre.rename(columns={'resp':'Xn_trades'})\n",
    "app_data = pd.merge(app_data,fre,on='ID',how='left')"
   ]
  },
  {
   "cell_type": "markdown",
   "metadata": {},
   "source": [
    "##### 总交易金额"
   ]
  },
  {
   "cell_type": "code",
   "execution_count": 14,
   "metadata": {},
   "outputs": [],
   "source": [
    "# sum_money = data.groupby('ID').amount_num.agg(sum).reset_index()\n",
    "# sum_money = sum_money.rename(columns = {'amount_num':'交易总金额'})\n",
    "# app_data = pd.merge(app_data,sum_money,on='ID',how='left')"
   ]
  },
  {
   "cell_type": "markdown",
   "metadata": {},
   "source": [
    "##### 每次平均交易金额"
   ]
  },
  {
   "cell_type": "code",
   "execution_count": 15,
   "metadata": {},
   "outputs": [],
   "source": [
    "ave_money = data.groupby('ID').amount_num.agg(np.mean).reset_index()\n",
    "ave_money = ave_money.rename(columns = {'amount_num':'Xn_Avg_amount_num'})\n",
    "app_data = pd.merge(app_data,ave_money,on='ID',how='left')\n",
    "app_data['Xn_Avg_amount_num'] = app_data['Xn_Avg_amount_num'].apply(lambda x: round(x,0))"
   ]
  },
  {
   "cell_type": "markdown",
   "metadata": {},
   "source": [
    "##### 账户余额"
   ]
  },
  {
   "cell_type": "code",
   "execution_count": 16,
   "metadata": {},
   "outputs": [],
   "source": [
    "fina_money = data.drop_duplicates('ID',keep='last').loc[:,['ID','balance_num']]\n",
    "fina_money = fina_money.rename(columns = {'balance_num':'Xn_balance_num'})\n",
    "app_data = pd.merge(app_data,fina_money,on='ID',how='left')"
   ]
  },
  {
   "cell_type": "markdown",
   "metadata": {},
   "source": [
    "##### 账户余额的变化"
   ]
  },
  {
   "cell_type": "code",
   "execution_count": 17,
   "metadata": {},
   "outputs": [],
   "source": [
    "change_money = pd.merge(data.drop_duplicates('ID','first').loc[:,['ID','balance_num']] ,data.drop_duplicates('ID','last').loc[:,['ID','balance_num']],on='ID')\n",
    "change_money.fillna(0,inplace=True)\n",
    "change_money['Xn_Dif_balance_num'] = change_money.iloc[:,2] - change_money.iloc[:,1]\n",
    "app_data = pd.merge(app_data,change_money.loc[:,['ID','Xn_Dif_balance_num']],on='ID',how='left')"
   ]
  },
  {
   "cell_type": "markdown",
   "metadata": {},
   "source": [
    "### 交易类型占比"
   ]
  },
  {
   "cell_type": "code",
   "execution_count": 18,
   "metadata": {},
   "outputs": [
    {
     "data": {
      "text/html": [
       "<div>\n",
       "<style scoped>\n",
       "    .dataframe tbody tr th:only-of-type {\n",
       "        vertical-align: middle;\n",
       "    }\n",
       "\n",
       "    .dataframe tbody tr th {\n",
       "        vertical-align: top;\n",
       "    }\n",
       "\n",
       "    .dataframe thead th {\n",
       "        text-align: right;\n",
       "    }\n",
       "</style>\n",
       "<table border=\"1\" class=\"dataframe\">\n",
       "  <thead>\n",
       "    <tr style=\"text-align: right;\">\n",
       "      <th></th>\n",
       "      <th>ID</th>\n",
       "      <th>Xr_cash</th>\n",
       "      <th>Xr_remit</th>\n",
       "      <th>Xr_interest</th>\n",
       "      <th>Xr_loan</th>\n",
       "      <th>Xr_collection</th>\n",
       "      <th>Xr_cc_debit</th>\n",
       "    </tr>\n",
       "  </thead>\n",
       "  <tbody>\n",
       "    <tr>\n",
       "      <td>0</td>\n",
       "      <td>5112862</td>\n",
       "      <td>17.0</td>\n",
       "      <td>18.0</td>\n",
       "      <td>6.0</td>\n",
       "      <td>0.0</td>\n",
       "      <td>6.0</td>\n",
       "      <td>0.0</td>\n",
       "    </tr>\n",
       "    <tr>\n",
       "      <td>1</td>\n",
       "      <td>5009180</td>\n",
       "      <td>13.0</td>\n",
       "      <td>6.0</td>\n",
       "      <td>6.0</td>\n",
       "      <td>0.0</td>\n",
       "      <td>6.0</td>\n",
       "      <td>0.0</td>\n",
       "    </tr>\n",
       "    <tr>\n",
       "      <td>2</td>\n",
       "      <td>5009222</td>\n",
       "      <td>12.0</td>\n",
       "      <td>6.0</td>\n",
       "      <td>6.0</td>\n",
       "      <td>0.0</td>\n",
       "      <td>6.0</td>\n",
       "      <td>0.0</td>\n",
       "    </tr>\n",
       "    <tr>\n",
       "      <td>3</td>\n",
       "      <td>5009363</td>\n",
       "      <td>11.0</td>\n",
       "      <td>6.0</td>\n",
       "      <td>6.0</td>\n",
       "      <td>6.0</td>\n",
       "      <td>0.0</td>\n",
       "      <td>3.0</td>\n",
       "    </tr>\n",
       "    <tr>\n",
       "      <td>4</td>\n",
       "      <td>6153587</td>\n",
       "      <td>21.0</td>\n",
       "      <td>12.0</td>\n",
       "      <td>6.0</td>\n",
       "      <td>0.0</td>\n",
       "      <td>6.0</td>\n",
       "      <td>0.0</td>\n",
       "    </tr>\n",
       "  </tbody>\n",
       "</table>\n",
       "</div>"
      ],
      "text/plain": [
       "        ID  Xr_cash  Xr_remit  Xr_interest  Xr_loan  Xr_collection  \\\n",
       "0  5112862     17.0      18.0          6.0      0.0            6.0   \n",
       "1  5009180     13.0       6.0          6.0      0.0            6.0   \n",
       "2  5009222     12.0       6.0          6.0      0.0            6.0   \n",
       "3  5009363     11.0       6.0          6.0      6.0            0.0   \n",
       "4  6153587     21.0      12.0          6.0      0.0            6.0   \n",
       "\n",
       "   Xr_cc_debit  \n",
       "0          0.0  \n",
       "1          0.0  \n",
       "2          0.0  \n",
       "3          3.0  \n",
       "4          0.0  "
      ]
     },
     "execution_count": 18,
     "metadata": {},
     "output_type": "execute_result"
    }
   ],
   "source": [
    "# 先计算计数\n",
    "cnt = pd.DataFrame()\n",
    "cnt['ID'] = app_data.ID\n",
    "for i in list(data.operation.value_counts().index.values):\n",
    "    cnt = pd.merge(cnt,data[data.operation==i].groupby('ID').operation.count().reset_index().rename(columns={'operation':('Xr_'+i)}),on='ID',how='left')\n",
    "cnt.fillna(0,inplace=True)\n",
    "cnt.head()"
   ]
  },
  {
   "cell_type": "code",
   "execution_count": 19,
   "metadata": {},
   "outputs": [
    {
     "data": {
      "text/html": [
       "<div>\n",
       "<style scoped>\n",
       "    .dataframe tbody tr th:only-of-type {\n",
       "        vertical-align: middle;\n",
       "    }\n",
       "\n",
       "    .dataframe tbody tr th {\n",
       "        vertical-align: top;\n",
       "    }\n",
       "\n",
       "    .dataframe thead th {\n",
       "        text-align: right;\n",
       "    }\n",
       "</style>\n",
       "<table border=\"1\" class=\"dataframe\">\n",
       "  <thead>\n",
       "    <tr style=\"text-align: right;\">\n",
       "      <th></th>\n",
       "      <th>Xr_cash</th>\n",
       "      <th>Xr_remit</th>\n",
       "      <th>Xr_interest</th>\n",
       "      <th>Xr_loan</th>\n",
       "      <th>Xr_collection</th>\n",
       "      <th>Xr_cc_debit</th>\n",
       "    </tr>\n",
       "    <tr>\n",
       "      <th>ID</th>\n",
       "      <th></th>\n",
       "      <th></th>\n",
       "      <th></th>\n",
       "      <th></th>\n",
       "      <th></th>\n",
       "      <th></th>\n",
       "    </tr>\n",
       "  </thead>\n",
       "  <tbody>\n",
       "    <tr>\n",
       "      <td>5112862</td>\n",
       "      <td>0.36</td>\n",
       "      <td>0.38</td>\n",
       "      <td>0.13</td>\n",
       "      <td>0.00</td>\n",
       "      <td>0.13</td>\n",
       "      <td>0.00</td>\n",
       "    </tr>\n",
       "    <tr>\n",
       "      <td>5009180</td>\n",
       "      <td>0.42</td>\n",
       "      <td>0.19</td>\n",
       "      <td>0.19</td>\n",
       "      <td>0.00</td>\n",
       "      <td>0.19</td>\n",
       "      <td>0.00</td>\n",
       "    </tr>\n",
       "    <tr>\n",
       "      <td>5009222</td>\n",
       "      <td>0.40</td>\n",
       "      <td>0.20</td>\n",
       "      <td>0.20</td>\n",
       "      <td>0.00</td>\n",
       "      <td>0.20</td>\n",
       "      <td>0.00</td>\n",
       "    </tr>\n",
       "    <tr>\n",
       "      <td>5009363</td>\n",
       "      <td>0.34</td>\n",
       "      <td>0.19</td>\n",
       "      <td>0.19</td>\n",
       "      <td>0.19</td>\n",
       "      <td>0.00</td>\n",
       "      <td>0.09</td>\n",
       "    </tr>\n",
       "    <tr>\n",
       "      <td>6153587</td>\n",
       "      <td>0.47</td>\n",
       "      <td>0.27</td>\n",
       "      <td>0.13</td>\n",
       "      <td>0.00</td>\n",
       "      <td>0.13</td>\n",
       "      <td>0.00</td>\n",
       "    </tr>\n",
       "  </tbody>\n",
       "</table>\n",
       "</div>"
      ],
      "text/plain": [
       "         Xr_cash  Xr_remit  Xr_interest  Xr_loan  Xr_collection  Xr_cc_debit\n",
       "ID                                                                          \n",
       "5112862     0.36      0.38         0.13     0.00           0.13         0.00\n",
       "5009180     0.42      0.19         0.19     0.00           0.19         0.00\n",
       "5009222     0.40      0.20         0.20     0.00           0.20         0.00\n",
       "5009363     0.34      0.19         0.19     0.19           0.00         0.09\n",
       "6153587     0.47      0.27         0.13     0.00           0.13         0.00"
      ]
     },
     "execution_count": 19,
     "metadata": {},
     "output_type": "execute_result"
    }
   ],
   "source": [
    "# 变成占比\n",
    "per = copy.deepcopy(cnt)\n",
    "per.set_index('ID',inplace=True)\n",
    "per['sum'] = per.agg(sum,axis=1)\n",
    "per.loc[:,'Xr_cash':'Xr_cc_debit'] = per.loc[:,'Xr_cash':'Xr_cc_debit'].apply(lambda x: round(x/per['sum'],2))\n",
    "per.drop('sum',axis=1,inplace=True)\n",
    "per.head()"
   ]
  },
  {
   "cell_type": "code",
   "execution_count": 20,
   "metadata": {},
   "outputs": [],
   "source": [
    "app_data = pd.merge(app_data,per,on='ID',how='left')"
   ]
  },
  {
   "cell_type": "markdown",
   "metadata": {},
   "source": [
    "### 交易特征"
   ]
  },
  {
   "cell_type": "markdown",
   "metadata": {},
   "source": [
    "###### 是否有房贷、养老金、保险交易、贷款交易"
   ]
  },
  {
   "cell_type": "code",
   "execution_count": 21,
   "metadata": {},
   "outputs": [],
   "source": [
    "dic = {'mortgage':'Xc_mortgage','annuity':'Xc_annuity','insurance_pay':'Xc_insurance_pay','loan_repay':'Xc_loan_repay'}\n",
    "for k in dic:   \n",
    "    id1 = data[data.k_symbol==k].drop_duplicates('ID').ID.reset_index()\n",
    "    id1[dic[k]] = 1; id1.drop(['index'],axis=1,inplace=True)\n",
    "    app_data = pd.merge(app_data,id1,on='ID',how='left')"
   ]
  },
  {
   "cell_type": "markdown",
   "metadata": {},
   "source": [
    "#### RFM"
   ]
  },
  {
   "cell_type": "code",
   "execution_count": 22,
   "metadata": {},
   "outputs": [],
   "source": [
    "rfm = pd.read_csv('../数据/rfm_label.csv')\n",
    "rfm = rfm.rename(columns={'label':'Xc_rfm'})\n",
    "app_data = pd.merge(app_data,rfm.loc[:,['ID','Xc_rfm']],on='ID',how='left')"
   ]
  },
  {
   "cell_type": "code",
   "execution_count": 23,
   "metadata": {},
   "outputs": [],
   "source": [
    "app_data.fillna(0,inplace=True)"
   ]
  },
  {
   "cell_type": "markdown",
   "metadata": {},
   "source": [
    "### 个人信息变量"
   ]
  },
  {
   "cell_type": "code",
   "execution_count": 24,
   "metadata": {},
   "outputs": [],
   "source": [
    "# 风险评分\n",
    "app_data = pd.merge(app_data,score.loc[:,['ID','credit_score','score']],on='ID',how='left')"
   ]
  },
  {
   "cell_type": "code",
   "execution_count": 25,
   "metadata": {
    "scrolled": true
   },
   "outputs": [],
   "source": [
    "app_data = pd.merge(app_data,data.drop_duplicates('ID').loc[:,['ID','resp']],on='ID',how='left')\n",
    "app_data.insert(0,'resp',app_data.pop('resp')) # 更改resp列的位置"
   ]
  },
  {
   "cell_type": "code",
   "execution_count": 26,
   "metadata": {},
   "outputs": [],
   "source": [
    "app_data.DAYS_BIRTH = (-app.DAYS_BIRTH/365).apply(lambda x: round(x))\n",
    "app_data.DAYS_EMPLOYED = (-app.DAYS_EMPLOYED/365).apply(lambda x: round(x))\n",
    "app_data.loc[app_data.DAYS_EMPLOYED==-1001,'DAYS_EMPLOYED'] = 'Unknow'"
   ]
  },
  {
   "cell_type": "code",
   "execution_count": 27,
   "metadata": {},
   "outputs": [],
   "source": [
    "app_data.loc[app_data.OCCUPATION_TYPE==0,'OCCUPATION_TYPE'] = 'Unknow'"
   ]
  },
  {
   "cell_type": "code",
   "execution_count": 28,
   "metadata": {},
   "outputs": [],
   "source": [
    "app_data = app_data.rename(columns={'CODE_GENDER':'Xc_gender','FLAG_OWN_CAR':'Xc_car','FLAG_OWN_REALTY':'Xc_realty',\n",
    "                         'CNT_CHILDREN':'Xn_children','AMT_INCOME_TOTAL':'Xn_income','credit_score':'Xn_credit_score','score':'Xn_score',\n",
    "                        'NAME_INCOME_TYPE':'Xc_income_type','NAME_EDUCATION_TYPE':'Xc_edu', 'NAME_FAMILY_STATUS':'Xc_marry', 'NAME_HOUSING_TYPE':'Xc_housing',\n",
    "                        'DAYS_BIRTH':'Xn_age', 'DAYS_EMPLOYED':'Xn_employed', 'FLAG_MOBIL':'Xc_phone', 'FLAG_WORK_PHONE':'Xc_work_phone',\n",
    "                        'FLAG_EMAIL':'Xc_email', 'OCCUPATION_TYPE':'Xc_occupation', 'CNT_FAM_MEMBERS':'Xn_family'})"
   ]
  },
  {
   "cell_type": "code",
   "execution_count": 29,
   "metadata": {},
   "outputs": [],
   "source": [
    "app_data.to_csv('../数据/营销模型建模数据.csv')"
   ]
  },
  {
   "cell_type": "code",
   "execution_count": 30,
   "metadata": {},
   "outputs": [
    {
     "data": {
      "text/plain": [
       "Index(['resp', 'ID', 'Xc_gender', 'Xc_car', 'Xc_realty', 'Xn_children',\n",
       "       'Xn_income', 'Xc_income_type', 'Xc_edu', 'Xc_marry', 'Xc_housing',\n",
       "       'Xn_age', 'Xn_employed', 'Xc_phone', 'Xc_work_phone', 'FLAG_PHONE',\n",
       "       'Xc_email', 'Xc_occupation', 'Xn_family', 'Xn_trades',\n",
       "       'Xn_Avg_amount_num', 'Xn_balance_num', 'Xn_Dif_balance_num', 'Xr_cash',\n",
       "       'Xr_remit', 'Xr_interest', 'Xr_loan', 'Xr_collection', 'Xr_cc_debit',\n",
       "       'Xc_mortgage', 'Xc_annuity', 'Xc_insurance_pay', 'Xc_loan_repay',\n",
       "       'Xc_rfm', 'Xn_credit_score', 'Xn_score'],\n",
       "      dtype='object')"
      ]
     },
     "execution_count": 30,
     "metadata": {},
     "output_type": "execute_result"
    }
   ],
   "source": [
    "app_data.columns"
   ]
  },
  {
   "cell_type": "code",
   "execution_count": null,
   "metadata": {},
   "outputs": [],
   "source": []
  }
 ],
 "metadata": {
  "kernelspec": {
   "display_name": "Python 3",
   "language": "python",
   "name": "python3"
  },
  "language_info": {
   "codemirror_mode": {
    "name": "ipython",
    "version": 3
   },
   "file_extension": ".py",
   "mimetype": "text/x-python",
   "name": "python",
   "nbconvert_exporter": "python",
   "pygments_lexer": "ipython3",
   "version": "3.7.4"
  }
 },
 "nbformat": 4,
 "nbformat_minor": 2
}
