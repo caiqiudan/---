{
 "cells": [
  {
   "cell_type": "code",
   "execution_count": 1,
   "metadata": {},
   "outputs": [],
   "source": [
    "import pandas as pd\n",
    "import numpy as np\n",
    "from sklearn.tree import DecisionTreeClassifier\n",
    "import  matplotlib.pyplot as plt\n",
    "%matplotlib inline\n",
    "plt.rcParams['font.sans-serif'] = ['SimHei'] # 指定默认字体\n",
    "plt.rcParams['axes.unicode_minus'] = False # 解决保存图像时负号‘-’显示为方块的问题"
   ]
  },
  {
   "cell_type": "code",
   "execution_count": 6,
   "metadata": {},
   "outputs": [],
   "source": [
    "data = pd.read_csv('../task3/data_model.csv')"
   ]
  },
  {
   "cell_type": "code",
   "execution_count": 57,
   "metadata": {},
   "outputs": [],
   "source": [
    "data.loc[data['DAYS_EMPLOYED']==365243,'DAYS_EMPLOYED'] = np.nan\n",
    "data['AGE'] = round(-data.DAYS_BIRTH/365,0)\n",
    "data['WORK_TIME'] = round(-data.DAYS_EMPLOYED/365,0)"
   ]
  },
  {
   "cell_type": "code",
   "execution_count": 58,
   "metadata": {
    "scrolled": true
   },
   "outputs": [
    {
     "data": {
      "text/html": [
       "<div>\n",
       "<style scoped>\n",
       "    .dataframe tbody tr th:only-of-type {\n",
       "        vertical-align: middle;\n",
       "    }\n",
       "\n",
       "    .dataframe tbody tr th {\n",
       "        vertical-align: top;\n",
       "    }\n",
       "\n",
       "    .dataframe thead th {\n",
       "        text-align: right;\n",
       "    }\n",
       "</style>\n",
       "<table border=\"1\" class=\"dataframe\">\n",
       "  <thead>\n",
       "    <tr style=\"text-align: right;\">\n",
       "      <th></th>\n",
       "      <th>Unnamed: 0</th>\n",
       "      <th>ID</th>\n",
       "      <th>is_ovd</th>\n",
       "      <th>CODE_GENDER</th>\n",
       "      <th>FLAG_OWN_CAR</th>\n",
       "      <th>FLAG_OWN_REALTY</th>\n",
       "      <th>CNT_CHILDREN</th>\n",
       "      <th>AMT_INCOME_TOTAL</th>\n",
       "      <th>NAME_INCOME_TYPE</th>\n",
       "      <th>NAME_EDUCATION_TYPE</th>\n",
       "      <th>...</th>\n",
       "      <th>DAYS_EMPLOYED</th>\n",
       "      <th>FLAG_MOBIL</th>\n",
       "      <th>FLAG_WORK_PHONE</th>\n",
       "      <th>FLAG_PHONE</th>\n",
       "      <th>FLAG_EMAIL</th>\n",
       "      <th>OCCUPATION_TYPE</th>\n",
       "      <th>CNT_FAM_MEMBERS</th>\n",
       "      <th>AGE</th>\n",
       "      <th>WROKING_TIME</th>\n",
       "      <th>WORK_TIME</th>\n",
       "    </tr>\n",
       "  </thead>\n",
       "  <tbody>\n",
       "    <tr>\n",
       "      <td>0</td>\n",
       "      <td>0</td>\n",
       "      <td>5008806</td>\n",
       "      <td>0.0</td>\n",
       "      <td>M</td>\n",
       "      <td>Y</td>\n",
       "      <td>Y</td>\n",
       "      <td>0</td>\n",
       "      <td>112500.0</td>\n",
       "      <td>Working</td>\n",
       "      <td>Secondary / secondary special</td>\n",
       "      <td>...</td>\n",
       "      <td>-1134.0</td>\n",
       "      <td>1</td>\n",
       "      <td>0</td>\n",
       "      <td>0</td>\n",
       "      <td>0</td>\n",
       "      <td>Security staff</td>\n",
       "      <td>2.0</td>\n",
       "      <td>59.0</td>\n",
       "      <td>3.0</td>\n",
       "      <td>3.0</td>\n",
       "    </tr>\n",
       "    <tr>\n",
       "      <td>1</td>\n",
       "      <td>1</td>\n",
       "      <td>5008809</td>\n",
       "      <td>0.0</td>\n",
       "      <td>F</td>\n",
       "      <td>N</td>\n",
       "      <td>Y</td>\n",
       "      <td>0</td>\n",
       "      <td>270000.0</td>\n",
       "      <td>Commercial associate</td>\n",
       "      <td>Secondary / secondary special</td>\n",
       "      <td>...</td>\n",
       "      <td>-3051.0</td>\n",
       "      <td>1</td>\n",
       "      <td>0</td>\n",
       "      <td>1</td>\n",
       "      <td>1</td>\n",
       "      <td>Sales staff</td>\n",
       "      <td>1.0</td>\n",
       "      <td>52.0</td>\n",
       "      <td>8.0</td>\n",
       "      <td>8.0</td>\n",
       "    </tr>\n",
       "  </tbody>\n",
       "</table>\n",
       "<p>2 rows × 23 columns</p>\n",
       "</div>"
      ],
      "text/plain": [
       "   Unnamed: 0       ID  is_ovd CODE_GENDER FLAG_OWN_CAR FLAG_OWN_REALTY  \\\n",
       "0           0  5008806     0.0           M            Y               Y   \n",
       "1           1  5008809     0.0           F            N               Y   \n",
       "\n",
       "   CNT_CHILDREN  AMT_INCOME_TOTAL      NAME_INCOME_TYPE  \\\n",
       "0             0          112500.0               Working   \n",
       "1             0          270000.0  Commercial associate   \n",
       "\n",
       "             NAME_EDUCATION_TYPE  ... DAYS_EMPLOYED FLAG_MOBIL  \\\n",
       "0  Secondary / secondary special  ...       -1134.0          1   \n",
       "1  Secondary / secondary special  ...       -3051.0          1   \n",
       "\n",
       "   FLAG_WORK_PHONE  FLAG_PHONE  FLAG_EMAIL  OCCUPATION_TYPE  CNT_FAM_MEMBERS  \\\n",
       "0                0           0           0   Security staff              2.0   \n",
       "1                0           1           1      Sales staff              1.0   \n",
       "\n",
       "    AGE WROKING_TIME  WORK_TIME  \n",
       "0  59.0          3.0        3.0  \n",
       "1  52.0          8.0        8.0  \n",
       "\n",
       "[2 rows x 23 columns]"
      ]
     },
     "execution_count": 58,
     "metadata": {},
     "output_type": "execute_result"
    }
   ],
   "source": [
    "data.head(2)"
   ]
  },
  {
   "cell_type": "markdown",
   "metadata": {},
   "source": [
    "#### 分类变量WOE、IV"
   ]
  },
  {
   "cell_type": "code",
   "execution_count": null,
   "metadata": {},
   "outputs": [],
   "source": [
    "data.fillna('Unknow',inplace=True)"
   ]
  },
  {
   "cell_type": "code",
   "execution_count": 97,
   "metadata": {},
   "outputs": [],
   "source": [
    "def clas_woe_iv(data = data):\n",
    "    dic = {'CODE_GENDER':'性别','FLAG_OWN_CAR':'是否有车','FLAG_OWN_REALTY':'是否有房产','NAME_INCOME_TYPE':'收入类型','NAME_EDUCATION_TYPE':'教育程度','NAME_FAMILY_STATUS':'婚姻状态',\n",
    "           'NAME_HOUSING_TYPE':'居住方式','FLAG_MOBIL':'是否有手机','FLAG_WORK_PHONE':'是否有工作电话','FLAG_PHONE':'是否有电话','FLAG_EMAIL':'是否有邮件','OCCUPATION_TYPE':'职业'}\n",
    "    name_dic = {'F':'女','M':'男','Y':'是','N':'否','1':'是','0':'否'}\n",
    "    \n",
    "    writer = pd.ExcelWriter('分类变量分箱2.xlsx'); row = 0\n",
    "    for key in dic:\n",
    "        df = pd.DataFrame(columns = ['客户属性','客户数','坏客户数','好客户数','坏客户占比','好客户占比','组占比','woe','iv'])\n",
    "        df['客户属性'] = data[key].value_counts().index \n",
    "        df['客户数'] = df['客户属性'].apply(lambda x: data[data[key]==x]['is_ovd'].count())\n",
    "        df['坏客户数'] = df['客户属性'].apply(lambda x: data[data[key]==x][data['is_ovd']==1].count())\n",
    "        df['好客户数'] = df['客户数'] - df['坏客户数']\n",
    "        \n",
    "        df['组占比'] = df['客户数'].apply(lambda x: round(x/sum(df['客户数']),4))\n",
    "\n",
    "        df['客户属性'] = data[key].value_counts().rename(index=name_dic).index\n",
    "        df.set_index('客户属性',inplace=True)\n",
    "\n",
    "        if (df['组占比']<0.05).agg(sum) > 1 :                  # 合并组占比 < 5%  \n",
    "            df.loc['其他'] = df[df['组占比']<0.05].agg(sum) \n",
    "            a = df[df['组占比']<0.05].index.values\n",
    "            df.drop(a[~np.isin(a,'其他')],axis=0,inplace=True) # df['其他']被误删了\n",
    "        \n",
    "        df['坏客户占比'] = df['坏客户数'].apply(lambda x: x/sum(df['坏客户数']))\n",
    "        df['好客户占比'] = df['好客户数'].apply(lambda x: x/sum(df['好客户数']))\n",
    "        df['woe'] = np.log(df['坏客户占比']/df['好客户占比']).apply(lambda x: round(x,4))         # woe\n",
    "        df['iv'] = ((df['坏客户占比'] - df['好客户占比'])*df['woe']).apply(lambda x: round(x,4))  # iv\n",
    "\n",
    "        df = df.sort_values(by='woe',ascending=False) # 排序\n",
    "        df.loc['合计'] = df.agg(sum) # 合计\n",
    "        df.reset_index(inplace=True)\n",
    "        df.insert(0,'变量',dic[key])\n",
    "        df['组占比'] = df['组占比'].apply(lambda x: format(x,'.2%'))\n",
    "        \n",
    "        df.to_excel(writer,startrow=row,index=False)\n",
    "        row = row + len(df) + 2\n",
    "    writer.save()"
   ]
  },
  {
   "cell_type": "code",
   "execution_count": 98,
   "metadata": {
    "collapsed": true
   },
   "outputs": [
    {
     "name": "stderr",
     "output_type": "stream",
     "text": [
      "D:\\software\\Anaconda3\\lib\\site-packages\\ipykernel_launcher.py:11: UserWarning: Boolean Series key will be reindexed to match DataFrame index.\n",
      "  # This is added back by InteractiveShellApp.init_path()\n",
      "D:\\software\\Anaconda3\\lib\\site-packages\\pandas\\core\\series.py:853: RuntimeWarning: divide by zero encountered in log\n",
      "  result = getattr(ufunc, method)(*inputs, **kwargs)\n"
     ]
    }
   ],
   "source": [
    "clas_woe_iv()"
   ]
  },
  {
   "cell_type": "markdown",
   "metadata": {},
   "source": [
    "#### 获得最优分箱边界值函数的实现"
   ]
  },
  {
   "cell_type": "code",
   "execution_count": 38,
   "metadata": {},
   "outputs": [],
   "source": [
    "def optimal_binning_boundary(x: pd.Series, y: pd.Series,leaf=6, nan: float = -999.) -> list:\n",
    "    '''\n",
    "        利用决策树获得最优分箱的边界值列表\n",
    "        leaf: 最大叶子节点数\n",
    "    '''\n",
    "    boundary = []  # 待return的分箱边界值列表\n",
    "    \n",
    "    x = x.fillna(nan).values  # 填充缺失值\n",
    "    y = y.values\n",
    "    \n",
    "    clf = DecisionTreeClassifier(criterion='entropy',    #“信息熵”最小化准则划分\n",
    "                                 max_leaf_nodes=leaf,       # 最大叶子节点数\n",
    "                                 min_samples_leaf=0.05)  # 叶子节点样本数量最小占比\n",
    "\n",
    "    clf.fit(x.reshape(-1, 1), y)  # 训练决策树\n",
    "    \n",
    "    n_nodes = clf.tree_.node_count\n",
    "    children_left = clf.tree_.children_left\n",
    "    children_right = clf.tree_.children_right\n",
    "    threshold = clf.tree_.threshold\n",
    "    \n",
    "    for i in range(n_nodes):\n",
    "        if children_left[i] != children_right[i]:  # 获得决策树节点上的划分边界值\n",
    "            boundary.append(threshold[i])\n",
    "\n",
    "    boundary.sort()\n",
    "\n",
    "    min_x = x.min()\n",
    "    max_x = x.max() + 0.1  # +0.1是为了考虑后续groupby操作时，能包含特征最大值的样本\n",
    "    boundary = [min_x] + boundary + [max_x]\n",
    "\n",
    "    return boundary"
   ]
  },
  {
   "cell_type": "markdown",
   "metadata": {},
   "source": [
    "#### 获得某个变量各个分箱的WOE、IV值函数的实现"
   ]
  },
  {
   "cell_type": "code",
   "execution_count": 62,
   "metadata": {},
   "outputs": [],
   "source": [
    "def feature_woe_iv(x: pd.Series, y: pd.Series,leaf=6, nan: float = -999.) -> pd.DataFrame:\n",
    "    '''\n",
    "        计算变量各个分箱的WOE、IV值，返回一个DataFrame\n",
    "        leaf: 最大叶子节点数\n",
    "    '''\n",
    "    x = x.fillna(nan)\n",
    "    boundary = optimal_binning_boundary(x, y, leaf,nan)        # 获得最优分箱边界值列表\n",
    "    df = pd.concat([x, y], axis=1)                        # 合并x、y为一个DataFrame，方便后续计算\n",
    "    df.columns = ['x', 'y']                               # 特征变量、目标变量字段的重命名\n",
    "    df['bins'] = pd.cut(x=x, bins=boundary, right=False)  # 获得每个x值所在的分箱区间\n",
    "    \n",
    "    grouped = df.groupby('bins')['y']                     # 统计各分箱区间的好、坏、总客户数量\n",
    "    result_df = grouped.agg([('总客户数', 'count'),\n",
    "                             ('坏客户数',   lambda y: (y == 1).sum()),\n",
    "                             ('好客户数',  lambda y: (y == 0).sum())])\n",
    "\n",
    "    result_df['好客户占比'] = result_df['好客户数'] / result_df['好客户数'].sum()       # 好客户占比\n",
    "    result_df['坏客户占比'] = result_df['坏客户数'] / result_df['坏客户数'].sum()          # 坏客户占比\n",
    "    result_df['组占比'] = result_df['总客户数'] / result_df['总客户数'].sum()    # 总客户占比\n",
    "\n",
    "    result_df['坏客户率'] = (result_df['坏客户数'] / result_df['总客户数']).apply(lambda x: format(x,'.2%'))             # 坏比率\n",
    "    \n",
    "    result_df['woe'] = np.log( result_df['坏客户占比']/result_df['好客户占比'])              # WOE\n",
    "    result_df['iv'] = ( result_df['坏客户占比'] - result_df['好客户占比']) * result_df['woe']  # IV\n",
    "    \n",
    "    print(f\"该变量IV = {result_df['iv'].sum()}\")\n",
    "    \n",
    "    return result_df"
   ]
  },
  {
   "cell_type": "markdown",
   "metadata": {},
   "source": [
    "##### 年收入"
   ]
  },
  {
   "cell_type": "code",
   "execution_count": 84,
   "metadata": {},
   "outputs": [
    {
     "name": "stdout",
     "output_type": "stream",
     "text": [
      "该变量IV = 0.014867061939934983\n"
     ]
    },
    {
     "data": {
      "text/html": [
       "<div>\n",
       "<style scoped>\n",
       "    .dataframe tbody tr th:only-of-type {\n",
       "        vertical-align: middle;\n",
       "    }\n",
       "\n",
       "    .dataframe tbody tr th {\n",
       "        vertical-align: top;\n",
       "    }\n",
       "\n",
       "    .dataframe thead th {\n",
       "        text-align: right;\n",
       "    }\n",
       "</style>\n",
       "<table border=\"1\" class=\"dataframe\">\n",
       "  <thead>\n",
       "    <tr style=\"text-align: right;\">\n",
       "      <th></th>\n",
       "      <th>总客户数</th>\n",
       "      <th>坏客户数</th>\n",
       "      <th>好客户数</th>\n",
       "      <th>好客户占比</th>\n",
       "      <th>坏客户占比</th>\n",
       "      <th>组占比</th>\n",
       "      <th>坏客户率</th>\n",
       "      <th>woe</th>\n",
       "      <th>iv</th>\n",
       "    </tr>\n",
       "    <tr>\n",
       "      <th>bins</th>\n",
       "      <th></th>\n",
       "      <th></th>\n",
       "      <th></th>\n",
       "      <th></th>\n",
       "      <th></th>\n",
       "      <th></th>\n",
       "      <th></th>\n",
       "      <th></th>\n",
       "      <th></th>\n",
       "    </tr>\n",
       "  </thead>\n",
       "  <tbody>\n",
       "    <tr>\n",
       "      <td>[26100.0, 108225.0)</td>\n",
       "      <td>36393</td>\n",
       "      <td>716.0</td>\n",
       "      <td>35677.0</td>\n",
       "      <td>0.146554</td>\n",
       "      <td>0.176398</td>\n",
       "      <td>0.147044</td>\n",
       "      <td>1.97%</td>\n",
       "      <td>0.185348</td>\n",
       "      <td>0.005532</td>\n",
       "    </tr>\n",
       "    <tr>\n",
       "      <td>[108225.0, 225382.5)</td>\n",
       "      <td>156746</td>\n",
       "      <td>2621.0</td>\n",
       "      <td>154125.0</td>\n",
       "      <td>0.633115</td>\n",
       "      <td>0.645726</td>\n",
       "      <td>0.633322</td>\n",
       "      <td>1.67%</td>\n",
       "      <td>0.019722</td>\n",
       "      <td>0.000249</td>\n",
       "    </tr>\n",
       "    <tr>\n",
       "      <td>[225382.5, 6750000.1)</td>\n",
       "      <td>54359</td>\n",
       "      <td>722.0</td>\n",
       "      <td>53637.0</td>\n",
       "      <td>0.220330</td>\n",
       "      <td>0.177876</td>\n",
       "      <td>0.219634</td>\n",
       "      <td>1.33%</td>\n",
       "      <td>-0.214040</td>\n",
       "      <td>0.009087</td>\n",
       "    </tr>\n",
       "  </tbody>\n",
       "</table>\n",
       "</div>"
      ],
      "text/plain": [
       "                         总客户数    坏客户数      好客户数     好客户占比     坏客户占比       组占比  \\\n",
       "bins                                                                            \n",
       "[26100.0, 108225.0)     36393   716.0   35677.0  0.146554  0.176398  0.147044   \n",
       "[108225.0, 225382.5)   156746  2621.0  154125.0  0.633115  0.645726  0.633322   \n",
       "[225382.5, 6750000.1)   54359   722.0   53637.0  0.220330  0.177876  0.219634   \n",
       "\n",
       "                        坏客户率       woe        iv  \n",
       "bins                                              \n",
       "[26100.0, 108225.0)    1.97%  0.185348  0.005532  \n",
       "[108225.0, 225382.5)   1.67%  0.019722  0.000249  \n",
       "[225382.5, 6750000.1)  1.33% -0.214040  0.009087  "
      ]
     },
     "execution_count": 84,
     "metadata": {},
     "output_type": "execute_result"
    },
    {
     "data": {
      "image/png": "[encoded data removed]",
      "text/plain": [
       "<Figure size 432x288 with 1 Axes>"
      ]
     },
     "metadata": {
      "needs_background": "light"
     },
     "output_type": "display_data"
    }
   ],
   "source": [
    "df = feature_woe_iv(data['AMT_INCOME_TOTAL'],data['is_ovd'],leaf=3) # leaf: 最大叶子节点数\n",
    "plt.barh(range(len(df)),df['woe'])\n",
    "df"
   ]
  },
  {
   "cell_type": "markdown",
   "metadata": {},
   "source": [
    "##### 年龄"
   ]
  },
  {
   "cell_type": "code",
   "execution_count": 82,
   "metadata": {},
   "outputs": [
    {
     "name": "stdout",
     "output_type": "stream",
     "text": [
      "该变量IV = 0.009902890427869902\n"
     ]
    },
    {
     "data": {
      "text/html": [
       "<div>\n",
       "<style scoped>\n",
       "    .dataframe tbody tr th:only-of-type {\n",
       "        vertical-align: middle;\n",
       "    }\n",
       "\n",
       "    .dataframe tbody tr th {\n",
       "        vertical-align: top;\n",
       "    }\n",
       "\n",
       "    .dataframe thead th {\n",
       "        text-align: right;\n",
       "    }\n",
       "</style>\n",
       "<table border=\"1\" class=\"dataframe\">\n",
       "  <thead>\n",
       "    <tr style=\"text-align: right;\">\n",
       "      <th></th>\n",
       "      <th>总客户数</th>\n",
       "      <th>坏客户数</th>\n",
       "      <th>好客户数</th>\n",
       "      <th>好客户占比</th>\n",
       "      <th>坏客户占比</th>\n",
       "      <th>组占比</th>\n",
       "      <th>坏客户率</th>\n",
       "      <th>woe</th>\n",
       "      <th>iv</th>\n",
       "    </tr>\n",
       "    <tr>\n",
       "      <th>bins</th>\n",
       "      <th></th>\n",
       "      <th></th>\n",
       "      <th></th>\n",
       "      <th></th>\n",
       "      <th></th>\n",
       "      <th></th>\n",
       "      <th></th>\n",
       "      <th></th>\n",
       "      <th></th>\n",
       "    </tr>\n",
       "  </thead>\n",
       "  <tbody>\n",
       "    <tr>\n",
       "      <td>[21.0, 35.5)</td>\n",
       "      <td>65511</td>\n",
       "      <td>1146.0</td>\n",
       "      <td>64365.0</td>\n",
       "      <td>0.264399</td>\n",
       "      <td>0.282336</td>\n",
       "      <td>0.264693</td>\n",
       "      <td>1.75%</td>\n",
       "      <td>0.065637</td>\n",
       "      <td>0.001177</td>\n",
       "    </tr>\n",
       "    <tr>\n",
       "      <td>[35.5, 43.5)</td>\n",
       "      <td>59836</td>\n",
       "      <td>817.0</td>\n",
       "      <td>59019.0</td>\n",
       "      <td>0.242439</td>\n",
       "      <td>0.201281</td>\n",
       "      <td>0.241764</td>\n",
       "      <td>1.37%</td>\n",
       "      <td>-0.186046</td>\n",
       "      <td>0.007657</td>\n",
       "    </tr>\n",
       "    <tr>\n",
       "      <td>[43.5, 69.1)</td>\n",
       "      <td>122151</td>\n",
       "      <td>2096.0</td>\n",
       "      <td>120055.0</td>\n",
       "      <td>0.493163</td>\n",
       "      <td>0.516383</td>\n",
       "      <td>0.493543</td>\n",
       "      <td>1.72%</td>\n",
       "      <td>0.046011</td>\n",
       "      <td>0.001068</td>\n",
       "    </tr>\n",
       "  </tbody>\n",
       "</table>\n",
       "</div>"
      ],
      "text/plain": [
       "                总客户数    坏客户数      好客户数     好客户占比     坏客户占比       组占比   坏客户率  \\\n",
       "bins                                                                          \n",
       "[21.0, 35.5)   65511  1146.0   64365.0  0.264399  0.282336  0.264693  1.75%   \n",
       "[35.5, 43.5)   59836   817.0   59019.0  0.242439  0.201281  0.241764  1.37%   \n",
       "[43.5, 69.1)  122151  2096.0  120055.0  0.493163  0.516383  0.493543  1.72%   \n",
       "\n",
       "                   woe        iv  \n",
       "bins                              \n",
       "[21.0, 35.5)  0.065637  0.001177  \n",
       "[35.5, 43.5) -0.186046  0.007657  \n",
       "[43.5, 69.1)  0.046011  0.001068  "
      ]
     },
     "execution_count": 82,
     "metadata": {},
     "output_type": "execute_result"
    },
    {
     "data": {
      "image/png": "[encoded data removed]",
      "text/plain": [
       "<Figure size 432x288 with 1 Axes>"
      ]
     },
     "metadata": {
      "needs_background": "light"
     },
     "output_type": "display_data"
    }
   ],
   "source": [
    "df = feature_woe_iv(data['AGE'],data['is_ovd'],leaf=3) # leaf: 最大叶子节点数\n",
    "plt.barh(range(len(df)),df['woe'])\n",
    "df"
   ]
  },
  {
   "cell_type": "markdown",
   "metadata": {},
   "source": [
    "##### 工作年限"
   ]
  },
  {
   "cell_type": "code",
   "execution_count": 81,
   "metadata": {},
   "outputs": [
    {
     "name": "stdout",
     "output_type": "stream",
     "text": [
      "该变量IV = 0.01123839809206707\n"
     ]
    },
    {
     "data": {
      "text/html": [
       "<div>\n",
       "<style scoped>\n",
       "    .dataframe tbody tr th:only-of-type {\n",
       "        vertical-align: middle;\n",
       "    }\n",
       "\n",
       "    .dataframe tbody tr th {\n",
       "        vertical-align: top;\n",
       "    }\n",
       "\n",
       "    .dataframe thead th {\n",
       "        text-align: right;\n",
       "    }\n",
       "</style>\n",
       "<table border=\"1\" class=\"dataframe\">\n",
       "  <thead>\n",
       "    <tr style=\"text-align: right;\">\n",
       "      <th></th>\n",
       "      <th>总客户数</th>\n",
       "      <th>坏客户数</th>\n",
       "      <th>好客户数</th>\n",
       "      <th>好客户占比</th>\n",
       "      <th>坏客户占比</th>\n",
       "      <th>组占比</th>\n",
       "      <th>坏客户率</th>\n",
       "      <th>woe</th>\n",
       "      <th>iv</th>\n",
       "    </tr>\n",
       "    <tr>\n",
       "      <th>bins</th>\n",
       "      <th></th>\n",
       "      <th></th>\n",
       "      <th></th>\n",
       "      <th></th>\n",
       "      <th></th>\n",
       "      <th></th>\n",
       "      <th></th>\n",
       "      <th></th>\n",
       "      <th></th>\n",
       "    </tr>\n",
       "  </thead>\n",
       "  <tbody>\n",
       "    <tr>\n",
       "      <td>[-999.0, -499.5)</td>\n",
       "      <td>42232</td>\n",
       "      <td>691.0</td>\n",
       "      <td>41541.0</td>\n",
       "      <td>0.170642</td>\n",
       "      <td>0.170239</td>\n",
       "      <td>0.170636</td>\n",
       "      <td>1.64%</td>\n",
       "      <td>-0.002367</td>\n",
       "      <td>9.545920e-07</td>\n",
       "    </tr>\n",
       "    <tr>\n",
       "      <td>[-499.5, 7.5)</td>\n",
       "      <td>126300</td>\n",
       "      <td>2257.0</td>\n",
       "      <td>124043.0</td>\n",
       "      <td>0.509544</td>\n",
       "      <td>0.556048</td>\n",
       "      <td>0.510307</td>\n",
       "      <td>1.79%</td>\n",
       "      <td>0.087338</td>\n",
       "      <td>4.061548e-03</td>\n",
       "    </tr>\n",
       "    <tr>\n",
       "      <td>[7.5, 48.1)</td>\n",
       "      <td>78966</td>\n",
       "      <td>1111.0</td>\n",
       "      <td>77855.0</td>\n",
       "      <td>0.319813</td>\n",
       "      <td>0.273713</td>\n",
       "      <td>0.319057</td>\n",
       "      <td>1.41%</td>\n",
       "      <td>-0.155658</td>\n",
       "      <td>7.175895e-03</td>\n",
       "    </tr>\n",
       "  </tbody>\n",
       "</table>\n",
       "</div>"
      ],
      "text/plain": [
       "                    总客户数    坏客户数      好客户数     好客户占比     坏客户占比       组占比  \\\n",
       "bins                                                                       \n",
       "[-999.0, -499.5)   42232   691.0   41541.0  0.170642  0.170239  0.170636   \n",
       "[-499.5, 7.5)     126300  2257.0  124043.0  0.509544  0.556048  0.510307   \n",
       "[7.5, 48.1)        78966  1111.0   77855.0  0.319813  0.273713  0.319057   \n",
       "\n",
       "                   坏客户率       woe            iv  \n",
       "bins                                             \n",
       "[-999.0, -499.5)  1.64% -0.002367  9.545920e-07  \n",
       "[-499.5, 7.5)     1.79%  0.087338  4.061548e-03  \n",
       "[7.5, 48.1)       1.41% -0.155658  7.175895e-03  "
      ]
     },
     "execution_count": 81,
     "metadata": {},
     "output_type": "execute_result"
    },
    {
     "data": {
      "image/png": "[encoded data removed]",
      "text/plain": [
       "<Figure size 432x288 with 1 Axes>"
      ]
     },
     "metadata": {
      "needs_background": "light"
     },
     "output_type": "display_data"
    }
   ],
   "source": [
    "df = feature_woe_iv(data['WORK_TIME'],data['is_ovd'],leaf=3) # leaf: 最大叶子节点数\n",
    "plt.barh(range(len(df)),df['woe'])\n",
    "df"
   ]
  },
  {
   "cell_type": "markdown",
   "metadata": {},
   "source": [
    "##### 孩子个数"
   ]
  },
  {
   "cell_type": "code",
   "execution_count": 79,
   "metadata": {},
   "outputs": [
    {
     "name": "stdout",
     "output_type": "stream",
     "text": [
      "该变量IV = 0.0017228642125102023\n"
     ]
    },
    {
     "data": {
      "text/html": [
       "<div>\n",
       "<style scoped>\n",
       "    .dataframe tbody tr th:only-of-type {\n",
       "        vertical-align: middle;\n",
       "    }\n",
       "\n",
       "    .dataframe tbody tr th {\n",
       "        vertical-align: top;\n",
       "    }\n",
       "\n",
       "    .dataframe thead th {\n",
       "        text-align: right;\n",
       "    }\n",
       "</style>\n",
       "<table border=\"1\" class=\"dataframe\">\n",
       "  <thead>\n",
       "    <tr style=\"text-align: right;\">\n",
       "      <th></th>\n",
       "      <th>总客户数</th>\n",
       "      <th>坏客户数</th>\n",
       "      <th>好客户数</th>\n",
       "      <th>好客户占比</th>\n",
       "      <th>坏客户占比</th>\n",
       "      <th>组占比</th>\n",
       "      <th>坏客户率</th>\n",
       "      <th>woe</th>\n",
       "      <th>iv</th>\n",
       "    </tr>\n",
       "    <tr>\n",
       "      <th>bins</th>\n",
       "      <th></th>\n",
       "      <th></th>\n",
       "      <th></th>\n",
       "      <th></th>\n",
       "      <th></th>\n",
       "      <th></th>\n",
       "      <th></th>\n",
       "      <th></th>\n",
       "      <th></th>\n",
       "    </tr>\n",
       "  </thead>\n",
       "  <tbody>\n",
       "    <tr>\n",
       "      <td>[0.0, 0.5)</td>\n",
       "      <td>171557</td>\n",
       "      <td>2888.0</td>\n",
       "      <td>168669.0</td>\n",
       "      <td>0.692859</td>\n",
       "      <td>0.711505</td>\n",
       "      <td>0.693165</td>\n",
       "      <td>1.68%</td>\n",
       "      <td>0.026556</td>\n",
       "      <td>0.000495</td>\n",
       "    </tr>\n",
       "    <tr>\n",
       "      <td>[0.5, 1.5)</td>\n",
       "      <td>49822</td>\n",
       "      <td>776.0</td>\n",
       "      <td>49046.0</td>\n",
       "      <td>0.201471</td>\n",
       "      <td>0.191180</td>\n",
       "      <td>0.201303</td>\n",
       "      <td>1.56%</td>\n",
       "      <td>-0.052432</td>\n",
       "      <td>0.000540</td>\n",
       "    </tr>\n",
       "    <tr>\n",
       "      <td>[1.5, 14.1)</td>\n",
       "      <td>26119</td>\n",
       "      <td>395.0</td>\n",
       "      <td>25724.0</td>\n",
       "      <td>0.105669</td>\n",
       "      <td>0.097315</td>\n",
       "      <td>0.105532</td>\n",
       "      <td>1.51%</td>\n",
       "      <td>-0.082364</td>\n",
       "      <td>0.000688</td>\n",
       "    </tr>\n",
       "  </tbody>\n",
       "</table>\n",
       "</div>"
      ],
      "text/plain": [
       "               总客户数    坏客户数      好客户数     好客户占比     坏客户占比       组占比   坏客户率  \\\n",
       "bins                                                                         \n",
       "[0.0, 0.5)   171557  2888.0  168669.0  0.692859  0.711505  0.693165  1.68%   \n",
       "[0.5, 1.5)    49822   776.0   49046.0  0.201471  0.191180  0.201303  1.56%   \n",
       "[1.5, 14.1)   26119   395.0   25724.0  0.105669  0.097315  0.105532  1.51%   \n",
       "\n",
       "                  woe        iv  \n",
       "bins                             \n",
       "[0.0, 0.5)   0.026556  0.000495  \n",
       "[0.5, 1.5)  -0.052432  0.000540  \n",
       "[1.5, 14.1) -0.082364  0.000688  "
      ]
     },
     "execution_count": 79,
     "metadata": {},
     "output_type": "execute_result"
    },
    {
     "data": {
      "image/png": "[encoded data removed]",
      "text/plain": [
       "<Figure size 432x288 with 1 Axes>"
      ]
     },
     "metadata": {
      "needs_background": "light"
     },
     "output_type": "display_data"
    }
   ],
   "source": [
    "df = feature_woe_iv(data['CNT_CHILDREN'],data['is_ovd'],leaf=5) # leaf: 最大叶子节点数\n",
    "plt.barh(range(len(df)),df['woe'])\n",
    "df"
   ]
  },
  {
   "cell_type": "markdown",
   "metadata": {},
   "source": [
    "##### 家庭人数"
   ]
  },
  {
   "cell_type": "code",
   "execution_count": 78,
   "metadata": {
    "scrolled": false
   },
   "outputs": [
    {
     "name": "stdout",
     "output_type": "stream",
     "text": [
      "该变量IV = 0.0037391648439557158\n"
     ]
    },
    {
     "data": {
      "text/html": [
       "<div>\n",
       "<style scoped>\n",
       "    .dataframe tbody tr th:only-of-type {\n",
       "        vertical-align: middle;\n",
       "    }\n",
       "\n",
       "    .dataframe tbody tr th {\n",
       "        vertical-align: top;\n",
       "    }\n",
       "\n",
       "    .dataframe thead th {\n",
       "        text-align: right;\n",
       "    }\n",
       "</style>\n",
       "<table border=\"1\" class=\"dataframe\">\n",
       "  <thead>\n",
       "    <tr style=\"text-align: right;\">\n",
       "      <th></th>\n",
       "      <th>总客户数</th>\n",
       "      <th>坏客户数</th>\n",
       "      <th>好客户数</th>\n",
       "      <th>好客户占比</th>\n",
       "      <th>坏客户占比</th>\n",
       "      <th>组占比</th>\n",
       "      <th>坏客户率</th>\n",
       "      <th>woe</th>\n",
       "      <th>iv</th>\n",
       "    </tr>\n",
       "    <tr>\n",
       "      <th>bins</th>\n",
       "      <th></th>\n",
       "      <th></th>\n",
       "      <th></th>\n",
       "      <th></th>\n",
       "      <th></th>\n",
       "      <th></th>\n",
       "      <th></th>\n",
       "      <th></th>\n",
       "      <th></th>\n",
       "    </tr>\n",
       "  </thead>\n",
       "  <tbody>\n",
       "    <tr>\n",
       "      <td>[1.0, 1.5)</td>\n",
       "      <td>46505</td>\n",
       "      <td>818.0</td>\n",
       "      <td>45687.0</td>\n",
       "      <td>0.187673</td>\n",
       "      <td>0.201527</td>\n",
       "      <td>0.187901</td>\n",
       "      <td>1.76%</td>\n",
       "      <td>0.071223</td>\n",
       "      <td>0.000987</td>\n",
       "    </tr>\n",
       "    <tr>\n",
       "      <td>[1.5, 2.5)</td>\n",
       "      <td>132875</td>\n",
       "      <td>2226.0</td>\n",
       "      <td>130649.0</td>\n",
       "      <td>0.536681</td>\n",
       "      <td>0.548411</td>\n",
       "      <td>0.536873</td>\n",
       "      <td>1.68%</td>\n",
       "      <td>0.021622</td>\n",
       "      <td>0.000254</td>\n",
       "    </tr>\n",
       "    <tr>\n",
       "      <td>[2.5, 3.5)</td>\n",
       "      <td>43528</td>\n",
       "      <td>651.0</td>\n",
       "      <td>42877.0</td>\n",
       "      <td>0.176130</td>\n",
       "      <td>0.160384</td>\n",
       "      <td>0.175872</td>\n",
       "      <td>1.50%</td>\n",
       "      <td>-0.093651</td>\n",
       "      <td>0.001475</td>\n",
       "    </tr>\n",
       "    <tr>\n",
       "      <td>[3.5, 15.1)</td>\n",
       "      <td>24590</td>\n",
       "      <td>364.0</td>\n",
       "      <td>24226.0</td>\n",
       "      <td>0.099516</td>\n",
       "      <td>0.089677</td>\n",
       "      <td>0.099354</td>\n",
       "      <td>1.48%</td>\n",
       "      <td>-0.104098</td>\n",
       "      <td>0.001024</td>\n",
       "    </tr>\n",
       "  </tbody>\n",
       "</table>\n",
       "</div>"
      ],
      "text/plain": [
       "               总客户数    坏客户数      好客户数     好客户占比     坏客户占比       组占比   坏客户率  \\\n",
       "bins                                                                         \n",
       "[1.0, 1.5)    46505   818.0   45687.0  0.187673  0.201527  0.187901  1.76%   \n",
       "[1.5, 2.5)   132875  2226.0  130649.0  0.536681  0.548411  0.536873  1.68%   \n",
       "[2.5, 3.5)    43528   651.0   42877.0  0.176130  0.160384  0.175872  1.50%   \n",
       "[3.5, 15.1)   24590   364.0   24226.0  0.099516  0.089677  0.099354  1.48%   \n",
       "\n",
       "                  woe        iv  \n",
       "bins                             \n",
       "[1.0, 1.5)   0.071223  0.000987  \n",
       "[1.5, 2.5)   0.021622  0.000254  \n",
       "[2.5, 3.5)  -0.093651  0.001475  \n",
       "[3.5, 15.1) -0.104098  0.001024  "
      ]
     },
     "execution_count": 78,
     "metadata": {},
     "output_type": "execute_result"
    },
    {
     "data": {
      "image/png": "[encoded data removed]",
      "text/plain": [
       "<Figure size 432x288 with 1 Axes>"
      ]
     },
     "metadata": {
      "needs_background": "light"
     },
     "output_type": "display_data"
    }
   ],
   "source": [
    "df = feature_woe_iv(data['CNT_FAM_MEMBERS'],data['is_ovd'],leaf=5) # leaf: 最大叶子节点数\n",
    "plt.barh(range(len(df)),df['woe'])\n",
    "df"
   ]
  },
  {
   "cell_type": "code",
   "execution_count": null,
   "metadata": {},
   "outputs": [],
   "source": []
  }
 ],
 "metadata": {
  "kernelspec": {
   "display_name": "Python 3",
   "language": "python",
   "name": "python3"
  },
  "language_info": {
   "codemirror_mode": {
    "name": "ipython",
    "version": 3
   },
   "file_extension": ".py",
   "mimetype": "text/x-python",
   "name": "python",
   "nbconvert_exporter": "python",
   "pygments_lexer": "ipython3",
   "version": "3.7.4"
  }
 },
 "nbformat": 4,
 "nbformat_minor": 2
}
