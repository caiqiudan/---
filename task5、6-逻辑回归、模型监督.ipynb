{
 "cells": [
  {
   "cell_type": "code",
   "execution_count": 1,
   "metadata": {},
   "outputs": [],
   "source": [
    "import pandas as pd\n",
    "import numpy as np\n",
    "from numpy import *\n",
    "from sklearn.model_selection import train_test_split # 逻辑回归\n",
    "import sklearn.metrics as metrics # 绘制ROC曲线\n",
    "import statsmodels.api as sma \n",
    "import  matplotlib.pyplot as plt\n",
    "%matplotlib inline\n",
    "plt.rcParams['font.sans-serif'] = ['SimHei'] # 指定默认字体\n",
    "plt.rcParams['axes.unicode_minus'] = False # 解决保存图像时负号‘-’显示为方块的问题"
   ]
  },
  {
   "cell_type": "code",
   "execution_count": 2,
   "metadata": {},
   "outputs": [],
   "source": [
    "cre_score = pd.read_csv('../数据/credit_score.csv') # 信用局评分"
   ]
  },
  {
   "cell_type": "code",
   "execution_count": 3,
   "metadata": {},
   "outputs": [],
   "source": [
    "data1 = pd.read_csv('../数据/data_model.csv')"
   ]
  },
  {
   "cell_type": "code",
   "execution_count": 4,
   "metadata": {},
   "outputs": [],
   "source": [
    "data1.loc[data1.OCCUPATION_TYPE.isna(),'OCCUPATION_TYPE'] = 'Unknow'\n",
    "data1['AGE'] = (-data1['DAYS_BIRTH']/365).apply(lambda x: round(x))\n",
    "data1['WORK_TIME'] = (-data1['DAYS_EMPLOYED']/365).apply(lambda x: round(x))"
   ]
  },
  {
   "cell_type": "code",
   "execution_count": 5,
   "metadata": {},
   "outputs": [],
   "source": [
    "data1.loc[data1['WORK_TIME']==-1001,'WORK_TIME'] = 'Unknow'"
   ]
  },
  {
   "cell_type": "code",
   "execution_count": 6,
   "metadata": {
    "scrolled": false
   },
   "outputs": [
    {
     "data": {
      "text/html": [
       "<div>\n",
       "<style scoped>\n",
       "    .dataframe tbody tr th:only-of-type {\n",
       "        vertical-align: middle;\n",
       "    }\n",
       "\n",
       "    .dataframe tbody tr th {\n",
       "        vertical-align: top;\n",
       "    }\n",
       "\n",
       "    .dataframe thead th {\n",
       "        text-align: right;\n",
       "    }\n",
       "</style>\n",
       "<table border=\"1\" class=\"dataframe\">\n",
       "  <thead>\n",
       "    <tr style=\"text-align: right;\">\n",
       "      <th></th>\n",
       "      <th>Unnamed: 0</th>\n",
       "      <th>ID</th>\n",
       "      <th>is_ovd</th>\n",
       "      <th>CODE_GENDER</th>\n",
       "      <th>FLAG_OWN_CAR</th>\n",
       "      <th>FLAG_OWN_REALTY</th>\n",
       "      <th>CNT_CHILDREN</th>\n",
       "      <th>AMT_INCOME_TOTAL</th>\n",
       "      <th>NAME_INCOME_TYPE</th>\n",
       "      <th>NAME_EDUCATION_TYPE</th>\n",
       "      <th>...</th>\n",
       "      <th>DAYS_BIRTH</th>\n",
       "      <th>DAYS_EMPLOYED</th>\n",
       "      <th>FLAG_MOBIL</th>\n",
       "      <th>FLAG_WORK_PHONE</th>\n",
       "      <th>FLAG_PHONE</th>\n",
       "      <th>FLAG_EMAIL</th>\n",
       "      <th>OCCUPATION_TYPE</th>\n",
       "      <th>CNT_FAM_MEMBERS</th>\n",
       "      <th>AGE</th>\n",
       "      <th>WORK_TIME</th>\n",
       "    </tr>\n",
       "  </thead>\n",
       "  <tbody>\n",
       "    <tr>\n",
       "      <td>0</td>\n",
       "      <td>0</td>\n",
       "      <td>5008806</td>\n",
       "      <td>0.0</td>\n",
       "      <td>M</td>\n",
       "      <td>Y</td>\n",
       "      <td>Y</td>\n",
       "      <td>0</td>\n",
       "      <td>112500.0</td>\n",
       "      <td>Working</td>\n",
       "      <td>Secondary / secondary special</td>\n",
       "      <td>...</td>\n",
       "      <td>-21474</td>\n",
       "      <td>-1134</td>\n",
       "      <td>1</td>\n",
       "      <td>0</td>\n",
       "      <td>0</td>\n",
       "      <td>0</td>\n",
       "      <td>Security staff</td>\n",
       "      <td>2.0</td>\n",
       "      <td>59</td>\n",
       "      <td>3</td>\n",
       "    </tr>\n",
       "    <tr>\n",
       "      <td>1</td>\n",
       "      <td>1</td>\n",
       "      <td>5008809</td>\n",
       "      <td>0.0</td>\n",
       "      <td>F</td>\n",
       "      <td>N</td>\n",
       "      <td>Y</td>\n",
       "      <td>0</td>\n",
       "      <td>270000.0</td>\n",
       "      <td>Commercial associate</td>\n",
       "      <td>Secondary / secondary special</td>\n",
       "      <td>...</td>\n",
       "      <td>-19110</td>\n",
       "      <td>-3051</td>\n",
       "      <td>1</td>\n",
       "      <td>0</td>\n",
       "      <td>1</td>\n",
       "      <td>1</td>\n",
       "      <td>Sales staff</td>\n",
       "      <td>1.0</td>\n",
       "      <td>52</td>\n",
       "      <td>8</td>\n",
       "    </tr>\n",
       "    <tr>\n",
       "      <td>2</td>\n",
       "      <td>2</td>\n",
       "      <td>5008810</td>\n",
       "      <td>0.0</td>\n",
       "      <td>F</td>\n",
       "      <td>N</td>\n",
       "      <td>Y</td>\n",
       "      <td>0</td>\n",
       "      <td>270000.0</td>\n",
       "      <td>Commercial associate</td>\n",
       "      <td>Secondary / secondary special</td>\n",
       "      <td>...</td>\n",
       "      <td>-19110</td>\n",
       "      <td>-3051</td>\n",
       "      <td>1</td>\n",
       "      <td>0</td>\n",
       "      <td>1</td>\n",
       "      <td>1</td>\n",
       "      <td>Sales staff</td>\n",
       "      <td>1.0</td>\n",
       "      <td>52</td>\n",
       "      <td>8</td>\n",
       "    </tr>\n",
       "    <tr>\n",
       "      <td>3</td>\n",
       "      <td>3</td>\n",
       "      <td>5008811</td>\n",
       "      <td>0.0</td>\n",
       "      <td>F</td>\n",
       "      <td>N</td>\n",
       "      <td>Y</td>\n",
       "      <td>0</td>\n",
       "      <td>270000.0</td>\n",
       "      <td>Commercial associate</td>\n",
       "      <td>Secondary / secondary special</td>\n",
       "      <td>...</td>\n",
       "      <td>-19110</td>\n",
       "      <td>-3051</td>\n",
       "      <td>1</td>\n",
       "      <td>0</td>\n",
       "      <td>1</td>\n",
       "      <td>1</td>\n",
       "      <td>Sales staff</td>\n",
       "      <td>1.0</td>\n",
       "      <td>52</td>\n",
       "      <td>8</td>\n",
       "    </tr>\n",
       "    <tr>\n",
       "      <td>4</td>\n",
       "      <td>4</td>\n",
       "      <td>5008812</td>\n",
       "      <td>0.0</td>\n",
       "      <td>F</td>\n",
       "      <td>N</td>\n",
       "      <td>Y</td>\n",
       "      <td>0</td>\n",
       "      <td>283500.0</td>\n",
       "      <td>Pensioner</td>\n",
       "      <td>Higher education</td>\n",
       "      <td>...</td>\n",
       "      <td>-22464</td>\n",
       "      <td>365243</td>\n",
       "      <td>1</td>\n",
       "      <td>0</td>\n",
       "      <td>0</td>\n",
       "      <td>0</td>\n",
       "      <td>Unknow</td>\n",
       "      <td>1.0</td>\n",
       "      <td>62</td>\n",
       "      <td>Unknow</td>\n",
       "    </tr>\n",
       "  </tbody>\n",
       "</table>\n",
       "<p>5 rows × 22 columns</p>\n",
       "</div>"
      ],
      "text/plain": [
       "   Unnamed: 0       ID  is_ovd CODE_GENDER FLAG_OWN_CAR FLAG_OWN_REALTY  \\\n",
       "0           0  5008806     0.0           M            Y               Y   \n",
       "1           1  5008809     0.0           F            N               Y   \n",
       "2           2  5008810     0.0           F            N               Y   \n",
       "3           3  5008811     0.0           F            N               Y   \n",
       "4           4  5008812     0.0           F            N               Y   \n",
       "\n",
       "   CNT_CHILDREN  AMT_INCOME_TOTAL      NAME_INCOME_TYPE  \\\n",
       "0             0          112500.0               Working   \n",
       "1             0          270000.0  Commercial associate   \n",
       "2             0          270000.0  Commercial associate   \n",
       "3             0          270000.0  Commercial associate   \n",
       "4             0          283500.0             Pensioner   \n",
       "\n",
       "             NAME_EDUCATION_TYPE  ... DAYS_BIRTH DAYS_EMPLOYED  FLAG_MOBIL  \\\n",
       "0  Secondary / secondary special  ...     -21474         -1134           1   \n",
       "1  Secondary / secondary special  ...     -19110         -3051           1   \n",
       "2  Secondary / secondary special  ...     -19110         -3051           1   \n",
       "3  Secondary / secondary special  ...     -19110         -3051           1   \n",
       "4               Higher education  ...     -22464        365243           1   \n",
       "\n",
       "   FLAG_WORK_PHONE  FLAG_PHONE  FLAG_EMAIL  OCCUPATION_TYPE  CNT_FAM_MEMBERS  \\\n",
       "0                0           0           0   Security staff              2.0   \n",
       "1                0           1           1      Sales staff              1.0   \n",
       "2                0           1           1      Sales staff              1.0   \n",
       "3                0           1           1      Sales staff              1.0   \n",
       "4                0           0           0           Unknow              1.0   \n",
       "\n",
       "  AGE  WORK_TIME  \n",
       "0  59          3  \n",
       "1  52          8  \n",
       "2  52          8  \n",
       "3  52          8  \n",
       "4  62     Unknow  \n",
       "\n",
       "[5 rows x 22 columns]"
      ]
     },
     "execution_count": 6,
     "metadata": {},
     "output_type": "execute_result"
    }
   ],
   "source": [
    "data1.head()"
   ]
  },
  {
   "cell_type": "markdown",
   "metadata": {},
   "source": [
    "#### 创建虚拟变量"
   ]
  },
  {
   "cell_type": "code",
   "execution_count": 7,
   "metadata": {},
   "outputs": [],
   "source": [
    "# 性别\n",
    "data1.loc[data1['CODE_GENDER']=='F','CODE_GENDER_F'] = 1\n",
    "# 是否有房产\n",
    "data1.loc[data1['FLAG_OWN_REALTY']=='Y','FLAG_OWN_REALTY_Y'] = 1\n",
    "# 年收入\n",
    "data1.loc[data1['AMT_INCOME_TOTAL']<108225,'AMT_INCOME_TOTAL_1'] = 1\n",
    "data1.loc[data1['AMT_INCOME_TOTAL'].isin(range(108225,225382)),'AMT_INCOME_TOTAL_2'] = 1\n",
    "# 收入类别\n",
    "data1.loc[data1['NAME_INCOME_TYPE']=='Pensioner','NAME_INCOME_TYPE_1'] = 1\n",
    "data1.loc[data1['NAME_INCOME_TYPE']=='Working','NAME_INCOME_TYPE_2'] = 1\n",
    "data1.loc[data1['NAME_INCOME_TYPE']=='Commercial associate','NAME_INCOME_TYPE_3'] = 1\n",
    "# 婚姻状态\n",
    "data1.loc[data1['NAME_FAMILY_STATUS']=='Single / not married','NAME_FAMILY_STATUS_1'] = 1\n",
    "data1.loc[data1['NAME_FAMILY_STATUS']=='Widow','NAME_FAMILY_STATUS_1'] = 1\n",
    "data1.loc[data1['NAME_FAMILY_STATUS']=='Separated','NAME_FAMILY_STATUS_2'] = 1\n",
    "data1.loc[data1['NAME_FAMILY_STATUS']=='Civil marriage','NAME_FAMILY_STATUS_3'] = 1\n",
    "# 年龄\n",
    "data1.loc[data1['AGE'].isin(range(0,36)),'AGE_1'] = 1\n",
    "data1.loc[data1['AGE'].isin(range(36,43)),'AGE_2'] = 1\n",
    "# 是否哟email\n",
    "data1.loc[data1['FLAG_EMAIL']==1,'FLAG_EMAIL_Y'] = 1\n",
    "# 职业\n",
    "data1.loc[data1['OCCUPATION_TYPE']=='Drivers','OCCUPATION_TYPE_1'] = 1\n",
    "data1.loc[data1['OCCUPATION_TYPE']=='Laborers','OCCUPATION_TYPE_2'] = 1\n",
    "data1.loc[data1['OCCUPATION_TYPE']=='Managers','OCCUPATION_TYPE_3'] = 1\n",
    "data1.loc[data1['OCCUPATION_TYPE']=='Core staff','OCCUPATION_TYPE_4'] = 1\n",
    "data1.loc[data1['OCCUPATION_TYPE']=='Sales staff','OCCUPATION_TYPE_5'] = 1\n",
    "data1.loc[data1['OCCUPATION_TYPE']=='Unknow','OCCUPATION_TYPE_6'] = 1\n",
    "# 家庭人数\n",
    "data1.loc[data1['CNT_FAM_MEMBERS']<=1 ,'CNT_FAM_MEMBERS_1'] = 1\n",
    "data1.loc[data1['CNT_FAM_MEMBERS']==2 ,'CNT_FAM_MEMBERS_2'] = 1\n",
    "data1.loc[data1['CNT_FAM_MEMBERS']==3 ,'CNT_FAM_MEMBERS_3'] = 1\n",
    "# 工作年限 \n",
    "data1.loc[data1['WORK_TIME']=='Unknow','WORK_TIME_1'] = 1\n",
    "data1.loc[data1['WORK_TIME'].isin(range(2,8)),'WORK_TIME_2'] = 1\n",
    "data1.loc[data1['WORK_TIME'].isin(range(8,11)),'WORK_TIME_3'] = 1 # -----------8以上合起来了！---------\n",
    "# 填充缺失值\n",
    "data1.fillna(0,inplace=True)"
   ]
  },
  {
   "cell_type": "code",
   "execution_count": 8,
   "metadata": {},
   "outputs": [],
   "source": [
    "data = pd.merge(data1,cre_score,on='ID',how='left')"
   ]
  },
  {
   "cell_type": "markdown",
   "metadata": {},
   "source": [
    "#### 逻辑回归"
   ]
  },
  {
   "cell_type": "code",
   "execution_count": 9,
   "metadata": {
    "scrolled": true
   },
   "outputs": [],
   "source": [
    "x = data.loc[:,'CODE_GENDER_F':]\n",
    "x.drop(columns=['credit_score'],inplace=True)\n",
    "y = data['is_ovd']\n",
    "# 训练：测试=7:3\n",
    "x_train, x_test, y_train, y_test = train_test_split(x, y, test_size=0.3,random_state=0)"
   ]
  },
  {
   "cell_type": "code",
   "execution_count": 10,
   "metadata": {},
   "outputs": [
    {
     "name": "stdout",
     "output_type": "stream",
     "text": [
      "Optimization terminated successfully.\n",
      "         Current function value: 0.084908\n",
      "         Iterations 8\n"
     ]
    },
    {
     "data": {
      "text/html": [
       "<table class=\"simpletable\">\n",
       "<tr>\n",
       "        <td>Model:</td>              <td>Logit</td>      <td>Pseudo R-squared:</td>   <td>-0.019</td>  \n",
       "</tr>\n",
       "<tr>\n",
       "  <td>Dependent Variable:</td>      <td>is_ovd</td>            <td>AIC:</td>        <td>29470.2041</td>\n",
       "</tr>\n",
       "<tr>\n",
       "         <td>Date:</td>        <td>2020-08-30 11:35</td>       <td>BIC:</td>        <td>29721.7661</td>\n",
       "</tr>\n",
       "<tr>\n",
       "   <td>No. Observations:</td>       <td>173248</td>       <td>Log-Likelihood:</td>    <td>-14710.</td> \n",
       "</tr>\n",
       "<tr>\n",
       "       <td>Df Model:</td>             <td>24</td>            <td>LL-Null:</td>        <td>-14442.</td> \n",
       "</tr>\n",
       "<tr>\n",
       "     <td>Df Residuals:</td>         <td>173223</td>        <td>LLR p-value:</td>      <td>1.0000</td>  \n",
       "</tr>\n",
       "<tr>\n",
       "      <td>Converged:</td>           <td>1.0000</td>           <td>Scale:</td>         <td>1.0000</td>  \n",
       "</tr>\n",
       "<tr>\n",
       "    <td>No. Iterations:</td>        <td>8.0000</td>              <td></td>               <td></td>     \n",
       "</tr>\n",
       "</table>\n",
       "<table class=\"simpletable\">\n",
       "<tr>\n",
       "            <td></td>            <th>Coef.</th>  <th>Std.Err.</th>     <th>z</th>     <th>P>|z|</th> <th>[0.025</th>  <th>0.975]</th> \n",
       "</tr>\n",
       "<tr>\n",
       "  <th>CODE_GENDER_F</th>        <td>-0.8745</td>  <td>0.0401</td>  <td>-21.8129</td> <td>0.0000</td> <td>-0.9531</td> <td>-0.7960</td>\n",
       "</tr>\n",
       "<tr>\n",
       "  <th>FLAG_OWN_REALTY_Y</th>    <td>-0.5890</td>  <td>0.0355</td>  <td>-16.5988</td> <td>0.0000</td> <td>-0.6585</td> <td>-0.5194</td>\n",
       "</tr>\n",
       "<tr>\n",
       "  <th>AMT_INCOME_TOTAL_1</th>   <td>-0.0395</td>  <td>0.0595</td>   <td>-0.6634</td> <td>0.5071</td> <td>-0.1562</td> <td>0.0772</td> \n",
       "</tr>\n",
       "<tr>\n",
       "  <th>AMT_INCOME_TOTAL_2</th>   <td>-0.2820</td>  <td>0.0418</td>   <td>-6.7542</td> <td>0.0000</td> <td>-0.3639</td> <td>-0.2002</td>\n",
       "</tr>\n",
       "<tr>\n",
       "  <th>NAME_INCOME_TYPE_1</th>   <td>6.7932</td>   <td>0.5985</td>   <td>11.3511</td> <td>0.0000</td> <td>5.6203</td>  <td>7.9662</td> \n",
       "</tr>\n",
       "<tr>\n",
       "  <th>NAME_INCOME_TYPE_2</th>   <td>-1.0260</td>  <td>0.0485</td>  <td>-21.1705</td> <td>0.0000</td> <td>-1.1209</td> <td>-0.9310</td>\n",
       "</tr>\n",
       "<tr>\n",
       "  <th>NAME_INCOME_TYPE_3</th>   <td>-1.1183</td>  <td>0.0581</td>  <td>-19.2402</td> <td>0.0000</td> <td>-1.2322</td> <td>-1.0044</td>\n",
       "</tr>\n",
       "<tr>\n",
       "  <th>NAME_FAMILY_STATUS_1</th> <td>1.2786</td>   <td>0.0802</td>   <td>15.9507</td> <td>0.0000</td> <td>1.1215</td>  <td>1.4357</td> \n",
       "</tr>\n",
       "<tr>\n",
       "  <th>NAME_FAMILY_STATUS_2</th> <td>0.9131</td>   <td>0.0929</td>   <td>9.8279</td>  <td>0.0000</td> <td>0.7310</td>  <td>1.0952</td> \n",
       "</tr>\n",
       "<tr>\n",
       "  <th>NAME_FAMILY_STATUS_3</th> <td>0.1790</td>   <td>0.0696</td>   <td>2.5714</td>  <td>0.0101</td> <td>0.0426</td>  <td>0.3154</td> \n",
       "</tr>\n",
       "<tr>\n",
       "  <th>AGE_1</th>                <td>-0.6931</td>  <td>0.0474</td>  <td>-14.6275</td> <td>0.0000</td> <td>-0.7859</td> <td>-0.6002</td>\n",
       "</tr>\n",
       "<tr>\n",
       "  <th>AGE_2</th>                <td>-0.9739</td>  <td>0.0544</td>  <td>-17.8903</td> <td>0.0000</td> <td>-1.0806</td> <td>-0.8672</td>\n",
       "</tr>\n",
       "<tr>\n",
       "  <th>FLAG_EMAIL_Y</th>         <td>-0.2132</td>  <td>0.0652</td>   <td>-3.2712</td> <td>0.0011</td> <td>-0.3410</td> <td>-0.0855</td>\n",
       "</tr>\n",
       "<tr>\n",
       "  <th>OCCUPATION_TYPE_1</th>    <td>-0.9494</td>  <td>0.0813</td>  <td>-11.6721</td> <td>0.0000</td> <td>-1.1088</td> <td>-0.7900</td>\n",
       "</tr>\n",
       "<tr>\n",
       "  <th>OCCUPATION_TYPE_2</th>    <td>-0.7379</td>  <td>0.0574</td>  <td>-12.8548</td> <td>0.0000</td> <td>-0.8504</td> <td>-0.6254</td>\n",
       "</tr>\n",
       "<tr>\n",
       "  <th>OCCUPATION_TYPE_3</th>    <td>-0.8438</td>  <td>0.0735</td>  <td>-11.4748</td> <td>0.0000</td> <td>-0.9879</td> <td>-0.6996</td>\n",
       "</tr>\n",
       "<tr>\n",
       "  <th>OCCUPATION_TYPE_4</th>    <td>-0.9293</td>  <td>0.0713</td>  <td>-13.0418</td> <td>0.0000</td> <td>-1.0689</td> <td>-0.7896</td>\n",
       "</tr>\n",
       "<tr>\n",
       "  <th>OCCUPATION_TYPE_5</th>    <td>-0.2219</td>  <td>0.0743</td>   <td>-2.9844</td> <td>0.0028</td> <td>-0.3676</td> <td>-0.0762</td>\n",
       "</tr>\n",
       "<tr>\n",
       "  <th>OCCUPATION_TYPE_6</th>    <td>-0.7714</td>  <td>0.0625</td>  <td>-12.3416</td> <td>0.0000</td> <td>-0.8939</td> <td>-0.6489</td>\n",
       "</tr>\n",
       "<tr>\n",
       "  <th>CNT_FAM_MEMBERS_1</th>    <td>-2.2303</td>  <td>0.0946</td>  <td>-23.5878</td> <td>0.0000</td> <td>-2.4157</td> <td>-2.0450</td>\n",
       "</tr>\n",
       "<tr>\n",
       "  <th>CNT_FAM_MEMBERS_2</th>    <td>-1.2715</td>  <td>0.0465</td>  <td>-27.3661</td> <td>0.0000</td> <td>-1.3625</td> <td>-1.1804</td>\n",
       "</tr>\n",
       "<tr>\n",
       "  <th>CNT_FAM_MEMBERS_3</th>    <td>-1.1789</td>  <td>0.0600</td>  <td>-19.6436</td> <td>0.0000</td> <td>-1.2966</td> <td>-1.0613</td>\n",
       "</tr>\n",
       "<tr>\n",
       "  <th>WORK_TIME_1</th>          <td>-7.6982</td>  <td>0.6011</td>  <td>-12.8067</td> <td>0.0000</td> <td>-8.8764</td> <td>-6.5201</td>\n",
       "</tr>\n",
       "<tr>\n",
       "  <th>WORK_TIME_2</th>          <td>-0.2265</td>  <td>0.0426</td>   <td>-5.3139</td> <td>0.0000</td> <td>-0.3100</td> <td>-0.1430</td>\n",
       "</tr>\n",
       "<tr>\n",
       "  <th>WORK_TIME_3</th>          <td>-0.3566</td>  <td>0.0629</td>   <td>-5.6712</td> <td>0.0000</td> <td>-0.4798</td> <td>-0.2333</td>\n",
       "</tr>\n",
       "</table>"
      ],
      "text/plain": [
       "<class 'statsmodels.iolib.summary2.Summary'>\n",
       "\"\"\"\n",
       "                           Results: Logit\n",
       "=====================================================================\n",
       "Model:                Logit             Pseudo R-squared:  -0.019    \n",
       "Dependent Variable:   is_ovd            AIC:               29470.2041\n",
       "Date:                 2020-08-30 11:35  BIC:               29721.7661\n",
       "No. Observations:     173248            Log-Likelihood:    -14710.   \n",
       "Df Model:             24                LL-Null:           -14442.   \n",
       "Df Residuals:         173223            LLR p-value:       1.0000    \n",
       "Converged:            1.0000            Scale:             1.0000    \n",
       "No. Iterations:       8.0000                                         \n",
       "---------------------------------------------------------------------\n",
       "                      Coef.  Std.Err.    z     P>|z|   [0.025  0.975]\n",
       "---------------------------------------------------------------------\n",
       "CODE_GENDER_F        -0.8745   0.0401 -21.8129 0.0000 -0.9531 -0.7960\n",
       "FLAG_OWN_REALTY_Y    -0.5890   0.0355 -16.5988 0.0000 -0.6585 -0.5194\n",
       "AMT_INCOME_TOTAL_1   -0.0395   0.0595  -0.6634 0.5071 -0.1562  0.0772\n",
       "AMT_INCOME_TOTAL_2   -0.2820   0.0418  -6.7542 0.0000 -0.3639 -0.2002\n",
       "NAME_INCOME_TYPE_1    6.7932   0.5985  11.3511 0.0000  5.6203  7.9662\n",
       "NAME_INCOME_TYPE_2   -1.0260   0.0485 -21.1705 0.0000 -1.1209 -0.9310\n",
       "NAME_INCOME_TYPE_3   -1.1183   0.0581 -19.2402 0.0000 -1.2322 -1.0044\n",
       "NAME_FAMILY_STATUS_1  1.2786   0.0802  15.9507 0.0000  1.1215  1.4357\n",
       "NAME_FAMILY_STATUS_2  0.9131   0.0929   9.8279 0.0000  0.7310  1.0952\n",
       "NAME_FAMILY_STATUS_3  0.1790   0.0696   2.5714 0.0101  0.0426  0.3154\n",
       "AGE_1                -0.6931   0.0474 -14.6275 0.0000 -0.7859 -0.6002\n",
       "AGE_2                -0.9739   0.0544 -17.8903 0.0000 -1.0806 -0.8672\n",
       "FLAG_EMAIL_Y         -0.2132   0.0652  -3.2712 0.0011 -0.3410 -0.0855\n",
       "OCCUPATION_TYPE_1    -0.9494   0.0813 -11.6721 0.0000 -1.1088 -0.7900\n",
       "OCCUPATION_TYPE_2    -0.7379   0.0574 -12.8548 0.0000 -0.8504 -0.6254\n",
       "OCCUPATION_TYPE_3    -0.8438   0.0735 -11.4748 0.0000 -0.9879 -0.6996\n",
       "OCCUPATION_TYPE_4    -0.9293   0.0713 -13.0418 0.0000 -1.0689 -0.7896\n",
       "OCCUPATION_TYPE_5    -0.2219   0.0743  -2.9844 0.0028 -0.3676 -0.0762\n",
       "OCCUPATION_TYPE_6    -0.7714   0.0625 -12.3416 0.0000 -0.8939 -0.6489\n",
       "CNT_FAM_MEMBERS_1    -2.2303   0.0946 -23.5878 0.0000 -2.4157 -2.0450\n",
       "CNT_FAM_MEMBERS_2    -1.2715   0.0465 -27.3661 0.0000 -1.3625 -1.1804\n",
       "CNT_FAM_MEMBERS_3    -1.1789   0.0600 -19.6436 0.0000 -1.2966 -1.0613\n",
       "WORK_TIME_1          -7.6982   0.6011 -12.8067 0.0000 -8.8764 -6.5201\n",
       "WORK_TIME_2          -0.2265   0.0426  -5.3139 0.0000 -0.3100 -0.1430\n",
       "WORK_TIME_3          -0.3566   0.0629  -5.6712 0.0000 -0.4798 -0.2333\n",
       "=====================================================================\n",
       "\n",
       "\"\"\""
      ]
     },
     "execution_count": 10,
     "metadata": {},
     "output_type": "execute_result"
    }
   ],
   "source": [
    "lr = sma.Logit(y_train,x_train)\n",
    "result = lr.fit()\n",
    "result.summary2()"
   ]
  },
  {
   "cell_type": "code",
   "execution_count": 11,
   "metadata": {},
   "outputs": [
    {
     "name": "stdout",
     "output_type": "stream",
     "text": [
      "Optimization terminated successfully.\n",
      "         Current function value: 0.084909\n",
      "         Iterations 8\n"
     ]
    },
    {
     "data": {
      "text/html": [
       "<table class=\"simpletable\">\n",
       "<tr>\n",
       "        <td>Model:</td>              <td>Logit</td>      <td>Pseudo R-squared:</td>   <td>-0.019</td>  \n",
       "</tr>\n",
       "<tr>\n",
       "  <td>Dependent Variable:</td>      <td>is_ovd</td>            <td>AIC:</td>        <td>29468.6455</td>\n",
       "</tr>\n",
       "<tr>\n",
       "         <td>Date:</td>        <td>2020-08-30 11:35</td>       <td>BIC:</td>        <td>29710.1450</td>\n",
       "</tr>\n",
       "<tr>\n",
       "   <td>No. Observations:</td>       <td>173248</td>       <td>Log-Likelihood:</td>    <td>-14710.</td> \n",
       "</tr>\n",
       "<tr>\n",
       "       <td>Df Model:</td>             <td>23</td>            <td>LL-Null:</td>        <td>-14442.</td> \n",
       "</tr>\n",
       "<tr>\n",
       "     <td>Df Residuals:</td>         <td>173224</td>        <td>LLR p-value:</td>      <td>1.0000</td>  \n",
       "</tr>\n",
       "<tr>\n",
       "      <td>Converged:</td>           <td>1.0000</td>           <td>Scale:</td>         <td>1.0000</td>  \n",
       "</tr>\n",
       "<tr>\n",
       "    <td>No. Iterations:</td>        <td>8.0000</td>              <td></td>               <td></td>     \n",
       "</tr>\n",
       "</table>\n",
       "<table class=\"simpletable\">\n",
       "<tr>\n",
       "            <td></td>            <th>Coef.</th>  <th>Std.Err.</th>     <th>z</th>     <th>P>|z|</th> <th>[0.025</th>  <th>0.975]</th> \n",
       "</tr>\n",
       "<tr>\n",
       "  <th>CODE_GENDER_F</th>        <td>-0.8817</td>  <td>0.0386</td>  <td>-22.8542</td> <td>0.0000</td> <td>-0.9574</td> <td>-0.8061</td>\n",
       "</tr>\n",
       "<tr>\n",
       "  <th>FLAG_OWN_REALTY_Y</th>    <td>-0.5894</td>  <td>0.0355</td>  <td>-16.6182</td> <td>0.0000</td> <td>-0.6589</td> <td>-0.5199</td>\n",
       "</tr>\n",
       "<tr>\n",
       "  <th>AMT_INCOME_TOTAL_2</th>   <td>-0.2680</td>  <td>0.0361</td>   <td>-7.4290</td> <td>0.0000</td> <td>-0.3387</td> <td>-0.1973</td>\n",
       "</tr>\n",
       "<tr>\n",
       "  <th>NAME_INCOME_TYPE_1</th>   <td>6.7925</td>   <td>0.5985</td>   <td>11.3491</td> <td>0.0000</td> <td>5.6195</td>  <td>7.9656</td> \n",
       "</tr>\n",
       "<tr>\n",
       "  <th>NAME_INCOME_TYPE_2</th>   <td>-1.0317</td>  <td>0.0477</td>  <td>-21.6497</td> <td>0.0000</td> <td>-1.1251</td> <td>-0.9383</td>\n",
       "</tr>\n",
       "<tr>\n",
       "  <th>NAME_INCOME_TYPE_3</th>   <td>-1.1204</td>  <td>0.0580</td>  <td>-19.3138</td> <td>0.0000</td> <td>-1.2341</td> <td>-1.0067</td>\n",
       "</tr>\n",
       "<tr>\n",
       "  <th>NAME_FAMILY_STATUS_1</th> <td>1.2813</td>   <td>0.0801</td>   <td>16.0032</td> <td>0.0000</td> <td>1.1243</td>  <td>1.4382</td> \n",
       "</tr>\n",
       "<tr>\n",
       "  <th>NAME_FAMILY_STATUS_2</th> <td>0.9161</td>   <td>0.0928</td>   <td>9.8724</td>  <td>0.0000</td> <td>0.7343</td>  <td>1.0980</td> \n",
       "</tr>\n",
       "<tr>\n",
       "  <th>NAME_FAMILY_STATUS_3</th> <td>0.1806</td>   <td>0.0696</td>   <td>2.5952</td>  <td>0.0095</td> <td>0.0442</td>  <td>0.3169</td> \n",
       "</tr>\n",
       "<tr>\n",
       "  <th>AGE_1</th>                <td>-0.6964</td>  <td>0.0471</td>  <td>-14.7831</td> <td>0.0000</td> <td>-0.7887</td> <td>-0.6041</td>\n",
       "</tr>\n",
       "<tr>\n",
       "  <th>AGE_2</th>                <td>-0.9768</td>  <td>0.0543</td>  <td>-18.0023</td> <td>0.0000</td> <td>-1.0831</td> <td>-0.8704</td>\n",
       "</tr>\n",
       "<tr>\n",
       "  <th>FLAG_EMAIL_Y</th>         <td>-0.2105</td>  <td>0.0651</td>   <td>-3.2357</td> <td>0.0012</td> <td>-0.3381</td> <td>-0.0830</td>\n",
       "</tr>\n",
       "<tr>\n",
       "  <th>OCCUPATION_TYPE_1</th>    <td>-0.9520</td>  <td>0.0812</td>  <td>-11.7189</td> <td>0.0000</td> <td>-1.1112</td> <td>-0.7928</td>\n",
       "</tr>\n",
       "<tr>\n",
       "  <th>OCCUPATION_TYPE_2</th>    <td>-0.7411</td>  <td>0.0572</td>  <td>-12.9568</td> <td>0.0000</td> <td>-0.8532</td> <td>-0.6290</td>\n",
       "</tr>\n",
       "<tr>\n",
       "  <th>OCCUPATION_TYPE_3</th>    <td>-0.8401</td>  <td>0.0733</td>  <td>-11.4587</td> <td>0.0000</td> <td>-0.9838</td> <td>-0.6964</td>\n",
       "</tr>\n",
       "<tr>\n",
       "  <th>OCCUPATION_TYPE_4</th>    <td>-0.9312</td>  <td>0.0712</td>  <td>-13.0798</td> <td>0.0000</td> <td>-1.0707</td> <td>-0.7916</td>\n",
       "</tr>\n",
       "<tr>\n",
       "  <th>OCCUPATION_TYPE_5</th>    <td>-0.2235</td>  <td>0.0743</td>   <td>-3.0078</td> <td>0.0026</td> <td>-0.3691</td> <td>-0.0778</td>\n",
       "</tr>\n",
       "<tr>\n",
       "  <th>OCCUPATION_TYPE_6</th>    <td>-0.7728</td>  <td>0.0625</td>  <td>-12.3719</td> <td>0.0000</td> <td>-0.8952</td> <td>-0.6504</td>\n",
       "</tr>\n",
       "<tr>\n",
       "  <th>CNT_FAM_MEMBERS_1</th>    <td>-2.2352</td>  <td>0.0943</td>  <td>-23.7129</td> <td>0.0000</td> <td>-2.4200</td> <td>-2.0505</td>\n",
       "</tr>\n",
       "<tr>\n",
       "  <th>CNT_FAM_MEMBERS_2</th>    <td>-1.2753</td>  <td>0.0461</td>  <td>-27.6745</td> <td>0.0000</td> <td>-1.3656</td> <td>-1.1850</td>\n",
       "</tr>\n",
       "<tr>\n",
       "  <th>CNT_FAM_MEMBERS_3</th>    <td>-1.1820</td>  <td>0.0598</td>  <td>-19.7598</td> <td>0.0000</td> <td>-1.2992</td> <td>-1.0648</td>\n",
       "</tr>\n",
       "<tr>\n",
       "  <th>WORK_TIME_1</th>          <td>-7.7078</td>  <td>0.6010</td>  <td>-12.8253</td> <td>0.0000</td> <td>-8.8857</td> <td>-6.5299</td>\n",
       "</tr>\n",
       "<tr>\n",
       "  <th>WORK_TIME_2</th>          <td>-0.2277</td>  <td>0.0426</td>   <td>-5.3493</td> <td>0.0000</td> <td>-0.3112</td> <td>-0.1443</td>\n",
       "</tr>\n",
       "<tr>\n",
       "  <th>WORK_TIME_3</th>          <td>-0.3578</td>  <td>0.0628</td>   <td>-5.6944</td> <td>0.0000</td> <td>-0.4810</td> <td>-0.2347</td>\n",
       "</tr>\n",
       "</table>"
      ],
      "text/plain": [
       "<class 'statsmodels.iolib.summary2.Summary'>\n",
       "\"\"\"\n",
       "                           Results: Logit\n",
       "=====================================================================\n",
       "Model:                Logit             Pseudo R-squared:  -0.019    \n",
       "Dependent Variable:   is_ovd            AIC:               29468.6455\n",
       "Date:                 2020-08-30 11:35  BIC:               29710.1450\n",
       "No. Observations:     173248            Log-Likelihood:    -14710.   \n",
       "Df Model:             23                LL-Null:           -14442.   \n",
       "Df Residuals:         173224            LLR p-value:       1.0000    \n",
       "Converged:            1.0000            Scale:             1.0000    \n",
       "No. Iterations:       8.0000                                         \n",
       "---------------------------------------------------------------------\n",
       "                      Coef.  Std.Err.    z     P>|z|   [0.025  0.975]\n",
       "---------------------------------------------------------------------\n",
       "CODE_GENDER_F        -0.8817   0.0386 -22.8542 0.0000 -0.9574 -0.8061\n",
       "FLAG_OWN_REALTY_Y    -0.5894   0.0355 -16.6182 0.0000 -0.6589 -0.5199\n",
       "AMT_INCOME_TOTAL_2   -0.2680   0.0361  -7.4290 0.0000 -0.3387 -0.1973\n",
       "NAME_INCOME_TYPE_1    6.7925   0.5985  11.3491 0.0000  5.6195  7.9656\n",
       "NAME_INCOME_TYPE_2   -1.0317   0.0477 -21.6497 0.0000 -1.1251 -0.9383\n",
       "NAME_INCOME_TYPE_3   -1.1204   0.0580 -19.3138 0.0000 -1.2341 -1.0067\n",
       "NAME_FAMILY_STATUS_1  1.2813   0.0801  16.0032 0.0000  1.1243  1.4382\n",
       "NAME_FAMILY_STATUS_2  0.9161   0.0928   9.8724 0.0000  0.7343  1.0980\n",
       "NAME_FAMILY_STATUS_3  0.1806   0.0696   2.5952 0.0095  0.0442  0.3169\n",
       "AGE_1                -0.6964   0.0471 -14.7831 0.0000 -0.7887 -0.6041\n",
       "AGE_2                -0.9768   0.0543 -18.0023 0.0000 -1.0831 -0.8704\n",
       "FLAG_EMAIL_Y         -0.2105   0.0651  -3.2357 0.0012 -0.3381 -0.0830\n",
       "OCCUPATION_TYPE_1    -0.9520   0.0812 -11.7189 0.0000 -1.1112 -0.7928\n",
       "OCCUPATION_TYPE_2    -0.7411   0.0572 -12.9568 0.0000 -0.8532 -0.6290\n",
       "OCCUPATION_TYPE_3    -0.8401   0.0733 -11.4587 0.0000 -0.9838 -0.6964\n",
       "OCCUPATION_TYPE_4    -0.9312   0.0712 -13.0798 0.0000 -1.0707 -0.7916\n",
       "OCCUPATION_TYPE_5    -0.2235   0.0743  -3.0078 0.0026 -0.3691 -0.0778\n",
       "OCCUPATION_TYPE_6    -0.7728   0.0625 -12.3719 0.0000 -0.8952 -0.6504\n",
       "CNT_FAM_MEMBERS_1    -2.2352   0.0943 -23.7129 0.0000 -2.4200 -2.0505\n",
       "CNT_FAM_MEMBERS_2    -1.2753   0.0461 -27.6745 0.0000 -1.3656 -1.1850\n",
       "CNT_FAM_MEMBERS_3    -1.1820   0.0598 -19.7598 0.0000 -1.2992 -1.0648\n",
       "WORK_TIME_1          -7.7078   0.6010 -12.8253 0.0000 -8.8857 -6.5299\n",
       "WORK_TIME_2          -0.2277   0.0426  -5.3493 0.0000 -0.3112 -0.1443\n",
       "WORK_TIME_3          -0.3578   0.0628  -5.6944 0.0000 -0.4810 -0.2347\n",
       "=====================================================================\n",
       "\n",
       "\"\"\""
      ]
     },
     "execution_count": 11,
     "metadata": {},
     "output_type": "execute_result"
    }
   ],
   "source": [
    "# 将显著变量（年收入）去掉\n",
    "x = data.loc[:,'CODE_GENDER_F':]\n",
    "x.drop(columns=['AMT_INCOME_TOTAL_1','credit_score'],inplace=True)\n",
    "y = data['is_ovd']\n",
    "# 训练：测试=7:3\n",
    "x_train, x_test, y_train, y_test = train_test_split(x, y, test_size=0.3,random_state=0)\n",
    "lr = sma.Logit(y_train,x_train)\n",
    "result = lr.fit()\n",
    "result.summary2()"
   ]
  },
  {
   "cell_type": "code",
   "execution_count": 12,
   "metadata": {},
   "outputs": [
    {
     "data": {
      "text/plain": [
       "0.9836902356902357"
      ]
     },
     "execution_count": 12,
     "metadata": {},
     "output_type": "execute_result"
    }
   ],
   "source": [
    "test = pd.DataFrame()\n",
    "test['pre1'] = result.predict(x_test)\n",
    "test['pre2'] = test['pre1'].apply(lambda x: round(x))\n",
    "test['is_ovd'] = y_test.values\n",
    "(test['pre2'] == y_test).agg(sum)/len(test) # 预测准确率"
   ]
  },
  {
   "cell_type": "code",
   "execution_count": 13,
   "metadata": {},
   "outputs": [
    {
     "data": {
      "text/plain": [
       "0.9840806243073513"
      ]
     },
     "execution_count": 13,
     "metadata": {},
     "output_type": "execute_result"
    }
   ],
   "source": [
    "train = pd.DataFrame()\n",
    "train['pre1'] = result.predict(x_train)\n",
    "train['pre2'] = train['pre1'].apply(lambda x: round(x))\n",
    "train['is_ovd'] = y_train.values\n",
    "(train['pre2'] == train['is_ovd']).agg(sum)/len(train) # 预测准确率"
   ]
  },
  {
   "cell_type": "markdown",
   "metadata": {},
   "source": [
    "#### 混淆矩阵"
   ]
  },
  {
   "cell_type": "code",
   "execution_count": 14,
   "metadata": {},
   "outputs": [
    {
     "data": {
      "text/html": [
       "<div>\n",
       "<style scoped>\n",
       "    .dataframe tbody tr th:only-of-type {\n",
       "        vertical-align: middle;\n",
       "    }\n",
       "\n",
       "    .dataframe tbody tr th {\n",
       "        vertical-align: top;\n",
       "    }\n",
       "\n",
       "    .dataframe thead th {\n",
       "        text-align: right;\n",
       "    }\n",
       "</style>\n",
       "<table border=\"1\" class=\"dataframe\">\n",
       "  <thead>\n",
       "    <tr style=\"text-align: right;\">\n",
       "      <th></th>\n",
       "      <th></th>\n",
       "      <th>实际为0</th>\n",
       "      <th>实际为1</th>\n",
       "      <th>预测准确率</th>\n",
       "      <th>违约用户预测准确率</th>\n",
       "    </tr>\n",
       "    <tr>\n",
       "      <th>1</th>\n",
       "      <th>2</th>\n",
       "      <th></th>\n",
       "      <th></th>\n",
       "      <th></th>\n",
       "      <th></th>\n",
       "    </tr>\n",
       "  </thead>\n",
       "  <tbody>\n",
       "    <tr>\n",
       "      <td rowspan=\"2\" valign=\"top\">训练集</td>\n",
       "      <td>预测为0</td>\n",
       "      <td>170417.0</td>\n",
       "      <td>2755.0</td>\n",
       "      <td>98.41%</td>\n",
       "      <td>2.58%</td>\n",
       "    </tr>\n",
       "    <tr>\n",
       "      <td>预测为1</td>\n",
       "      <td>3.0</td>\n",
       "      <td>73.0</td>\n",
       "      <td>98.41%</td>\n",
       "      <td>2.58%</td>\n",
       "    </tr>\n",
       "    <tr>\n",
       "      <td rowspan=\"2\" valign=\"top\">测试集</td>\n",
       "      <td>预测为0</td>\n",
       "      <td>73018.0</td>\n",
       "      <td>1210.0</td>\n",
       "      <td>98.37%</td>\n",
       "      <td>1.71%</td>\n",
       "    </tr>\n",
       "    <tr>\n",
       "      <td>预测为1</td>\n",
       "      <td>1.0</td>\n",
       "      <td>21.0</td>\n",
       "      <td>98.37%</td>\n",
       "      <td>1.71%</td>\n",
       "    </tr>\n",
       "  </tbody>\n",
       "</table>\n",
       "</div>"
      ],
      "text/plain": [
       "              实际为0    实际为1   预测准确率 违约用户预测准确率\n",
       "1   2                                       \n",
       "训练集 预测为0  170417.0  2755.0  98.41%     2.58%\n",
       "    预测为1       3.0    73.0  98.41%     2.58%\n",
       "测试集 预测为0   73018.0  1210.0  98.37%     1.71%\n",
       "    预测为1       1.0    21.0  98.37%     1.71%"
      ]
     },
     "execution_count": 14,
     "metadata": {},
     "output_type": "execute_result"
    }
   ],
   "source": [
    "hx = pd.DataFrame()\n",
    "hx['1'] = ['训练集','训练集','测试集','测试集']\n",
    "hx['2'] = ['预测为0','预测为1','预测为0','预测为1']\n",
    "hx.loc[0,'实际为0'] = (train[train['is_ovd']==0]['pre2'] == train[train['is_ovd']==0]['is_ovd']).agg(sum)\n",
    "hx.loc[1,'实际为0'] = len(train[train['is_ovd']==0]) - hx.loc[0,'实际为0']\n",
    "hx.loc[0,'实际为1'] = (train[train['is_ovd']==1]['pre2'] != train[train['is_ovd']==1]['is_ovd']).agg(sum)\n",
    "hx.loc[1,'实际为1'] = (train[train['is_ovd']==1]['pre2'] == train[train['is_ovd']==1]['is_ovd']).agg(sum)\n",
    "\n",
    "hx.loc[2,'实际为0'] = (test[test['is_ovd']==0]['pre2'] == test[test['is_ovd']==0]['is_ovd']).agg(sum)\n",
    "hx.loc[3,'实际为0'] = len(test[test['is_ovd']==0]) - hx.loc[2,'实际为0']\n",
    "hx.loc[2,'实际为1'] = (test[test['is_ovd']==1]['pre2'] != test[test['is_ovd']==1]['is_ovd']).agg(sum)\n",
    "hx.loc[3,'实际为1'] = (test[test['is_ovd']==1]['pre2'] == test[test['is_ovd']==1]['is_ovd']).agg(sum)\n",
    "\n",
    "hx.set_index(['1','2'],inplace=True)\n",
    "\n",
    "hx.loc['训练集','预测准确率'] = format((train['pre2'] == train['is_ovd']).agg(sum)/len(train),'.2%')\n",
    "hx.loc['测试集','预测准确率'] = format((test['pre2'] == test['is_ovd']).agg(sum)/len(test),'.2%')\n",
    "\n",
    "hx.loc['训练集','违约用户预测准确率'] = format(hx['实际为1'][1]/(train.is_ovd==1).agg(sum),'.2%')\n",
    "hx.loc['测试集','违约用户预测准确率'] = format(hx['实际为1'][3]/(test.is_ovd==1).agg(sum),'.2%')\n",
    "hx"
   ]
  },
  {
   "cell_type": "markdown",
   "metadata": {},
   "source": [
    "#### ROC曲线"
   ]
  },
  {
   "cell_type": "code",
   "execution_count": 15,
   "metadata": {},
   "outputs": [
    {
     "data": {
      "text/plain": [
       "Text(0.5, 1.0, 'ROC曲线')"
      ]
     },
     "execution_count": 15,
     "metadata": {},
     "output_type": "execute_result"
    },
    {
     "data": {
      "image/png": "[encoded data removed]",
      "text/plain": [
       "<Figure size 450x450 with 1 Axes>"
      ]
     },
     "metadata": {
      "needs_background": "light"
     },
     "output_type": "display_data"
    }
   ],
   "source": [
    "fpr_test,tpr_test,th_test = metrics.roc_curve(test.is_ovd,test.pre1) # 测试集\n",
    "fpr_train,tpr_train,th_train = metrics.roc_curve(train.is_ovd,train.pre1) # 训练集\n",
    "plt.figure(dpi=150,figsize=(3,3))\n",
    "plt.plot(fpr_test,tpr_test,'b--',label=f'测试集AUC={round(metrics.auc(fpr_test,tpr_test),4)}')\n",
    "plt.plot(fpr_train,tpr_train,'r--',label=f'训练集AUC={round(metrics.auc(fpr_train,tpr_train),4)}')\n",
    "plt.legend();plt.title('ROC曲线')"
   ]
  },
  {
   "cell_type": "markdown",
   "metadata": {},
   "source": [
    "#### 加入信用局评分"
   ]
  },
  {
   "cell_type": "code",
   "execution_count": 16,
   "metadata": {},
   "outputs": [
    {
     "name": "stdout",
     "output_type": "stream",
     "text": [
      "Optimization terminated successfully.\n",
      "         Current function value: 0.079103\n",
      "         Iterations 9\n"
     ]
    },
    {
     "data": {
      "text/html": [
       "<table class=\"simpletable\">\n",
       "<tr>\n",
       "        <td>Model:</td>              <td>Logit</td>      <td>Pseudo R-squared:</td>    <td>0.051</td>   \n",
       "</tr>\n",
       "<tr>\n",
       "  <td>Dependent Variable:</td>      <td>is_ovd</td>            <td>AIC:</td>        <td>27452.8067</td> \n",
       "</tr>\n",
       "<tr>\n",
       "         <td>Date:</td>        <td>2020-08-30 11:35</td>       <td>BIC:</td>        <td>27674.1813</td> \n",
       "</tr>\n",
       "<tr>\n",
       "   <td>No. Observations:</td>       <td>173248</td>       <td>Log-Likelihood:</td>    <td>-13704.</td>  \n",
       "</tr>\n",
       "<tr>\n",
       "       <td>Df Model:</td>             <td>21</td>            <td>LL-Null:</td>        <td>-14442.</td>  \n",
       "</tr>\n",
       "<tr>\n",
       "     <td>Df Residuals:</td>         <td>173226</td>        <td>LLR p-value:</td>    <td>4.6678e-300</td>\n",
       "</tr>\n",
       "<tr>\n",
       "      <td>Converged:</td>           <td>1.0000</td>           <td>Scale:</td>         <td>1.0000</td>   \n",
       "</tr>\n",
       "<tr>\n",
       "    <td>No. Iterations:</td>        <td>9.0000</td>              <td></td>               <td></td>      \n",
       "</tr>\n",
       "</table>\n",
       "<table class=\"simpletable\">\n",
       "<tr>\n",
       "            <td></td>            <th>Coef.</th>  <th>Std.Err.</th>     <th>z</th>     <th>P>|z|</th> <th>[0.025</th>  <th>0.975]</th> \n",
       "</tr>\n",
       "<tr>\n",
       "  <th>CODE_GENDER_F</th>        <td>-0.5576</td>  <td>0.0433</td>  <td>-12.8706</td> <td>0.0000</td> <td>-0.6426</td> <td>-0.4727</td>\n",
       "</tr>\n",
       "<tr>\n",
       "  <th>FLAG_OWN_REALTY_Y</th>    <td>-0.3109</td>  <td>0.0385</td>   <td>-8.0849</td> <td>0.0000</td> <td>-0.3863</td> <td>-0.2355</td>\n",
       "</tr>\n",
       "<tr>\n",
       "  <th>AMT_INCOME_TOTAL_1</th>   <td>0.3925</td>   <td>0.0646</td>   <td>6.0801</td>  <td>0.0000</td> <td>0.2660</td>  <td>0.5190</td> \n",
       "</tr>\n",
       "<tr>\n",
       "  <th>AMT_INCOME_TOTAL_2</th>   <td>0.1256</td>   <td>0.0482</td>   <td>2.6038</td>  <td>0.0092</td> <td>0.0311</td>  <td>0.2202</td> \n",
       "</tr>\n",
       "<tr>\n",
       "  <th>NAME_INCOME_TYPE_1</th>   <td>7.2539</td>   <td>0.6021</td>   <td>12.0482</td> <td>0.0000</td> <td>6.0738</td>  <td>8.4339</td> \n",
       "</tr>\n",
       "<tr>\n",
       "  <th>NAME_INCOME_TYPE_2</th>   <td>-0.3850</td>  <td>0.0592</td>   <td>-6.5012</td> <td>0.0000</td> <td>-0.5011</td> <td>-0.2690</td>\n",
       "</tr>\n",
       "<tr>\n",
       "  <th>NAME_INCOME_TYPE_3</th>   <td>-0.4670</td>  <td>0.0670</td>   <td>-6.9708</td> <td>0.0000</td> <td>-0.5984</td> <td>-0.3357</td>\n",
       "</tr>\n",
       "<tr>\n",
       "  <th>NAME_FAMILY_STATUS_1</th> <td>1.1301</td>   <td>0.0808</td>   <td>13.9848</td> <td>0.0000</td> <td>0.9717</td>  <td>1.2885</td> \n",
       "</tr>\n",
       "<tr>\n",
       "  <th>NAME_FAMILY_STATUS_2</th> <td>0.8504</td>   <td>0.0931</td>   <td>9.1360</td>  <td>0.0000</td> <td>0.6680</td>  <td>1.0328</td> \n",
       "</tr>\n",
       "<tr>\n",
       "  <th>NAME_FAMILY_STATUS_3</th> <td>0.2190</td>   <td>0.0700</td>   <td>3.1285</td>  <td>0.0018</td> <td>0.0818</td>  <td>0.3562</td> \n",
       "</tr>\n",
       "<tr>\n",
       "  <th>AGE_1</th>                <td>-0.3033</td>  <td>0.0484</td>   <td>-6.2725</td> <td>0.0000</td> <td>-0.3981</td> <td>-0.2085</td>\n",
       "</tr>\n",
       "<tr>\n",
       "  <th>AGE_2</th>                <td>-0.5438</td>  <td>0.0562</td>   <td>-9.6847</td> <td>0.0000</td> <td>-0.6539</td> <td>-0.4338</td>\n",
       "</tr>\n",
       "<tr>\n",
       "  <th>OCCUPATION_TYPE_1</th>    <td>-0.2980</td>  <td>0.0840</td>   <td>-3.5483</td> <td>0.0004</td> <td>-0.4626</td> <td>-0.1334</td>\n",
       "</tr>\n",
       "<tr>\n",
       "  <th>OCCUPATION_TYPE_2</th>    <td>-0.2613</td>  <td>0.0585</td>   <td>-4.4699</td> <td>0.0000</td> <td>-0.3759</td> <td>-0.1467</td>\n",
       "</tr>\n",
       "<tr>\n",
       "  <th>OCCUPATION_TYPE_3</th>    <td>-0.1861</td>  <td>0.0751</td>   <td>-2.4780</td> <td>0.0132</td> <td>-0.3333</td> <td>-0.0389</td>\n",
       "</tr>\n",
       "<tr>\n",
       "  <th>OCCUPATION_TYPE_4</th>    <td>-0.3090</td>  <td>0.0726</td>   <td>-4.2562</td> <td>0.0000</td> <td>-0.4512</td> <td>-0.1667</td>\n",
       "</tr>\n",
       "<tr>\n",
       "  <th>OCCUPATION_TYPE_6</th>    <td>-0.2761</td>  <td>0.0636</td>   <td>-4.3394</td> <td>0.0000</td> <td>-0.4008</td> <td>-0.1514</td>\n",
       "</tr>\n",
       "<tr>\n",
       "  <th>CNT_FAM_MEMBERS_1</th>    <td>-1.3453</td>  <td>0.1013</td>  <td>-13.2848</td> <td>0.0000</td> <td>-1.5438</td> <td>-1.1469</td>\n",
       "</tr>\n",
       "<tr>\n",
       "  <th>CNT_FAM_MEMBERS_2</th>    <td>-0.4763</td>  <td>0.0574</td>   <td>-8.2916</td> <td>0.0000</td> <td>-0.5889</td> <td>-0.3637</td>\n",
       "</tr>\n",
       "<tr>\n",
       "  <th>CNT_FAM_MEMBERS_3</th>    <td>-0.5029</td>  <td>0.0685</td>   <td>-7.3439</td> <td>0.0000</td> <td>-0.6371</td> <td>-0.3687</td>\n",
       "</tr>\n",
       "<tr>\n",
       "  <th>WORK_TIME_1</th>          <td>-7.5839</td>  <td>0.6038</td>  <td>-12.5610</td> <td>0.0000</td> <td>-8.7672</td> <td>-6.4005</td>\n",
       "</tr>\n",
       "<tr>\n",
       "  <th>credit_score</th>         <td>-0.0048</td>  <td>0.0001</td>  <td>-42.3022</td> <td>0.0000</td> <td>-0.0050</td> <td>-0.0046</td>\n",
       "</tr>\n",
       "</table>"
      ],
      "text/plain": [
       "<class 'statsmodels.iolib.summary2.Summary'>\n",
       "\"\"\"\n",
       "                           Results: Logit\n",
       "=====================================================================\n",
       "Model:               Logit             Pseudo R-squared:  0.051      \n",
       "Dependent Variable:  is_ovd            AIC:               27452.8067 \n",
       "Date:                2020-08-30 11:35  BIC:               27674.1813 \n",
       "No. Observations:    173248            Log-Likelihood:    -13704.    \n",
       "Df Model:            21                LL-Null:           -14442.    \n",
       "Df Residuals:        173226            LLR p-value:       4.6678e-300\n",
       "Converged:           1.0000            Scale:             1.0000     \n",
       "No. Iterations:      9.0000                                          \n",
       "---------------------------------------------------------------------\n",
       "                      Coef.  Std.Err.    z     P>|z|   [0.025  0.975]\n",
       "---------------------------------------------------------------------\n",
       "CODE_GENDER_F        -0.5576   0.0433 -12.8706 0.0000 -0.6426 -0.4727\n",
       "FLAG_OWN_REALTY_Y    -0.3109   0.0385  -8.0849 0.0000 -0.3863 -0.2355\n",
       "AMT_INCOME_TOTAL_1    0.3925   0.0646   6.0801 0.0000  0.2660  0.5190\n",
       "AMT_INCOME_TOTAL_2    0.1256   0.0482   2.6038 0.0092  0.0311  0.2202\n",
       "NAME_INCOME_TYPE_1    7.2539   0.6021  12.0482 0.0000  6.0738  8.4339\n",
       "NAME_INCOME_TYPE_2   -0.3850   0.0592  -6.5012 0.0000 -0.5011 -0.2690\n",
       "NAME_INCOME_TYPE_3   -0.4670   0.0670  -6.9708 0.0000 -0.5984 -0.3357\n",
       "NAME_FAMILY_STATUS_1  1.1301   0.0808  13.9848 0.0000  0.9717  1.2885\n",
       "NAME_FAMILY_STATUS_2  0.8504   0.0931   9.1360 0.0000  0.6680  1.0328\n",
       "NAME_FAMILY_STATUS_3  0.2190   0.0700   3.1285 0.0018  0.0818  0.3562\n",
       "AGE_1                -0.3033   0.0484  -6.2725 0.0000 -0.3981 -0.2085\n",
       "AGE_2                -0.5438   0.0562  -9.6847 0.0000 -0.6539 -0.4338\n",
       "OCCUPATION_TYPE_1    -0.2980   0.0840  -3.5483 0.0004 -0.4626 -0.1334\n",
       "OCCUPATION_TYPE_2    -0.2613   0.0585  -4.4699 0.0000 -0.3759 -0.1467\n",
       "OCCUPATION_TYPE_3    -0.1861   0.0751  -2.4780 0.0132 -0.3333 -0.0389\n",
       "OCCUPATION_TYPE_4    -0.3090   0.0726  -4.2562 0.0000 -0.4512 -0.1667\n",
       "OCCUPATION_TYPE_6    -0.2761   0.0636  -4.3394 0.0000 -0.4008 -0.1514\n",
       "CNT_FAM_MEMBERS_1    -1.3453   0.1013 -13.2848 0.0000 -1.5438 -1.1469\n",
       "CNT_FAM_MEMBERS_2    -0.4763   0.0574  -8.2916 0.0000 -0.5889 -0.3637\n",
       "CNT_FAM_MEMBERS_3    -0.5029   0.0685  -7.3439 0.0000 -0.6371 -0.3687\n",
       "WORK_TIME_1          -7.5839   0.6038 -12.5610 0.0000 -8.7672 -6.4005\n",
       "credit_score         -0.0048   0.0001 -42.3022 0.0000 -0.0050 -0.0046\n",
       "=====================================================================\n",
       "\n",
       "\"\"\""
      ]
     },
     "execution_count": 16,
     "metadata": {},
     "output_type": "execute_result"
    }
   ],
   "source": [
    "x = data.loc[:,'CODE_GENDER_F':]\n",
    "x.drop(columns=['WORK_TIME_2','OCCUPATION_TYPE_5','FLAG_EMAIL_Y','WORK_TIME_3'],inplace=True)\n",
    "y = data['is_ovd']\n",
    "# 训练：测试=7:3\n",
    "x_train, x_test, y_train, y_test = train_test_split(x, y, test_size=0.3,random_state=0)\n",
    "lr = sma.Logit(y_train,x_train)\n",
    "result = lr.fit()\n",
    "result.summary2()"
   ]
  },
  {
   "cell_type": "code",
   "execution_count": 17,
   "metadata": {},
   "outputs": [
    {
     "data": {
      "text/plain": [
       "Text(0.5, 1.0, 'ROC曲线')"
      ]
     },
     "execution_count": 17,
     "metadata": {},
     "output_type": "execute_result"
    },
    {
     "data": {
      "image/png": "[encoded data removed]",
      "text/plain": [
       "<Figure size 450x450 with 1 Axes>"
      ]
     },
     "metadata": {
      "needs_background": "light"
     },
     "output_type": "display_data"
    }
   ],
   "source": [
    "test = pd.DataFrame()\n",
    "test['pre1'] = result.predict(x_test)\n",
    "test['pre2'] = test['pre1'].apply(lambda x: round(x))\n",
    "test['is_ovd'] = y_test.values\n",
    "train = pd.DataFrame()\n",
    "train['pre1'] = result.predict(x_train)\n",
    "train['pre2'] = train['pre1'].apply(lambda x: round(x))\n",
    "train['is_ovd'] = y_train.values\n",
    "fpr_test,tpr_test,th_test = metrics.roc_curve(test.is_ovd,test.pre1) # 测试集\n",
    "fpr_train,tpr_train,th_train = metrics.roc_curve(train.is_ovd,train.pre1) # 训练集\n",
    "plt.figure(dpi=150,figsize=(3,3))\n",
    "plt.plot(fpr_test,tpr_test,'b--',label=f'测试集AUC={round(metrics.auc(fpr_test,tpr_test),4)}')\n",
    "plt.plot(fpr_train,tpr_train,'r--',label=f'训练集AUC={round(metrics.auc(fpr_train,tpr_train),4)}')\n",
    "plt.legend();plt.title('ROC曲线')"
   ]
  },
  {
   "cell_type": "markdown",
   "metadata": {},
   "source": [
    "# task6代码.ipynb"
   ]
  },
  {
   "cell_type": "code",
   "execution_count": 24,
   "metadata": {
    "scrolled": true
   },
   "outputs": [
    {
     "name": "stdout",
     "output_type": "stream",
     "text": [
      "Optimization terminated successfully.\n",
      "         Current function value: 0.079103\n",
      "         Iterations 9\n"
     ]
    }
   ],
   "source": [
    "x = data.loc[:,'CODE_GENDER_F':]\n",
    "x.drop(columns=['WORK_TIME_2','OCCUPATION_TYPE_5','FLAG_EMAIL_Y','WORK_TIME_3'],inplace=True)\n",
    "y = data['is_ovd']\n",
    "# 训练：测试=7:3\n",
    "x_train, x_test, y_train, y_test = train_test_split(x, y, test_size=0.3,random_state=0)\n",
    "lr = sma.Logit(y_train,x_train)\n",
    "result = lr.fit()"
   ]
  },
  {
   "cell_type": "markdown",
   "metadata": {},
   "source": [
    "#### 将概率转化成分数且为正整数"
   ]
  },
  {
   "cell_type": "code",
   "execution_count": 25,
   "metadata": {},
   "outputs": [],
   "source": [
    "# 评分卡刻度 A、B\n",
    "def cal_scale(score,odds,PDO):\n",
    "    '''\n",
    "    参数：\n",
    "        odds: 设定的坏好比\n",
    "        score: 在这个odds下的分数\n",
    "        PDO： 好坏翻倍比\n",
    "        model: 逻辑回归模型\n",
    "    return：\n",
    "        A,B\n",
    "    '''\n",
    "    B = PDO/np.log(2)\n",
    "    A = score + B*np.log(odds)\n",
    "    # base_score = A+B*model.intercept_[0]\n",
    "    print('B: {:.2f}'.format(B))\n",
    "    print('A: {:.2f}'.format(A))\n",
    "    # print('基础分为：{:.2f}'.format(base_score))\n",
    "    return A,B"
   ]
  },
  {
   "cell_type": "code",
   "execution_count": 26,
   "metadata": {},
   "outputs": [],
   "source": [
    "def Pre2Score(pre,A,B):\n",
    "    y = np.log(pre/(1-pre))\n",
    "    return round(A-B*y)"
   ]
  },
  {
   "cell_type": "code",
   "execution_count": 33,
   "metadata": {},
   "outputs": [
    {
     "name": "stdout",
     "output_type": "stream",
     "text": [
      "B: 36.07\n",
      "A: 616.95\n"
     ]
    }
   ],
   "source": [
    "A,B = cal_scale(725,0.05,25) # 假设基础分为50，odds为5%，PDO为10"
   ]
  },
  {
   "cell_type": "code",
   "execution_count": 34,
   "metadata": {
    "scrolled": false
   },
   "outputs": [
    {
     "data": {
      "text/plain": [
       "Text(0, 0.5, '频数')"
      ]
     },
     "execution_count": 34,
     "metadata": {},
     "output_type": "execute_result"
    },
    {
     "data": {
      "image/png": "[encoded data removed]",
      "text/plain": [
       "<Figure size 600x405 with 1 Axes>"
      ]
     },
     "metadata": {
      "needs_background": "light"
     },
     "output_type": "display_data"
    }
   ],
   "source": [
    "all_cust = pd.DataFrame({'pre':result.predict(x),'is_ovd':y})\n",
    "all_cust['score'] = all_cust['pre'].map(lambda x:Pre2Score(x,A,B))\n",
    "# 直方图\n",
    "plt.figure(dpi=150,figsize=(4,2.7))\n",
    "plt.hist(all_cust['score'].values,edgecolor='w',bins=30)\n",
    "plt.title('群体分数分布直方图');plt.xlabel('分数');plt.ylabel('频数')"
   ]
  },
  {
   "cell_type": "code",
   "execution_count": 35,
   "metadata": {
    "collapsed": true
   },
   "outputs": [
    {
     "data": {
      "text/plain": [
       "count    247498.000000\n",
       "mean        775.650599\n",
       "std          30.020984\n",
       "min         410.000000\n",
       "25%         756.000000\n",
       "50%         776.000000\n",
       "75%         796.000000\n",
       "max         879.000000\n",
       "Name: score, dtype: float64"
      ]
     },
     "execution_count": 35,
     "metadata": {},
     "output_type": "execute_result"
    }
   ],
   "source": [
    "all_cust['score'].describe()"
   ]
  },
  {
   "cell_type": "code",
   "execution_count": 36,
   "metadata": {
    "collapsed": true
   },
   "outputs": [
    {
     "data": {
      "text/plain": [
       "count    173248.000000\n",
       "mean        775.636763\n",
       "std          30.062297\n",
       "min         428.000000\n",
       "25%         756.000000\n",
       "50%         776.000000\n",
       "75%         796.000000\n",
       "max         879.000000\n",
       "Name: score, dtype: float64"
      ]
     },
     "execution_count": 36,
     "metadata": {},
     "output_type": "execute_result"
    }
   ],
   "source": [
    "train = pd.DataFrame({'pre':result.predict(x_train),'is_ovd':y_train})\n",
    "train['score'] = train['pre'].map(lambda x:Pre2Score(x,A,B))\n",
    "train['score'].describe()"
   ]
  },
  {
   "cell_type": "code",
   "execution_count": 37,
   "metadata": {
    "collapsed": true
   },
   "outputs": [
    {
     "data": {
      "text/plain": [
       "count    74250.000000\n",
       "mean       775.682882\n",
       "std         29.924545\n",
       "min        410.000000\n",
       "25%        756.000000\n",
       "50%        776.000000\n",
       "75%        796.000000\n",
       "max        875.000000\n",
       "Name: score, dtype: float64"
      ]
     },
     "execution_count": 37,
     "metadata": {},
     "output_type": "execute_result"
    }
   ],
   "source": [
    "test = pd.DataFrame({'pre':result.predict(x_test),'is_ovd':y_test})\n",
    "test['score'] = test['pre'].map(lambda x:Pre2Score(x,A,B))\n",
    "test['score'].describe()"
   ]
  },
  {
   "cell_type": "markdown",
   "metadata": {},
   "source": [
    "#### 模型分数稳定性监控表"
   ]
  },
  {
   "cell_type": "code",
   "execution_count": 43,
   "metadata": {},
   "outputs": [
    {
     "data": {
      "text/html": [
       "<div>\n",
       "<style scoped>\n",
       "    .dataframe tbody tr th:only-of-type {\n",
       "        vertical-align: middle;\n",
       "    }\n",
       "\n",
       "    .dataframe tbody tr th {\n",
       "        vertical-align: top;\n",
       "    }\n",
       "\n",
       "    .dataframe thead th {\n",
       "        text-align: right;\n",
       "    }\n",
       "</style>\n",
       "<table border=\"1\" class=\"dataframe\">\n",
       "  <thead>\n",
       "    <tr style=\"text-align: right;\">\n",
       "      <th></th>\n",
       "      <th>建模样本数</th>\n",
       "      <th>百分比1</th>\n",
       "      <th>评分样本数</th>\n",
       "      <th>百分比2</th>\n",
       "      <th>ln(百分比比例)</th>\n",
       "      <th>百分比变化</th>\n",
       "      <th>IV值</th>\n",
       "    </tr>\n",
       "    <tr>\n",
       "      <th>分数</th>\n",
       "      <th></th>\n",
       "      <th></th>\n",
       "      <th></th>\n",
       "      <th></th>\n",
       "      <th></th>\n",
       "      <th></th>\n",
       "      <th></th>\n",
       "    </tr>\n",
       "  </thead>\n",
       "  <tbody>\n",
       "    <tr>\n",
       "      <td>400-600</td>\n",
       "      <td>76</td>\n",
       "      <td>0.04%</td>\n",
       "      <td>22</td>\n",
       "      <td>0.03%</td>\n",
       "      <td>-0.392</td>\n",
       "      <td>-0.01%</td>\n",
       "      <td>5.5871e-05</td>\n",
       "    </tr>\n",
       "    <tr>\n",
       "      <td>600-700</td>\n",
       "      <td>788</td>\n",
       "      <td>0.45%</td>\n",
       "      <td>333</td>\n",
       "      <td>0.45%</td>\n",
       "      <td>-0.014</td>\n",
       "      <td>-0.01%</td>\n",
       "      <td>8.94027e-07</td>\n",
       "    </tr>\n",
       "    <tr>\n",
       "      <td>700-800</td>\n",
       "      <td>135227</td>\n",
       "      <td>78.05%</td>\n",
       "      <td>58087</td>\n",
       "      <td>78.23%</td>\n",
       "      <td>0.002</td>\n",
       "      <td>0.18%</td>\n",
       "      <td>4.03853e-06</td>\n",
       "    </tr>\n",
       "    <tr>\n",
       "      <td>800-900</td>\n",
       "      <td>37157</td>\n",
       "      <td>21.45%</td>\n",
       "      <td>15808</td>\n",
       "      <td>21.29%</td>\n",
       "      <td>-0.007</td>\n",
       "      <td>-0.16%</td>\n",
       "      <td>1.1543e-05</td>\n",
       "    </tr>\n",
       "    <tr>\n",
       "      <td>合计</td>\n",
       "      <td>173248</td>\n",
       "      <td>100.00%</td>\n",
       "      <td>74250</td>\n",
       "      <td>100.00%</td>\n",
       "      <td>-0.412</td>\n",
       "      <td>-0.00%</td>\n",
       "      <td>6.15761e-18</td>\n",
       "    </tr>\n",
       "  </tbody>\n",
       "</table>\n",
       "</div>"
      ],
      "text/plain": [
       "          建模样本数     百分比1  评分样本数     百分比2  ln(百分比比例)   百分比变化          IV值\n",
       "分数                                                                      \n",
       "400-600      76    0.04%     22    0.03%     -0.392  -0.01%   5.5871e-05\n",
       "600-700     788    0.45%    333    0.45%     -0.014  -0.01%  8.94027e-07\n",
       "700-800  135227   78.05%  58087   78.23%      0.002   0.18%  4.03853e-06\n",
       "800-900   37157   21.45%  15808   21.29%     -0.007  -0.16%   1.1543e-05\n",
       "合计       173248  100.00%  74250  100.00%     -0.412  -0.00%  6.15761e-18"
      ]
     },
     "execution_count": 43,
     "metadata": {},
     "output_type": "execute_result"
    }
   ],
   "source": [
    "model = pd.DataFrame(columns = ['分数','建模样本数','百分比1','评分样本数','百分比2','ln(百分比比例)','百分比变化','IV值'])\n",
    "\n",
    "for i in [[400,600],[600,700],[700,800],[800,900]]: # [400,500],[500,600]\n",
    "    model = model.append([{'建模样本数':train['score'].isin(range(i[0],i[1])).agg(sum),'评分样本数':test['score'].isin(range(i[0],i[1])).agg(sum)}])\n",
    "\n",
    "model['分数'] = ['400-600','600-700','700-800','800-900'] # '400-500','500-600'\n",
    "model['百分比1'] = model['建模样本数']/len(train)\n",
    "model['百分比2'] = model['评分样本数']/len(test)\n",
    "model['ln(百分比比例)'] = (model['百分比2']/model['百分比1']).apply(lambda x: np.log(x))\n",
    "model['百分比变化'] = (model['百分比2'] - model['百分比1'])\n",
    "model.set_index('分数',inplace=True)\n",
    "model.loc['合计'] = model.agg(sum)\n",
    "# 格式化\n",
    "model['IV值'] = (model['百分比变化'] * model['ln(百分比比例)'])\n",
    "model['百分比1'] = model['百分比1'].apply(lambda x: format(x,'.2%'))\n",
    "model['百分比2'] = model['百分比2'].apply(lambda x: format(x,'.2%'))\n",
    "model['ln(百分比比例)'] = model['ln(百分比比例)'].apply(lambda x: round(x,3))\n",
    "model['百分比变化'] = model['百分比变化'].apply(lambda x: format(x,'.2%'))\n",
    "model"
   ]
  },
  {
   "cell_type": "markdown",
   "metadata": {},
   "source": [
    "#### 模型预测能力监控报表"
   ]
  },
  {
   "cell_type": "code",
   "execution_count": 44,
   "metadata": {},
   "outputs": [
    {
     "data": {
      "text/html": [
       "<div>\n",
       "<style scoped>\n",
       "    .dataframe tbody tr th:only-of-type {\n",
       "        vertical-align: middle;\n",
       "    }\n",
       "\n",
       "    .dataframe tbody tr th {\n",
       "        vertical-align: top;\n",
       "    }\n",
       "\n",
       "    .dataframe thead th {\n",
       "        text-align: right;\n",
       "    }\n",
       "</style>\n",
       "<table border=\"1\" class=\"dataframe\">\n",
       "  <thead>\n",
       "    <tr style=\"text-align: right;\">\n",
       "      <th></th>\n",
       "      <th>最高分</th>\n",
       "      <th>最低分</th>\n",
       "      <th>建模样本坏客户率</th>\n",
       "      <th>评分样本坏客户率</th>\n",
       "    </tr>\n",
       "    <tr>\n",
       "      <th>细分单元</th>\n",
       "      <th></th>\n",
       "      <th></th>\n",
       "      <th></th>\n",
       "      <th></th>\n",
       "    </tr>\n",
       "  </thead>\n",
       "  <tbody>\n",
       "    <tr>\n",
       "      <td>1</td>\n",
       "      <td>565.0</td>\n",
       "      <td>410.0</td>\n",
       "      <td>96.05%</td>\n",
       "      <td>95.45%</td>\n",
       "    </tr>\n",
       "    <tr>\n",
       "      <td>2</td>\n",
       "      <td>699.0</td>\n",
       "      <td>648.0</td>\n",
       "      <td>9.90%</td>\n",
       "      <td>9.61%</td>\n",
       "    </tr>\n",
       "    <tr>\n",
       "      <td>3</td>\n",
       "      <td>799.0</td>\n",
       "      <td>700.0</td>\n",
       "      <td>1.81%</td>\n",
       "      <td>1.83%</td>\n",
       "    </tr>\n",
       "    <tr>\n",
       "      <td>4</td>\n",
       "      <td>879.0</td>\n",
       "      <td>800.0</td>\n",
       "      <td>0.63%</td>\n",
       "      <td>0.74%</td>\n",
       "    </tr>\n",
       "  </tbody>\n",
       "</table>\n",
       "</div>"
      ],
      "text/plain": [
       "        最高分    最低分 建模样本坏客户率 评分样本坏客户率\n",
       "细分单元                                \n",
       "1     565.0  410.0   96.05%   95.45%\n",
       "2     699.0  648.0    9.90%    9.61%\n",
       "3     799.0  700.0    1.81%    1.83%\n",
       "4     879.0  800.0    0.63%    0.74%"
      ]
     },
     "execution_count": 44,
     "metadata": {},
     "output_type": "execute_result"
    }
   ],
   "source": [
    "model2 = pd.DataFrame(columns=['细分单元','最高分','最低分','建模样本坏客户率','评分样本坏客户率'])\n",
    "\n",
    "for i in [[400,600],[600,700],[700,800],[800,900]]: # [400,500],[500,600]\n",
    "    a = train[train['score'].isin(range(i[0],i[1]))]\n",
    "    b = test[test['score'].isin(range(i[0],i[1]))]\n",
    "    model2 = model2.append([{'最高分':max(max(a['score']),max(b['score'])), '最低分':min(min(a['score']),min(b['score'])),\n",
    "                            '建模样本坏客户率':format(a[a.is_ovd == 1]['score'].count()/len(a),'.2%'),\n",
    "                            '评分样本坏客户率':format(b[b.is_ovd == 1]['score'].count()/len(b),'.2%')}])\n",
    "model2['细分单元'] = range(1,len(model))\n",
    "model2.set_index('细分单元')"
   ]
  },
  {
   "cell_type": "markdown",
   "metadata": {},
   "source": [
    "#### 模型变量预测能力监控表"
   ]
  },
  {
   "cell_type": "code",
   "execution_count": 46,
   "metadata": {
    "scrolled": true
   },
   "outputs": [],
   "source": [
    "writer = pd.ExcelWriter('../task6/模型变量预测能力监控报表.xlsx'); row = 0\n",
    "for i in [['CODE_GENDER','性别'],['FLAG_OWN_REALTY','是否有房产'],['NAME_INCOME_TYPE','收入类型'],['NAME_FAMILY_STATUS','婚姻状况'],['OCCUPATION_TYPE','职业'],\n",
    "          ['AMT_INCOME_TOTAL','年收入'],['AGE','年龄'],['CNT_FAM_MEMBERS','家庭人数'],['WORK_TIME','工作年限']]:\n",
    "    a  = pd.Series(x.columns); a[a.str.contains(i[0])]\n",
    "    df = pd.DataFrame(columns=[i[1],'建模样本数','建模坏客户数','建模坏客户率','评分样本数','评分坏客户数','评分坏客户率'])\n",
    "    a  = pd.Series(x.columns); b = a[a.str.contains(i[0])]\n",
    "    df = pd.DataFrame(columns=[i[1],'建模样本数','建模坏客户数','评分样本数','评分坏客户数'])\n",
    "    \n",
    "    for j in b:\n",
    "        df = df.append([{'建模样本数':(x_train[j]==1).agg(sum), '建模坏客户数':y_train[x_train[j]==1].agg(sum), \n",
    "                         '评分样本数':(x_test[j]==1).agg(sum), '评分坏客户数':y_test[x_test[j]==1].agg(sum)}])\n",
    "        \n",
    "    df[i[1]] = b.values;df.set_index(i[1],inplace=True); \n",
    "    df.loc['其他'] = np.array([len(x_train),y_train.agg(sum),len(x_test),y_test.agg(sum)]) - np.array(df.apply(lambda x:sum(x)))\n",
    "    df.loc['合计'] = df.apply(lambda x:sum(x))\n",
    "    df.insert(2,'建模坏客户率',(df['建模坏客户数']/df['建模样本数']).apply(lambda x:format(x,'.2%')))\n",
    "    df['评分坏客户率'] = (df['评分坏客户数']/df['评分样本数']).apply(lambda x:format(x,'.2%'))\n",
    "    # df.columns=['建模样本数','建模坏客户数','建模坏客户率','评分样本数','评分坏客户数','评分坏客户率']\n",
    "    df.to_excel(writer,startrow=row)\n",
    "    row = row + len(df) + 2\n",
    "writer.save()"
   ]
  },
  {
   "cell_type": "code",
   "execution_count": null,
   "metadata": {},
   "outputs": [],
   "source": []
  }
 ],
 "metadata": {
  "kernelspec": {
   "display_name": "Python 3",
   "language": "python",
   "name": "python3"
  },
  "language_info": {
   "codemirror_mode": {
    "name": "ipython",
    "version": 3
   },
   "file_extension": ".py",
   "mimetype": "text/x-python",
   "name": "python",
   "nbconvert_exporter": "python",
   "pygments_lexer": "ipython3",
   "version": "3.7.4"
  }
 },
 "nbformat": 4,
 "nbformat_minor": 2
}
