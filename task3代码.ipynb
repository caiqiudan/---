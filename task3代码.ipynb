{
 "cells": [
  {
   "cell_type": "code",
   "execution_count": 1,
   "metadata": {},
   "outputs": [],
   "source": [
    "import pandas as pd\n",
    "import numpy as np\n",
    "import  matplotlib.pyplot as plt\n",
    "%matplotlib inline\n",
    "plt.rcParams['font.sans-serif'] = ['SimHei'] # 指定默认字体\n",
    "plt.rcParams['axes.unicode_minus'] = False # 解决保存图像时负号‘-’显示为方块的问题"
   ]
  },
  {
   "cell_type": "code",
   "execution_count": 2,
   "metadata": {},
   "outputs": [],
   "source": [
    "app = pd.read_csv(r'..\\数据\\application_record.csv')\n",
    "cre1 = pd.read_csv(r'..\\数据\\credit_record.csv')"
   ]
  },
  {
   "cell_type": "code",
   "execution_count": 26,
   "metadata": {},
   "outputs": [],
   "source": [
    "cre = cre1"
   ]
  },
  {
   "cell_type": "code",
   "execution_count": 27,
   "metadata": {},
   "outputs": [
    {
     "data": {
      "text/plain": [
       "629487"
      ]
     },
     "execution_count": 27,
     "metadata": {},
     "output_type": "execute_result"
    }
   ],
   "source": [
    "cre.drop_duplicates(subset='ID')['ID'].count()"
   ]
  },
  {
   "cell_type": "code",
   "execution_count": 28,
   "metadata": {},
   "outputs": [],
   "source": [
    "# 去掉孩子数>=家人\n",
    "app = app[app['CNT_CHILDREN']<app['CNT_FAM_MEMBERS']]"
   ]
  },
  {
   "cell_type": "markdown",
   "metadata": {},
   "source": [
    "#### 去掉没有申请信息的"
   ]
  },
  {
   "cell_type": "code",
   "execution_count": 32,
   "metadata": {},
   "outputs": [
    {
     "data": {
      "text/plain": [
       "204305"
      ]
     },
     "execution_count": 32,
     "metadata": {},
     "output_type": "execute_result"
    }
   ],
   "source": [
    "cre = cre[cre['ID'].isin(app['ID'])]\n",
    "629487 - cre.drop_duplicates(subset='ID')['ID'].count() # 去掉了204305个样本"
   ]
  },
  {
   "cell_type": "code",
   "execution_count": 33,
   "metadata": {},
   "outputs": [
    {
     "data": {
      "text/plain": [
       "425182"
      ]
     },
     "execution_count": 33,
     "metadata": {},
     "output_type": "execute_result"
    }
   ],
   "source": [
    "cre.drop_duplicates(subset='ID')['ID'].count() # 还剩425182个样本"
   ]
  },
  {
   "cell_type": "markdown",
   "metadata": {},
   "source": [
    "#### 去掉信息不合理的--最早记录月份为1,2,3,4,5"
   ]
  },
  {
   "cell_type": "code",
   "execution_count": 34,
   "metadata": {},
   "outputs": [
    {
     "data": {
      "text/html": [
       "<div>\n",
       "<style scoped>\n",
       "    .dataframe tbody tr th:only-of-type {\n",
       "        vertical-align: middle;\n",
       "    }\n",
       "\n",
       "    .dataframe tbody tr th {\n",
       "        vertical-align: top;\n",
       "    }\n",
       "\n",
       "    .dataframe thead th {\n",
       "        text-align: right;\n",
       "    }\n",
       "</style>\n",
       "<table border=\"1\" class=\"dataframe\">\n",
       "  <thead>\n",
       "    <tr style=\"text-align: right;\">\n",
       "      <th></th>\n",
       "      <th>STATUS</th>\n",
       "    </tr>\n",
       "  </thead>\n",
       "  <tbody>\n",
       "    <tr>\n",
       "      <td>0</td>\n",
       "      <td>246411</td>\n",
       "    </tr>\n",
       "    <tr>\n",
       "      <td>X</td>\n",
       "      <td>174195</td>\n",
       "    </tr>\n",
       "    <tr>\n",
       "      <td>C</td>\n",
       "      <td>4408</td>\n",
       "    </tr>\n",
       "    <tr>\n",
       "      <td>1</td>\n",
       "      <td>128</td>\n",
       "    </tr>\n",
       "    <tr>\n",
       "      <td>4</td>\n",
       "      <td>21</td>\n",
       "    </tr>\n",
       "    <tr>\n",
       "      <td>5</td>\n",
       "      <td>19</td>\n",
       "    </tr>\n",
       "  </tbody>\n",
       "</table>\n",
       "</div>"
      ],
      "text/plain": [
       "   STATUS\n",
       "0  246411\n",
       "X  174195\n",
       "C    4408\n",
       "1     128\n",
       "4      21\n",
       "5      19"
      ]
     },
     "execution_count": 34,
     "metadata": {},
     "output_type": "execute_result"
    }
   ],
   "source": [
    "pd.DataFrame(cre.drop_duplicates('ID',keep='last')['STATUS'].value_counts())"
   ]
  },
  {
   "cell_type": "code",
   "execution_count": 16,
   "metadata": {},
   "outputs": [
    {
     "data": {
      "text/plain": [
       "425014"
      ]
     },
     "execution_count": 16,
     "metadata": {},
     "output_type": "execute_result"
    }
   ],
   "source": [
    "last = cre.drop_duplicates('ID',keep='last') # last-每个ID的最早开户月信息\n",
    "id1 = last[last['STATUS'].isin(['X','C','0'])]['ID']\n",
    "cre = cre[cre['ID'].isin(id1)]\n",
    "cre.drop_duplicates(subset='ID')['ID'].count() # 还剩425014个样本"
   ]
  },
  {
   "cell_type": "code",
   "execution_count": 17,
   "metadata": {},
   "outputs": [
    {
     "data": {
      "text/plain": [
       "168"
      ]
     },
     "execution_count": 17,
     "metadata": {},
     "output_type": "execute_result"
    }
   ],
   "source": [
    "425182 - 425014 # 去掉了168个样本"
   ]
  },
  {
   "cell_type": "markdown",
   "metadata": {},
   "source": [
    "#### 去掉最早记录信息为60个月前的"
   ]
  },
  {
   "cell_type": "code",
   "execution_count": 25,
   "metadata": {},
   "outputs": [
    {
     "data": {
      "text/html": [
       "<div>\n",
       "<style scoped>\n",
       "    .dataframe tbody tr th:only-of-type {\n",
       "        vertical-align: middle;\n",
       "    }\n",
       "\n",
       "    .dataframe tbody tr th {\n",
       "        vertical-align: top;\n",
       "    }\n",
       "\n",
       "    .dataframe thead th {\n",
       "        text-align: right;\n",
       "    }\n",
       "</style>\n",
       "<table border=\"1\" class=\"dataframe\">\n",
       "  <thead>\n",
       "    <tr style=\"text-align: right;\">\n",
       "      <th></th>\n",
       "      <th>MONTHS_BALANCE</th>\n",
       "    </tr>\n",
       "  </thead>\n",
       "  <tbody>\n",
       "    <tr>\n",
       "      <td>-60</td>\n",
       "      <td>3506</td>\n",
       "    </tr>\n",
       "    <tr>\n",
       "      <td>-59</td>\n",
       "      <td>3598</td>\n",
       "    </tr>\n",
       "    <tr>\n",
       "      <td>-58</td>\n",
       "      <td>3791</td>\n",
       "    </tr>\n",
       "    <tr>\n",
       "      <td>-57</td>\n",
       "      <td>3963</td>\n",
       "    </tr>\n",
       "    <tr>\n",
       "      <td>-56</td>\n",
       "      <td>4299</td>\n",
       "    </tr>\n",
       "    <tr>\n",
       "      <td>...</td>\n",
       "      <td>...</td>\n",
       "    </tr>\n",
       "    <tr>\n",
       "      <td>-4</td>\n",
       "      <td>9124</td>\n",
       "    </tr>\n",
       "    <tr>\n",
       "      <td>-3</td>\n",
       "      <td>8531</td>\n",
       "    </tr>\n",
       "    <tr>\n",
       "      <td>-2</td>\n",
       "      <td>6849</td>\n",
       "    </tr>\n",
       "    <tr>\n",
       "      <td>-1</td>\n",
       "      <td>6036</td>\n",
       "    </tr>\n",
       "    <tr>\n",
       "      <td>0</td>\n",
       "      <td>3591</td>\n",
       "    </tr>\n",
       "  </tbody>\n",
       "</table>\n",
       "<p>61 rows × 1 columns</p>\n",
       "</div>"
      ],
      "text/plain": [
       "     MONTHS_BALANCE\n",
       "-60            3506\n",
       "-59            3598\n",
       "-58            3791\n",
       "-57            3963\n",
       "-56            4299\n",
       "..              ...\n",
       "-4             9124\n",
       "-3             8531\n",
       "-2             6849\n",
       "-1             6036\n",
       " 0             3591\n",
       "\n",
       "[61 rows x 1 columns]"
      ]
     },
     "execution_count": 25,
     "metadata": {},
     "output_type": "execute_result"
    }
   ],
   "source": [
    "pd.DataFrame(cre.drop_duplicates('ID',keep='last')['MONTHS_BALANCE'].value_counts().sort_index())"
   ]
  },
  {
   "cell_type": "code",
   "execution_count": 10,
   "metadata": {},
   "outputs": [
    {
     "data": {
      "text/plain": [
       "421508"
      ]
     },
     "execution_count": 10,
     "metadata": {},
     "output_type": "execute_result"
    }
   ],
   "source": [
    "id2 = last[last['MONTHS_BALANCE'] != -60]['ID']\n",
    "cre = cre[cre['ID'].isin(id2)]\n",
    "cre.drop_duplicates(subset='ID')['ID'].count() # 421508个样本"
   ]
  },
  {
   "cell_type": "code",
   "execution_count": 11,
   "metadata": {},
   "outputs": [
    {
     "data": {
      "text/plain": [
       "3506"
      ]
     },
     "execution_count": 11,
     "metadata": {},
     "output_type": "execute_result"
    }
   ],
   "source": [
    "425014 - 421508 # 去掉了3506个"
   ]
  },
  {
   "cell_type": "markdown",
   "metadata": {},
   "source": [
    "#### vintage表生成"
   ]
  },
  {
   "cell_type": "code",
   "execution_count": 49,
   "metadata": {},
   "outputs": [],
   "source": [
    "def vintage_fun():\n",
    "    pass"
   ]
  },
  {
   "cell_type": "markdown",
   "metadata": {},
   "source": [
    "#### vintage图生成"
   ]
  },
  {
   "cell_type": "code",
   "execution_count": 50,
   "metadata": {},
   "outputs": [],
   "source": [
    "pass"
   ]
  },
  {
   "cell_type": "markdown",
   "metadata": {},
   "source": [
    "#### 去除账龄小于表现期（20个月）"
   ]
  },
  {
   "cell_type": "code",
   "execution_count": 51,
   "metadata": {},
   "outputs": [
    {
     "data": {
      "text/plain": [
       "247498"
      ]
     },
     "execution_count": 51,
     "metadata": {},
     "output_type": "execute_result"
    }
   ],
   "source": [
    "last = cre.drop_duplicates('ID',keep='last')\n",
    "id3 = last[last.MONTHS_BALANCE <= -20]['ID']\n",
    "cre = cre[cre['ID'].isin(id3)]\n",
    "cre.drop_duplicates(subset='ID')['ID'].count() # 还剩247498个样本"
   ]
  },
  {
   "cell_type": "code",
   "execution_count": 52,
   "metadata": {},
   "outputs": [
    {
     "data": {
      "text/plain": [
       "174010"
      ]
     },
     "execution_count": 52,
     "metadata": {},
     "output_type": "execute_result"
    }
   ],
   "source": [
    "421508 - 247498 # 去掉了174010个"
   ]
  },
  {
   "cell_type": "markdown",
   "metadata": {},
   "source": [
    "#### 不同累计逾期的坏用户样本数"
   ]
  },
  {
   "cell_type": "code",
   "execution_count": 53,
   "metadata": {},
   "outputs": [
    {
     "data": {
      "text/html": [
       "<div>\n",
       "<style scoped>\n",
       "    .dataframe tbody tr th:only-of-type {\n",
       "        vertical-align: middle;\n",
       "    }\n",
       "\n",
       "    .dataframe tbody tr th {\n",
       "        vertical-align: top;\n",
       "    }\n",
       "\n",
       "    .dataframe thead th {\n",
       "        text-align: right;\n",
       "    }\n",
       "</style>\n",
       "<table border=\"1\" class=\"dataframe\">\n",
       "  <thead>\n",
       "    <tr style=\"text-align: right;\">\n",
       "      <th></th>\n",
       "      <th>Y</th>\n",
       "      <th>样本数</th>\n",
       "      <th>总样本数</th>\n",
       "      <th>样本占比</th>\n",
       "    </tr>\n",
       "    <tr>\n",
       "      <th>逾期情况</th>\n",
       "      <th></th>\n",
       "      <th></th>\n",
       "      <th></th>\n",
       "      <th></th>\n",
       "    </tr>\n",
       "  </thead>\n",
       "  <tbody>\n",
       "    <tr>\n",
       "      <td>&gt;1</td>\n",
       "      <td>目标Y=1</td>\n",
       "      <td>216048.0</td>\n",
       "      <td>247498</td>\n",
       "      <td>87.29%</td>\n",
       "    </tr>\n",
       "    <tr>\n",
       "      <td>&gt;1</td>\n",
       "      <td>非目标Y=0</td>\n",
       "      <td>31450.0</td>\n",
       "      <td>247498</td>\n",
       "      <td>12.71%</td>\n",
       "    </tr>\n",
       "    <tr>\n",
       "      <td>&gt;30</td>\n",
       "      <td>目标Y=1</td>\n",
       "      <td>30566.0</td>\n",
       "      <td>247498</td>\n",
       "      <td>12.35%</td>\n",
       "    </tr>\n",
       "    <tr>\n",
       "      <td>&gt;30</td>\n",
       "      <td>非目标Y=0</td>\n",
       "      <td>216932.0</td>\n",
       "      <td>247498</td>\n",
       "      <td>87.65%</td>\n",
       "    </tr>\n",
       "    <tr>\n",
       "      <td>&gt;60</td>\n",
       "      <td>目标Y=1</td>\n",
       "      <td>4059.0</td>\n",
       "      <td>247498</td>\n",
       "      <td>1.64%</td>\n",
       "    </tr>\n",
       "    <tr>\n",
       "      <td>&gt;60</td>\n",
       "      <td>非目标Y=0</td>\n",
       "      <td>243439.0</td>\n",
       "      <td>247498</td>\n",
       "      <td>98.36%</td>\n",
       "    </tr>\n",
       "    <tr>\n",
       "      <td>&gt;90</td>\n",
       "      <td>目标Y=1</td>\n",
       "      <td>1773.0</td>\n",
       "      <td>247498</td>\n",
       "      <td>0.72%</td>\n",
       "    </tr>\n",
       "    <tr>\n",
       "      <td>&gt;90</td>\n",
       "      <td>非目标Y=0</td>\n",
       "      <td>245725.0</td>\n",
       "      <td>247498</td>\n",
       "      <td>99.28%</td>\n",
       "    </tr>\n",
       "    <tr>\n",
       "      <td>&gt;120</td>\n",
       "      <td>目标Y=1</td>\n",
       "      <td>1278.0</td>\n",
       "      <td>247498</td>\n",
       "      <td>0.52%</td>\n",
       "    </tr>\n",
       "    <tr>\n",
       "      <td>&gt;120</td>\n",
       "      <td>非目标Y=0</td>\n",
       "      <td>246220.0</td>\n",
       "      <td>247498</td>\n",
       "      <td>99.48%</td>\n",
       "    </tr>\n",
       "  </tbody>\n",
       "</table>\n",
       "</div>"
      ],
      "text/plain": [
       "           Y       样本数    总样本数    样本占比\n",
       "逾期情况                                  \n",
       ">1     目标Y=1  216048.0  247498  87.29%\n",
       ">1    非目标Y=0   31450.0  247498  12.71%\n",
       ">30    目标Y=1   30566.0  247498  12.35%\n",
       ">30   非目标Y=0  216932.0  247498  87.65%\n",
       ">60    目标Y=1    4059.0  247498   1.64%\n",
       ">60   非目标Y=0  243439.0  247498  98.36%\n",
       ">90    目标Y=1    1773.0  247498   0.72%\n",
       ">90   非目标Y=0  245725.0  247498  99.28%\n",
       ">120   目标Y=1    1278.0  247498   0.52%\n",
       ">120  非目标Y=0  246220.0  247498  99.48%"
      ]
     },
     "execution_count": 53,
     "metadata": {},
     "output_type": "execute_result"
    }
   ],
   "source": [
    "bad = pd.DataFrame({'逾期情况':['>1','>1','>30','>30','>60','>60','>90','>90','>120','>120'],\n",
    "                    'Y':['目标Y=1','非目标Y=0','目标Y=1','非目标Y=0','目标Y=1','非目标Y=0','目标Y=1','非目标Y=0','目标Y=1','非目标Y=0',]})\n",
    "\n",
    "n = 0\n",
    "for i in ['0','1','2','3','4']:\n",
    "    # 在表现期达到逾期的用户个数\n",
    "    df1 = cre[cre['STATUS']==i].drop_duplicates('ID',keep='last') # 最早变坏的月份\n",
    "    df2 = cre.drop_duplicates('ID',keep='last').loc[:,['ID','MONTHS_BALANCE']]\n",
    "    df3 = pd.merge(df1,df2,on='ID',how='left')\n",
    "    bad.loc[n*2,'样本数'] = (df3['MONTHS_BALANCE_x'] - df3['MONTHS_BALANCE_y'] <= 20).agg(sum)\n",
    "    bad.loc[n*2+1,'样本数'] = 247498 - bad.loc[n*2,'样本数']\n",
    "    n = n + 1\n",
    "bad.set_index('逾期情况',inplace=True)\n",
    "bad['总样本数'] = 247498\n",
    "bad['样本占比'] = (bad['样本数']/bad['总样本数']).apply(lambda x: format(x,'.2%'))\n",
    "bad"
   ]
  },
  {
   "cell_type": "markdown",
   "metadata": {},
   "source": [
    "#### 生成task4分箱要用的数据"
   ]
  },
  {
   "cell_type": "code",
   "execution_count": 61,
   "metadata": {},
   "outputs": [],
   "source": [
    "# 给cre添加is_ovd列\n",
    "df1 = cre[cre['STATUS']=='2'].drop_duplicates('ID',keep='last')\n",
    "df2 = cre.drop_duplicates('ID',keep='last').loc[:,['ID','MONTHS_BALANCE']]\n",
    "df3 = pd.merge(df1,df2,on='ID',how='left')\n",
    "id4 = df3[(df3['MONTHS_BALANCE_x'] - df3['MONTHS_BALANCE_y']) <= 20]['ID']\n",
    "cre.loc[cre['ID'].isin(id4),'is_ovd'] = 1\n",
    "cre.fillna(0,inplace=True)"
   ]
  },
  {
   "cell_type": "code",
   "execution_count": 65,
   "metadata": {},
   "outputs": [
    {
     "data": {
      "text/html": [
       "<div>\n",
       "<style scoped>\n",
       "    .dataframe tbody tr th:only-of-type {\n",
       "        vertical-align: middle;\n",
       "    }\n",
       "\n",
       "    .dataframe tbody tr th {\n",
       "        vertical-align: top;\n",
       "    }\n",
       "\n",
       "    .dataframe thead th {\n",
       "        text-align: right;\n",
       "    }\n",
       "</style>\n",
       "<table border=\"1\" class=\"dataframe\">\n",
       "  <thead>\n",
       "    <tr style=\"text-align: right;\">\n",
       "      <th></th>\n",
       "      <th>ID</th>\n",
       "      <th>is_ovd</th>\n",
       "      <th>CODE_GENDER</th>\n",
       "      <th>FLAG_OWN_CAR</th>\n",
       "      <th>FLAG_OWN_REALTY</th>\n",
       "      <th>CNT_CHILDREN</th>\n",
       "      <th>AMT_INCOME_TOTAL</th>\n",
       "      <th>NAME_INCOME_TYPE</th>\n",
       "      <th>NAME_EDUCATION_TYPE</th>\n",
       "      <th>NAME_FAMILY_STATUS</th>\n",
       "      <th>NAME_HOUSING_TYPE</th>\n",
       "      <th>DAYS_BIRTH</th>\n",
       "      <th>DAYS_EMPLOYED</th>\n",
       "      <th>FLAG_MOBIL</th>\n",
       "      <th>FLAG_WORK_PHONE</th>\n",
       "      <th>FLAG_PHONE</th>\n",
       "      <th>FLAG_EMAIL</th>\n",
       "      <th>OCCUPATION_TYPE</th>\n",
       "      <th>CNT_FAM_MEMBERS</th>\n",
       "    </tr>\n",
       "  </thead>\n",
       "  <tbody>\n",
       "    <tr>\n",
       "      <td>0</td>\n",
       "      <td>5008806</td>\n",
       "      <td>0.0</td>\n",
       "      <td>M</td>\n",
       "      <td>Y</td>\n",
       "      <td>Y</td>\n",
       "      <td>0</td>\n",
       "      <td>112500.0</td>\n",
       "      <td>Working</td>\n",
       "      <td>Secondary / secondary special</td>\n",
       "      <td>Married</td>\n",
       "      <td>House / apartment</td>\n",
       "      <td>-21474</td>\n",
       "      <td>-1134</td>\n",
       "      <td>1</td>\n",
       "      <td>0</td>\n",
       "      <td>0</td>\n",
       "      <td>0</td>\n",
       "      <td>Security staff</td>\n",
       "      <td>2.0</td>\n",
       "    </tr>\n",
       "    <tr>\n",
       "      <td>1</td>\n",
       "      <td>5008809</td>\n",
       "      <td>0.0</td>\n",
       "      <td>F</td>\n",
       "      <td>N</td>\n",
       "      <td>Y</td>\n",
       "      <td>0</td>\n",
       "      <td>270000.0</td>\n",
       "      <td>Commercial associate</td>\n",
       "      <td>Secondary / secondary special</td>\n",
       "      <td>Single / not married</td>\n",
       "      <td>House / apartment</td>\n",
       "      <td>-19110</td>\n",
       "      <td>-3051</td>\n",
       "      <td>1</td>\n",
       "      <td>0</td>\n",
       "      <td>1</td>\n",
       "      <td>1</td>\n",
       "      <td>Sales staff</td>\n",
       "      <td>1.0</td>\n",
       "    </tr>\n",
       "    <tr>\n",
       "      <td>2</td>\n",
       "      <td>5008810</td>\n",
       "      <td>0.0</td>\n",
       "      <td>F</td>\n",
       "      <td>N</td>\n",
       "      <td>Y</td>\n",
       "      <td>0</td>\n",
       "      <td>270000.0</td>\n",
       "      <td>Commercial associate</td>\n",
       "      <td>Secondary / secondary special</td>\n",
       "      <td>Single / not married</td>\n",
       "      <td>House / apartment</td>\n",
       "      <td>-19110</td>\n",
       "      <td>-3051</td>\n",
       "      <td>1</td>\n",
       "      <td>0</td>\n",
       "      <td>1</td>\n",
       "      <td>1</td>\n",
       "      <td>Sales staff</td>\n",
       "      <td>1.0</td>\n",
       "    </tr>\n",
       "    <tr>\n",
       "      <td>3</td>\n",
       "      <td>5008811</td>\n",
       "      <td>0.0</td>\n",
       "      <td>F</td>\n",
       "      <td>N</td>\n",
       "      <td>Y</td>\n",
       "      <td>0</td>\n",
       "      <td>270000.0</td>\n",
       "      <td>Commercial associate</td>\n",
       "      <td>Secondary / secondary special</td>\n",
       "      <td>Single / not married</td>\n",
       "      <td>House / apartment</td>\n",
       "      <td>-19110</td>\n",
       "      <td>-3051</td>\n",
       "      <td>1</td>\n",
       "      <td>0</td>\n",
       "      <td>1</td>\n",
       "      <td>1</td>\n",
       "      <td>Sales staff</td>\n",
       "      <td>1.0</td>\n",
       "    </tr>\n",
       "    <tr>\n",
       "      <td>4</td>\n",
       "      <td>5008812</td>\n",
       "      <td>0.0</td>\n",
       "      <td>F</td>\n",
       "      <td>N</td>\n",
       "      <td>Y</td>\n",
       "      <td>0</td>\n",
       "      <td>283500.0</td>\n",
       "      <td>Pensioner</td>\n",
       "      <td>Higher education</td>\n",
       "      <td>Separated</td>\n",
       "      <td>House / apartment</td>\n",
       "      <td>-22464</td>\n",
       "      <td>365243</td>\n",
       "      <td>1</td>\n",
       "      <td>0</td>\n",
       "      <td>0</td>\n",
       "      <td>0</td>\n",
       "      <td>NaN</td>\n",
       "      <td>1.0</td>\n",
       "    </tr>\n",
       "  </tbody>\n",
       "</table>\n",
       "</div>"
      ],
      "text/plain": [
       "        ID  is_ovd CODE_GENDER FLAG_OWN_CAR FLAG_OWN_REALTY  CNT_CHILDREN  \\\n",
       "0  5008806     0.0           M            Y               Y             0   \n",
       "1  5008809     0.0           F            N               Y             0   \n",
       "2  5008810     0.0           F            N               Y             0   \n",
       "3  5008811     0.0           F            N               Y             0   \n",
       "4  5008812     0.0           F            N               Y             0   \n",
       "\n",
       "   AMT_INCOME_TOTAL      NAME_INCOME_TYPE            NAME_EDUCATION_TYPE  \\\n",
       "0          112500.0               Working  Secondary / secondary special   \n",
       "1          270000.0  Commercial associate  Secondary / secondary special   \n",
       "2          270000.0  Commercial associate  Secondary / secondary special   \n",
       "3          270000.0  Commercial associate  Secondary / secondary special   \n",
       "4          283500.0             Pensioner               Higher education   \n",
       "\n",
       "     NAME_FAMILY_STATUS  NAME_HOUSING_TYPE  DAYS_BIRTH  DAYS_EMPLOYED  \\\n",
       "0               Married  House / apartment      -21474          -1134   \n",
       "1  Single / not married  House / apartment      -19110          -3051   \n",
       "2  Single / not married  House / apartment      -19110          -3051   \n",
       "3  Single / not married  House / apartment      -19110          -3051   \n",
       "4             Separated  House / apartment      -22464         365243   \n",
       "\n",
       "   FLAG_MOBIL  FLAG_WORK_PHONE  FLAG_PHONE  FLAG_EMAIL OCCUPATION_TYPE  \\\n",
       "0           1                0           0           0  Security staff   \n",
       "1           1                0           1           1     Sales staff   \n",
       "2           1                0           1           1     Sales staff   \n",
       "3           1                0           1           1     Sales staff   \n",
       "4           1                0           0           0             NaN   \n",
       "\n",
       "   CNT_FAM_MEMBERS  \n",
       "0              2.0  \n",
       "1              1.0  \n",
       "2              1.0  \n",
       "3              1.0  \n",
       "4              1.0  "
      ]
     },
     "execution_count": 65,
     "metadata": {},
     "output_type": "execute_result"
    }
   ],
   "source": [
    "# 合并cre和app\n",
    "df3 = cre.drop_duplicates('ID',keep='last').loc[:,['ID','is_ovd']]\n",
    "data_model = pd.merge(df3,app,on='ID',how='left')\n",
    "data_model.head()"
   ]
  },
  {
   "cell_type": "code",
   "execution_count": 68,
   "metadata": {},
   "outputs": [],
   "source": [
    "data_model.to_csv('data_model.csv')"
   ]
  },
  {
   "cell_type": "code",
   "execution_count": null,
   "metadata": {},
   "outputs": [],
   "source": []
  }
 ],
 "metadata": {
  "kernelspec": {
   "display_name": "Python 3",
   "language": "python",
   "name": "python3"
  },
  "language_info": {
   "codemirror_mode": {
    "name": "ipython",
    "version": 3
   },
   "file_extension": ".py",
   "mimetype": "text/x-python",
   "name": "python",
   "nbconvert_exporter": "python",
   "pygments_lexer": "ipython3",
   "version": "3.7.4"
  }
 },
 "nbformat": 4,
 "nbformat_minor": 2
}
